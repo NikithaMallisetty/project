{
  "nbformat": 4,
  "nbformat_minor": 0,
  "metadata": {
    "colab": {
      "provenance": [],
      "authorship_tag": "ABX9TyMuaWtYXa90t8KHSMkF76Se",
      "include_colab_link": true
    },
    "kernelspec": {
      "name": "python3",
      "display_name": "Python 3"
    },
    "language_info": {
      "name": "python"
    }
  },
  "cells": [
    {
      "cell_type": "markdown",
      "metadata": {
        "id": "view-in-github",
        "colab_type": "text"
      },
      "source": [
        "<a href=\"https://colab.research.google.com/github/NikithaMallisetty/project/blob/main/Movies_Recomendation.ipynb\" target=\"_parent\"><img src=\"https://colab.research.google.com/assets/colab-badge.svg\" alt=\"Open In Colab\"/></a>"
      ]
    },
    {
      "cell_type": "markdown",
      "source": [
        "Title of Project\n",
        "\n",
        "MOVIE RECOMMENDATION\n",
        "\n",
        "OBJECTIVE\n",
        "\n",
        "TO RECOMMEND TOP 30 MOVIES USING SOME MACHINE LEARNING LIBRARIES\n",
        "\n",
        "DATA SOURCE YBI FOUNDATION GITHUB DATA https://github.com/YBIFoundation/Dataset\n",
        "\n",
        "IMPORT LIBRARIES"
      ],
      "metadata": {
        "id": "GZSCkfDrT9hU"
      }
    },
    {
      "cell_type": "code",
      "source": [
        "import pandas as pd\n",
        "from sklearn.feature_extraction.text import TfidfVectorizer\n",
        "from sklearn.metrics.pairwise import cosine_similarity\n",
        "import difflib"
      ],
      "metadata": {
        "id": "xg8wSqIvUCV_"
      },
      "execution_count": null,
      "outputs": []
    },
    {
      "cell_type": "markdown",
      "source": [
        "IMPORT DATA"
      ],
      "metadata": {
        "id": "p0L-XIvjUQgy"
      }
    },
    {
      "cell_type": "code",
      "source": [
        "movie_list=pd.read_csv(\"https://github.com/YBIFoundation/Dataset/raw/main/Movies%20Recommendation.csv\")"
      ],
      "metadata": {
        "id": "1WisA7lOUTHp"
      },
      "execution_count": null,
      "outputs": []
    },
    {
      "cell_type": "markdown",
      "source": [
        "DESCRIBE DATA"
      ],
      "metadata": {
        "id": "ZY9qH4ISUZEa"
      }
    },
    {
      "cell_type": "code",
      "source": [
        "movie_list.describe()"
      ],
      "metadata": {
        "colab": {
          "base_uri": "https://localhost:8080/",
          "height": 300
        },
        "id": "m0-A5uJaUZ1U",
        "outputId": "0b521b42-62f3-49e6-ea48-e55a5167196b"
      },
      "execution_count": null,
      "outputs": [
        {
          "output_type": "execute_result",
          "data": {
            "text/plain": [
              "          Movie_ID  Movie_Budget  Movie_Popularity  Movie_Revenue  \\\n",
              "count  4760.000000  4.760000e+03       4760.000000   4.760000e+03   \n",
              "mean   2382.566387  2.920129e+07         21.599510   8.263743e+07   \n",
              "std    1377.270159  4.075620e+07         31.887919   1.630554e+08   \n",
              "min       1.000000  0.000000e+00          0.000372   0.000000e+00   \n",
              "25%    1190.750000  9.257500e+05          4.807074   0.000000e+00   \n",
              "50%    2380.500000  1.500000e+07         13.119058   1.944716e+07   \n",
              "75%    3572.250000  4.000000e+07         28.411929   9.341276e+07   \n",
              "max    4788.000000  3.800000e+08        875.581305   2.787965e+09   \n",
              "\n",
              "       Movie_Runtime   Movie_Vote  Movie_Vote_Count  \n",
              "count    4758.000000  4760.000000       4760.000000  \n",
              "mean      107.184111     6.113866        692.508403  \n",
              "std        21.960332     1.141294       1235.007337  \n",
              "min         0.000000     0.000000          0.000000  \n",
              "25%        94.000000     5.600000         55.000000  \n",
              "50%       104.000000     6.200000        238.000000  \n",
              "75%       118.000000     6.800000        740.250000  \n",
              "max       338.000000    10.000000      13752.000000  "
            ],
            "text/html": [
              "\n",
              "\n",
              "  <div id=\"df-59f2240d-b3fb-4987-8f2e-68980bee6d87\">\n",
              "    <div class=\"colab-df-container\">\n",
              "      <div>\n",
              "<style scoped>\n",
              "    .dataframe tbody tr th:only-of-type {\n",
              "        vertical-align: middle;\n",
              "    }\n",
              "\n",
              "    .dataframe tbody tr th {\n",
              "        vertical-align: top;\n",
              "    }\n",
              "\n",
              "    .dataframe thead th {\n",
              "        text-align: right;\n",
              "    }\n",
              "</style>\n",
              "<table border=\"1\" class=\"dataframe\">\n",
              "  <thead>\n",
              "    <tr style=\"text-align: right;\">\n",
              "      <th></th>\n",
              "      <th>Movie_ID</th>\n",
              "      <th>Movie_Budget</th>\n",
              "      <th>Movie_Popularity</th>\n",
              "      <th>Movie_Revenue</th>\n",
              "      <th>Movie_Runtime</th>\n",
              "      <th>Movie_Vote</th>\n",
              "      <th>Movie_Vote_Count</th>\n",
              "    </tr>\n",
              "  </thead>\n",
              "  <tbody>\n",
              "    <tr>\n",
              "      <th>count</th>\n",
              "      <td>4760.000000</td>\n",
              "      <td>4.760000e+03</td>\n",
              "      <td>4760.000000</td>\n",
              "      <td>4.760000e+03</td>\n",
              "      <td>4758.000000</td>\n",
              "      <td>4760.000000</td>\n",
              "      <td>4760.000000</td>\n",
              "    </tr>\n",
              "    <tr>\n",
              "      <th>mean</th>\n",
              "      <td>2382.566387</td>\n",
              "      <td>2.920129e+07</td>\n",
              "      <td>21.599510</td>\n",
              "      <td>8.263743e+07</td>\n",
              "      <td>107.184111</td>\n",
              "      <td>6.113866</td>\n",
              "      <td>692.508403</td>\n",
              "    </tr>\n",
              "    <tr>\n",
              "      <th>std</th>\n",
              "      <td>1377.270159</td>\n",
              "      <td>4.075620e+07</td>\n",
              "      <td>31.887919</td>\n",
              "      <td>1.630554e+08</td>\n",
              "      <td>21.960332</td>\n",
              "      <td>1.141294</td>\n",
              "      <td>1235.007337</td>\n",
              "    </tr>\n",
              "    <tr>\n",
              "      <th>min</th>\n",
              "      <td>1.000000</td>\n",
              "      <td>0.000000e+00</td>\n",
              "      <td>0.000372</td>\n",
              "      <td>0.000000e+00</td>\n",
              "      <td>0.000000</td>\n",
              "      <td>0.000000</td>\n",
              "      <td>0.000000</td>\n",
              "    </tr>\n",
              "    <tr>\n",
              "      <th>25%</th>\n",
              "      <td>1190.750000</td>\n",
              "      <td>9.257500e+05</td>\n",
              "      <td>4.807074</td>\n",
              "      <td>0.000000e+00</td>\n",
              "      <td>94.000000</td>\n",
              "      <td>5.600000</td>\n",
              "      <td>55.000000</td>\n",
              "    </tr>\n",
              "    <tr>\n",
              "      <th>50%</th>\n",
              "      <td>2380.500000</td>\n",
              "      <td>1.500000e+07</td>\n",
              "      <td>13.119058</td>\n",
              "      <td>1.944716e+07</td>\n",
              "      <td>104.000000</td>\n",
              "      <td>6.200000</td>\n",
              "      <td>238.000000</td>\n",
              "    </tr>\n",
              "    <tr>\n",
              "      <th>75%</th>\n",
              "      <td>3572.250000</td>\n",
              "      <td>4.000000e+07</td>\n",
              "      <td>28.411929</td>\n",
              "      <td>9.341276e+07</td>\n",
              "      <td>118.000000</td>\n",
              "      <td>6.800000</td>\n",
              "      <td>740.250000</td>\n",
              "    </tr>\n",
              "    <tr>\n",
              "      <th>max</th>\n",
              "      <td>4788.000000</td>\n",
              "      <td>3.800000e+08</td>\n",
              "      <td>875.581305</td>\n",
              "      <td>2.787965e+09</td>\n",
              "      <td>338.000000</td>\n",
              "      <td>10.000000</td>\n",
              "      <td>13752.000000</td>\n",
              "    </tr>\n",
              "  </tbody>\n",
              "</table>\n",
              "</div>\n",
              "      <button class=\"colab-df-convert\" onclick=\"convertToInteractive('df-59f2240d-b3fb-4987-8f2e-68980bee6d87')\"\n",
              "              title=\"Convert this dataframe to an interactive table.\"\n",
              "              style=\"display:none;\">\n",
              "\n",
              "  <svg xmlns=\"http://www.w3.org/2000/svg\" height=\"24px\"viewBox=\"0 0 24 24\"\n",
              "       width=\"24px\">\n",
              "    <path d=\"M0 0h24v24H0V0z\" fill=\"none\"/>\n",
              "    <path d=\"M18.56 5.44l.94 2.06.94-2.06 2.06-.94-2.06-.94-.94-2.06-.94 2.06-2.06.94zm-11 1L8.5 8.5l.94-2.06 2.06-.94-2.06-.94L8.5 2.5l-.94 2.06-2.06.94zm10 10l.94 2.06.94-2.06 2.06-.94-2.06-.94-.94-2.06-.94 2.06-2.06.94z\"/><path d=\"M17.41 7.96l-1.37-1.37c-.4-.4-.92-.59-1.43-.59-.52 0-1.04.2-1.43.59L10.3 9.45l-7.72 7.72c-.78.78-.78 2.05 0 2.83L4 21.41c.39.39.9.59 1.41.59.51 0 1.02-.2 1.41-.59l7.78-7.78 2.81-2.81c.8-.78.8-2.07 0-2.86zM5.41 20L4 18.59l7.72-7.72 1.47 1.35L5.41 20z\"/>\n",
              "  </svg>\n",
              "      </button>\n",
              "\n",
              "\n",
              "\n",
              "    <div id=\"df-2af4c928-d6dc-4542-a326-696e974004b2\">\n",
              "      <button class=\"colab-df-quickchart\" onclick=\"quickchart('df-2af4c928-d6dc-4542-a326-696e974004b2')\"\n",
              "              title=\"Suggest charts.\"\n",
              "              style=\"display:none;\">\n",
              "\n",
              "<svg xmlns=\"http://www.w3.org/2000/svg\" height=\"24px\"viewBox=\"0 0 24 24\"\n",
              "     width=\"24px\">\n",
              "    <g>\n",
              "        <path d=\"M19 3H5c-1.1 0-2 .9-2 2v14c0 1.1.9 2 2 2h14c1.1 0 2-.9 2-2V5c0-1.1-.9-2-2-2zM9 17H7v-7h2v7zm4 0h-2V7h2v10zm4 0h-2v-4h2v4z\"/>\n",
              "    </g>\n",
              "</svg>\n",
              "      </button>\n",
              "    </div>\n",
              "\n",
              "<style>\n",
              "  .colab-df-quickchart {\n",
              "    background-color: #E8F0FE;\n",
              "    border: none;\n",
              "    border-radius: 50%;\n",
              "    cursor: pointer;\n",
              "    display: none;\n",
              "    fill: #1967D2;\n",
              "    height: 32px;\n",
              "    padding: 0 0 0 0;\n",
              "    width: 32px;\n",
              "  }\n",
              "\n",
              "  .colab-df-quickchart:hover {\n",
              "    background-color: #E2EBFA;\n",
              "    box-shadow: 0px 1px 2px rgba(60, 64, 67, 0.3), 0px 1px 3px 1px rgba(60, 64, 67, 0.15);\n",
              "    fill: #174EA6;\n",
              "  }\n",
              "\n",
              "  [theme=dark] .colab-df-quickchart {\n",
              "    background-color: #3B4455;\n",
              "    fill: #D2E3FC;\n",
              "  }\n",
              "\n",
              "  [theme=dark] .colab-df-quickchart:hover {\n",
              "    background-color: #434B5C;\n",
              "    box-shadow: 0px 1px 3px 1px rgba(0, 0, 0, 0.15);\n",
              "    filter: drop-shadow(0px 1px 2px rgba(0, 0, 0, 0.3));\n",
              "    fill: #FFFFFF;\n",
              "  }\n",
              "</style>\n",
              "\n",
              "    <script>\n",
              "      async function quickchart(key) {\n",
              "        const containerElement = document.querySelector('#' + key);\n",
              "        const charts = await google.colab.kernel.invokeFunction(\n",
              "            'suggestCharts', [key], {});\n",
              "      }\n",
              "    </script>\n",
              "\n",
              "      <script>\n",
              "\n",
              "function displayQuickchartButton(domScope) {\n",
              "  let quickchartButtonEl =\n",
              "    domScope.querySelector('#df-2af4c928-d6dc-4542-a326-696e974004b2 button.colab-df-quickchart');\n",
              "  quickchartButtonEl.style.display =\n",
              "    google.colab.kernel.accessAllowed ? 'block' : 'none';\n",
              "}\n",
              "\n",
              "        displayQuickchartButton(document);\n",
              "      </script>\n",
              "      <style>\n",
              "    .colab-df-container {\n",
              "      display:flex;\n",
              "      flex-wrap:wrap;\n",
              "      gap: 12px;\n",
              "    }\n",
              "\n",
              "    .colab-df-convert {\n",
              "      background-color: #E8F0FE;\n",
              "      border: none;\n",
              "      border-radius: 50%;\n",
              "      cursor: pointer;\n",
              "      display: none;\n",
              "      fill: #1967D2;\n",
              "      height: 32px;\n",
              "      padding: 0 0 0 0;\n",
              "      width: 32px;\n",
              "    }\n",
              "\n",
              "    .colab-df-convert:hover {\n",
              "      background-color: #E2EBFA;\n",
              "      box-shadow: 0px 1px 2px rgba(60, 64, 67, 0.3), 0px 1px 3px 1px rgba(60, 64, 67, 0.15);\n",
              "      fill: #174EA6;\n",
              "    }\n",
              "\n",
              "    [theme=dark] .colab-df-convert {\n",
              "      background-color: #3B4455;\n",
              "      fill: #D2E3FC;\n",
              "    }\n",
              "\n",
              "    [theme=dark] .colab-df-convert:hover {\n",
              "      background-color: #434B5C;\n",
              "      box-shadow: 0px 1px 3px 1px rgba(0, 0, 0, 0.15);\n",
              "      filter: drop-shadow(0px 1px 2px rgba(0, 0, 0, 0.3));\n",
              "      fill: #FFFFFF;\n",
              "    }\n",
              "  </style>\n",
              "\n",
              "      <script>\n",
              "        const buttonEl =\n",
              "          document.querySelector('#df-59f2240d-b3fb-4987-8f2e-68980bee6d87 button.colab-df-convert');\n",
              "        buttonEl.style.display =\n",
              "          google.colab.kernel.accessAllowed ? 'block' : 'none';\n",
              "\n",
              "        async function convertToInteractive(key) {\n",
              "          const element = document.querySelector('#df-59f2240d-b3fb-4987-8f2e-68980bee6d87');\n",
              "          const dataTable =\n",
              "            await google.colab.kernel.invokeFunction('convertToInteractive',\n",
              "                                                     [key], {});\n",
              "          if (!dataTable) return;\n",
              "\n",
              "          const docLinkHtml = 'Like what you see? Visit the ' +\n",
              "            '<a target=\"_blank\" href=https://colab.research.google.com/notebooks/data_table.ipynb>data table notebook</a>'\n",
              "            + ' to learn more about interactive tables.';\n",
              "          element.innerHTML = '';\n",
              "          dataTable['output_type'] = 'display_data';\n",
              "          await google.colab.output.renderOutput(dataTable, element);\n",
              "          const docLink = document.createElement('div');\n",
              "          docLink.innerHTML = docLinkHtml;\n",
              "          element.appendChild(docLink);\n",
              "        }\n",
              "      </script>\n",
              "    </div>\n",
              "  </div>\n"
            ]
          },
          "metadata": {},
          "execution_count": 3
        }
      ]
    },
    {
      "cell_type": "code",
      "source": [
        "movie_list.head()"
      ],
      "metadata": {
        "colab": {
          "base_uri": "https://localhost:8080/",
          "height": 716
        },
        "id": "k3H3kVUYUkOm",
        "outputId": "e29b8dac-424a-4e91-9dbf-bef354157778"
      },
      "execution_count": null,
      "outputs": [
        {
          "output_type": "execute_result",
          "data": {
            "text/plain": [
              "   Movie_ID      Movie_Title                       Movie_Genre Movie_Language  \\\n",
              "0         1       Four Rooms                      Crime Comedy             en   \n",
              "1         2        Star Wars  Adventure Action Science Fiction             en   \n",
              "2         3     Finding Nemo                  Animation Family             en   \n",
              "3         4     Forrest Gump              Comedy Drama Romance             en   \n",
              "4         5  American Beauty                             Drama             en   \n",
              "\n",
              "   Movie_Budget  Movie_Popularity Movie_Release_Date  Movie_Revenue  \\\n",
              "0       4000000         22.876230         09-12-1995        4300000   \n",
              "1      11000000        126.393695         25-05-1977      775398007   \n",
              "2      94000000         85.688789         30-05-2003      940335536   \n",
              "3      55000000        138.133331         06-07-1994      677945399   \n",
              "4      15000000         80.878605         15-09-1999      356296601   \n",
              "\n",
              "   Movie_Runtime  Movie_Vote  ...  \\\n",
              "0           98.0         6.5  ...   \n",
              "1          121.0         8.1  ...   \n",
              "2          100.0         7.6  ...   \n",
              "3          142.0         8.2  ...   \n",
              "4          122.0         7.9  ...   \n",
              "\n",
              "                                      Movie_Homepage  \\\n",
              "0                                                NaN   \n",
              "1  http://www.starwars.com/films/star-wars-episod...   \n",
              "2              http://movies.disney.com/finding-nemo   \n",
              "3                                                NaN   \n",
              "4                      http://www.dreamworks.com/ab/   \n",
              "\n",
              "                                      Movie_Keywords  \\\n",
              "0          hotel new year's eve witch bet hotel room   \n",
              "1        android galaxy hermit death star lightsaber   \n",
              "2  father son relationship harbor underwater fish...   \n",
              "3  vietnam veteran hippie mentally disabled runni...   \n",
              "4  male nudity female nudity adultery midlife cri...   \n",
              "\n",
              "                                      Movie_Overview  \\\n",
              "0  It's Ted the Bellhop's first night on the job....   \n",
              "1  Princess Leia is captured and held hostage by ...   \n",
              "2  Nemo, an adventurous young clownfish, is unexp...   \n",
              "3  A man with a low IQ has accomplished great thi...   \n",
              "4  Lester Burnham, a depressed suburban father in...   \n",
              "\n",
              "                              Movie_Production_House  \\\n",
              "0  [{\"name\": \"Miramax Films\", \"id\": 14}, {\"name\":...   \n",
              "1  [{\"name\": \"Lucasfilm\", \"id\": 1}, {\"name\": \"Twe...   \n",
              "2     [{\"name\": \"Pixar Animation Studios\", \"id\": 3}]   \n",
              "3          [{\"name\": \"Paramount Pictures\", \"id\": 4}]   \n",
              "4  [{\"name\": \"DreamWorks SKG\", \"id\": 27}, {\"name\"...   \n",
              "\n",
              "                            Movie_Production_Country  \\\n",
              "0  [{\"iso_3166_1\": \"US\", \"name\": \"United States o...   \n",
              "1  [{\"iso_3166_1\": \"US\", \"name\": \"United States o...   \n",
              "2  [{\"iso_3166_1\": \"US\", \"name\": \"United States o...   \n",
              "3  [{\"iso_3166_1\": \"US\", \"name\": \"United States o...   \n",
              "4  [{\"iso_3166_1\": \"US\", \"name\": \"United States o...   \n",
              "\n",
              "                      Movie_Spoken_Language  \\\n",
              "0  [{\"iso_639_1\": \"en\", \"name\": \"English\"}]   \n",
              "1  [{\"iso_639_1\": \"en\", \"name\": \"English\"}]   \n",
              "2  [{\"iso_639_1\": \"en\", \"name\": \"English\"}]   \n",
              "3  [{\"iso_639_1\": \"en\", \"name\": \"English\"}]   \n",
              "4  [{\"iso_639_1\": \"en\", \"name\": \"English\"}]   \n",
              "\n",
              "                                       Movie_Tagline  \\\n",
              "0  Twelve outrageous guests. Four scandalous requ...   \n",
              "1       A long time ago in a galaxy far, far away...   \n",
              "2  There are 3.7 trillion fish in the ocean, they...   \n",
              "3  The world will never be the same, once you've ...   \n",
              "4                                       Look closer.   \n",
              "\n",
              "                                          Movie_Cast  \\\n",
              "0  Tim Roth Antonio Banderas Jennifer Beals Madon...   \n",
              "1  Mark Hamill Harrison Ford Carrie Fisher Peter ...   \n",
              "2  Albert Brooks Ellen DeGeneres Alexander Gould ...   \n",
              "3  Tom Hanks Robin Wright Gary Sinise Mykelti Wil...   \n",
              "4  Kevin Spacey Annette Bening Thora Birch Wes Be...   \n",
              "\n",
              "                                          Movie_Crew   Movie_Director  \n",
              "0  [{'name': 'Allison Anders', 'gender': 1, 'depa...   Allison Anders  \n",
              "1  [{'name': 'George Lucas', 'gender': 2, 'depart...     George Lucas  \n",
              "2  [{'name': 'Andrew Stanton', 'gender': 2, 'depa...   Andrew Stanton  \n",
              "3  [{'name': 'Alan Silvestri', 'gender': 2, 'depa...  Robert Zemeckis  \n",
              "4  [{'name': 'Thomas Newman', 'gender': 2, 'depar...       Sam Mendes  \n",
              "\n",
              "[5 rows x 21 columns]"
            ],
            "text/html": [
              "\n",
              "\n",
              "  <div id=\"df-eb66b5cb-8a6c-4536-afdb-29a9b9da41c1\">\n",
              "    <div class=\"colab-df-container\">\n",
              "      <div>\n",
              "<style scoped>\n",
              "    .dataframe tbody tr th:only-of-type {\n",
              "        vertical-align: middle;\n",
              "    }\n",
              "\n",
              "    .dataframe tbody tr th {\n",
              "        vertical-align: top;\n",
              "    }\n",
              "\n",
              "    .dataframe thead th {\n",
              "        text-align: right;\n",
              "    }\n",
              "</style>\n",
              "<table border=\"1\" class=\"dataframe\">\n",
              "  <thead>\n",
              "    <tr style=\"text-align: right;\">\n",
              "      <th></th>\n",
              "      <th>Movie_ID</th>\n",
              "      <th>Movie_Title</th>\n",
              "      <th>Movie_Genre</th>\n",
              "      <th>Movie_Language</th>\n",
              "      <th>Movie_Budget</th>\n",
              "      <th>Movie_Popularity</th>\n",
              "      <th>Movie_Release_Date</th>\n",
              "      <th>Movie_Revenue</th>\n",
              "      <th>Movie_Runtime</th>\n",
              "      <th>Movie_Vote</th>\n",
              "      <th>...</th>\n",
              "      <th>Movie_Homepage</th>\n",
              "      <th>Movie_Keywords</th>\n",
              "      <th>Movie_Overview</th>\n",
              "      <th>Movie_Production_House</th>\n",
              "      <th>Movie_Production_Country</th>\n",
              "      <th>Movie_Spoken_Language</th>\n",
              "      <th>Movie_Tagline</th>\n",
              "      <th>Movie_Cast</th>\n",
              "      <th>Movie_Crew</th>\n",
              "      <th>Movie_Director</th>\n",
              "    </tr>\n",
              "  </thead>\n",
              "  <tbody>\n",
              "    <tr>\n",
              "      <th>0</th>\n",
              "      <td>1</td>\n",
              "      <td>Four Rooms</td>\n",
              "      <td>Crime Comedy</td>\n",
              "      <td>en</td>\n",
              "      <td>4000000</td>\n",
              "      <td>22.876230</td>\n",
              "      <td>09-12-1995</td>\n",
              "      <td>4300000</td>\n",
              "      <td>98.0</td>\n",
              "      <td>6.5</td>\n",
              "      <td>...</td>\n",
              "      <td>NaN</td>\n",
              "      <td>hotel new year's eve witch bet hotel room</td>\n",
              "      <td>It's Ted the Bellhop's first night on the job....</td>\n",
              "      <td>[{\"name\": \"Miramax Films\", \"id\": 14}, {\"name\":...</td>\n",
              "      <td>[{\"iso_3166_1\": \"US\", \"name\": \"United States o...</td>\n",
              "      <td>[{\"iso_639_1\": \"en\", \"name\": \"English\"}]</td>\n",
              "      <td>Twelve outrageous guests. Four scandalous requ...</td>\n",
              "      <td>Tim Roth Antonio Banderas Jennifer Beals Madon...</td>\n",
              "      <td>[{'name': 'Allison Anders', 'gender': 1, 'depa...</td>\n",
              "      <td>Allison Anders</td>\n",
              "    </tr>\n",
              "    <tr>\n",
              "      <th>1</th>\n",
              "      <td>2</td>\n",
              "      <td>Star Wars</td>\n",
              "      <td>Adventure Action Science Fiction</td>\n",
              "      <td>en</td>\n",
              "      <td>11000000</td>\n",
              "      <td>126.393695</td>\n",
              "      <td>25-05-1977</td>\n",
              "      <td>775398007</td>\n",
              "      <td>121.0</td>\n",
              "      <td>8.1</td>\n",
              "      <td>...</td>\n",
              "      <td>http://www.starwars.com/films/star-wars-episod...</td>\n",
              "      <td>android galaxy hermit death star lightsaber</td>\n",
              "      <td>Princess Leia is captured and held hostage by ...</td>\n",
              "      <td>[{\"name\": \"Lucasfilm\", \"id\": 1}, {\"name\": \"Twe...</td>\n",
              "      <td>[{\"iso_3166_1\": \"US\", \"name\": \"United States o...</td>\n",
              "      <td>[{\"iso_639_1\": \"en\", \"name\": \"English\"}]</td>\n",
              "      <td>A long time ago in a galaxy far, far away...</td>\n",
              "      <td>Mark Hamill Harrison Ford Carrie Fisher Peter ...</td>\n",
              "      <td>[{'name': 'George Lucas', 'gender': 2, 'depart...</td>\n",
              "      <td>George Lucas</td>\n",
              "    </tr>\n",
              "    <tr>\n",
              "      <th>2</th>\n",
              "      <td>3</td>\n",
              "      <td>Finding Nemo</td>\n",
              "      <td>Animation Family</td>\n",
              "      <td>en</td>\n",
              "      <td>94000000</td>\n",
              "      <td>85.688789</td>\n",
              "      <td>30-05-2003</td>\n",
              "      <td>940335536</td>\n",
              "      <td>100.0</td>\n",
              "      <td>7.6</td>\n",
              "      <td>...</td>\n",
              "      <td>http://movies.disney.com/finding-nemo</td>\n",
              "      <td>father son relationship harbor underwater fish...</td>\n",
              "      <td>Nemo, an adventurous young clownfish, is unexp...</td>\n",
              "      <td>[{\"name\": \"Pixar Animation Studios\", \"id\": 3}]</td>\n",
              "      <td>[{\"iso_3166_1\": \"US\", \"name\": \"United States o...</td>\n",
              "      <td>[{\"iso_639_1\": \"en\", \"name\": \"English\"}]</td>\n",
              "      <td>There are 3.7 trillion fish in the ocean, they...</td>\n",
              "      <td>Albert Brooks Ellen DeGeneres Alexander Gould ...</td>\n",
              "      <td>[{'name': 'Andrew Stanton', 'gender': 2, 'depa...</td>\n",
              "      <td>Andrew Stanton</td>\n",
              "    </tr>\n",
              "    <tr>\n",
              "      <th>3</th>\n",
              "      <td>4</td>\n",
              "      <td>Forrest Gump</td>\n",
              "      <td>Comedy Drama Romance</td>\n",
              "      <td>en</td>\n",
              "      <td>55000000</td>\n",
              "      <td>138.133331</td>\n",
              "      <td>06-07-1994</td>\n",
              "      <td>677945399</td>\n",
              "      <td>142.0</td>\n",
              "      <td>8.2</td>\n",
              "      <td>...</td>\n",
              "      <td>NaN</td>\n",
              "      <td>vietnam veteran hippie mentally disabled runni...</td>\n",
              "      <td>A man with a low IQ has accomplished great thi...</td>\n",
              "      <td>[{\"name\": \"Paramount Pictures\", \"id\": 4}]</td>\n",
              "      <td>[{\"iso_3166_1\": \"US\", \"name\": \"United States o...</td>\n",
              "      <td>[{\"iso_639_1\": \"en\", \"name\": \"English\"}]</td>\n",
              "      <td>The world will never be the same, once you've ...</td>\n",
              "      <td>Tom Hanks Robin Wright Gary Sinise Mykelti Wil...</td>\n",
              "      <td>[{'name': 'Alan Silvestri', 'gender': 2, 'depa...</td>\n",
              "      <td>Robert Zemeckis</td>\n",
              "    </tr>\n",
              "    <tr>\n",
              "      <th>4</th>\n",
              "      <td>5</td>\n",
              "      <td>American Beauty</td>\n",
              "      <td>Drama</td>\n",
              "      <td>en</td>\n",
              "      <td>15000000</td>\n",
              "      <td>80.878605</td>\n",
              "      <td>15-09-1999</td>\n",
              "      <td>356296601</td>\n",
              "      <td>122.0</td>\n",
              "      <td>7.9</td>\n",
              "      <td>...</td>\n",
              "      <td>http://www.dreamworks.com/ab/</td>\n",
              "      <td>male nudity female nudity adultery midlife cri...</td>\n",
              "      <td>Lester Burnham, a depressed suburban father in...</td>\n",
              "      <td>[{\"name\": \"DreamWorks SKG\", \"id\": 27}, {\"name\"...</td>\n",
              "      <td>[{\"iso_3166_1\": \"US\", \"name\": \"United States o...</td>\n",
              "      <td>[{\"iso_639_1\": \"en\", \"name\": \"English\"}]</td>\n",
              "      <td>Look closer.</td>\n",
              "      <td>Kevin Spacey Annette Bening Thora Birch Wes Be...</td>\n",
              "      <td>[{'name': 'Thomas Newman', 'gender': 2, 'depar...</td>\n",
              "      <td>Sam Mendes</td>\n",
              "    </tr>\n",
              "  </tbody>\n",
              "</table>\n",
              "<p>5 rows × 21 columns</p>\n",
              "</div>\n",
              "      <button class=\"colab-df-convert\" onclick=\"convertToInteractive('df-eb66b5cb-8a6c-4536-afdb-29a9b9da41c1')\"\n",
              "              title=\"Convert this dataframe to an interactive table.\"\n",
              "              style=\"display:none;\">\n",
              "\n",
              "  <svg xmlns=\"http://www.w3.org/2000/svg\" height=\"24px\"viewBox=\"0 0 24 24\"\n",
              "       width=\"24px\">\n",
              "    <path d=\"M0 0h24v24H0V0z\" fill=\"none\"/>\n",
              "    <path d=\"M18.56 5.44l.94 2.06.94-2.06 2.06-.94-2.06-.94-.94-2.06-.94 2.06-2.06.94zm-11 1L8.5 8.5l.94-2.06 2.06-.94-2.06-.94L8.5 2.5l-.94 2.06-2.06.94zm10 10l.94 2.06.94-2.06 2.06-.94-2.06-.94-.94-2.06-.94 2.06-2.06.94z\"/><path d=\"M17.41 7.96l-1.37-1.37c-.4-.4-.92-.59-1.43-.59-.52 0-1.04.2-1.43.59L10.3 9.45l-7.72 7.72c-.78.78-.78 2.05 0 2.83L4 21.41c.39.39.9.59 1.41.59.51 0 1.02-.2 1.41-.59l7.78-7.78 2.81-2.81c.8-.78.8-2.07 0-2.86zM5.41 20L4 18.59l7.72-7.72 1.47 1.35L5.41 20z\"/>\n",
              "  </svg>\n",
              "      </button>\n",
              "\n",
              "\n",
              "\n",
              "    <div id=\"df-2379421e-51d4-4cfe-bb69-e4db5cf62fd9\">\n",
              "      <button class=\"colab-df-quickchart\" onclick=\"quickchart('df-2379421e-51d4-4cfe-bb69-e4db5cf62fd9')\"\n",
              "              title=\"Suggest charts.\"\n",
              "              style=\"display:none;\">\n",
              "\n",
              "<svg xmlns=\"http://www.w3.org/2000/svg\" height=\"24px\"viewBox=\"0 0 24 24\"\n",
              "     width=\"24px\">\n",
              "    <g>\n",
              "        <path d=\"M19 3H5c-1.1 0-2 .9-2 2v14c0 1.1.9 2 2 2h14c1.1 0 2-.9 2-2V5c0-1.1-.9-2-2-2zM9 17H7v-7h2v7zm4 0h-2V7h2v10zm4 0h-2v-4h2v4z\"/>\n",
              "    </g>\n",
              "</svg>\n",
              "      </button>\n",
              "    </div>\n",
              "\n",
              "<style>\n",
              "  .colab-df-quickchart {\n",
              "    background-color: #E8F0FE;\n",
              "    border: none;\n",
              "    border-radius: 50%;\n",
              "    cursor: pointer;\n",
              "    display: none;\n",
              "    fill: #1967D2;\n",
              "    height: 32px;\n",
              "    padding: 0 0 0 0;\n",
              "    width: 32px;\n",
              "  }\n",
              "\n",
              "  .colab-df-quickchart:hover {\n",
              "    background-color: #E2EBFA;\n",
              "    box-shadow: 0px 1px 2px rgba(60, 64, 67, 0.3), 0px 1px 3px 1px rgba(60, 64, 67, 0.15);\n",
              "    fill: #174EA6;\n",
              "  }\n",
              "\n",
              "  [theme=dark] .colab-df-quickchart {\n",
              "    background-color: #3B4455;\n",
              "    fill: #D2E3FC;\n",
              "  }\n",
              "\n",
              "  [theme=dark] .colab-df-quickchart:hover {\n",
              "    background-color: #434B5C;\n",
              "    box-shadow: 0px 1px 3px 1px rgba(0, 0, 0, 0.15);\n",
              "    filter: drop-shadow(0px 1px 2px rgba(0, 0, 0, 0.3));\n",
              "    fill: #FFFFFF;\n",
              "  }\n",
              "</style>\n",
              "\n",
              "    <script>\n",
              "      async function quickchart(key) {\n",
              "        const containerElement = document.querySelector('#' + key);\n",
              "        const charts = await google.colab.kernel.invokeFunction(\n",
              "            'suggestCharts', [key], {});\n",
              "      }\n",
              "    </script>\n",
              "\n",
              "      <script>\n",
              "\n",
              "function displayQuickchartButton(domScope) {\n",
              "  let quickchartButtonEl =\n",
              "    domScope.querySelector('#df-2379421e-51d4-4cfe-bb69-e4db5cf62fd9 button.colab-df-quickchart');\n",
              "  quickchartButtonEl.style.display =\n",
              "    google.colab.kernel.accessAllowed ? 'block' : 'none';\n",
              "}\n",
              "\n",
              "        displayQuickchartButton(document);\n",
              "      </script>\n",
              "      <style>\n",
              "    .colab-df-container {\n",
              "      display:flex;\n",
              "      flex-wrap:wrap;\n",
              "      gap: 12px;\n",
              "    }\n",
              "\n",
              "    .colab-df-convert {\n",
              "      background-color: #E8F0FE;\n",
              "      border: none;\n",
              "      border-radius: 50%;\n",
              "      cursor: pointer;\n",
              "      display: none;\n",
              "      fill: #1967D2;\n",
              "      height: 32px;\n",
              "      padding: 0 0 0 0;\n",
              "      width: 32px;\n",
              "    }\n",
              "\n",
              "    .colab-df-convert:hover {\n",
              "      background-color: #E2EBFA;\n",
              "      box-shadow: 0px 1px 2px rgba(60, 64, 67, 0.3), 0px 1px 3px 1px rgba(60, 64, 67, 0.15);\n",
              "      fill: #174EA6;\n",
              "    }\n",
              "\n",
              "    [theme=dark] .colab-df-convert {\n",
              "      background-color: #3B4455;\n",
              "      fill: #D2E3FC;\n",
              "    }\n",
              "\n",
              "    [theme=dark] .colab-df-convert:hover {\n",
              "      background-color: #434B5C;\n",
              "      box-shadow: 0px 1px 3px 1px rgba(0, 0, 0, 0.15);\n",
              "      filter: drop-shadow(0px 1px 2px rgba(0, 0, 0, 0.3));\n",
              "      fill: #FFFFFF;\n",
              "    }\n",
              "  </style>\n",
              "\n",
              "      <script>\n",
              "        const buttonEl =\n",
              "          document.querySelector('#df-eb66b5cb-8a6c-4536-afdb-29a9b9da41c1 button.colab-df-convert');\n",
              "        buttonEl.style.display =\n",
              "          google.colab.kernel.accessAllowed ? 'block' : 'none';\n",
              "\n",
              "        async function convertToInteractive(key) {\n",
              "          const element = document.querySelector('#df-eb66b5cb-8a6c-4536-afdb-29a9b9da41c1');\n",
              "          const dataTable =\n",
              "            await google.colab.kernel.invokeFunction('convertToInteractive',\n",
              "                                                     [key], {});\n",
              "          if (!dataTable) return;\n",
              "\n",
              "          const docLinkHtml = 'Like what you see? Visit the ' +\n",
              "            '<a target=\"_blank\" href=https://colab.research.google.com/notebooks/data_table.ipynb>data table notebook</a>'\n",
              "            + ' to learn more about interactive tables.';\n",
              "          element.innerHTML = '';\n",
              "          dataTable['output_type'] = 'display_data';\n",
              "          await google.colab.output.renderOutput(dataTable, element);\n",
              "          const docLink = document.createElement('div');\n",
              "          docLink.innerHTML = docLinkHtml;\n",
              "          element.appendChild(docLink);\n",
              "        }\n",
              "      </script>\n",
              "    </div>\n",
              "  </div>\n"
            ]
          },
          "metadata": {},
          "execution_count": 4
        }
      ]
    },
    {
      "cell_type": "code",
      "source": [
        "movie_list.describe()"
      ],
      "metadata": {
        "colab": {
          "base_uri": "https://localhost:8080/",
          "height": 300
        },
        "id": "4cYw_Kp1Upk2",
        "outputId": "17fd1e85-81d2-45b8-814b-1f1fca025ab3"
      },
      "execution_count": null,
      "outputs": [
        {
          "output_type": "execute_result",
          "data": {
            "text/plain": [
              "          Movie_ID  Movie_Budget  Movie_Popularity  Movie_Revenue  \\\n",
              "count  4760.000000  4.760000e+03       4760.000000   4.760000e+03   \n",
              "mean   2382.566387  2.920129e+07         21.599510   8.263743e+07   \n",
              "std    1377.270159  4.075620e+07         31.887919   1.630554e+08   \n",
              "min       1.000000  0.000000e+00          0.000372   0.000000e+00   \n",
              "25%    1190.750000  9.257500e+05          4.807074   0.000000e+00   \n",
              "50%    2380.500000  1.500000e+07         13.119058   1.944716e+07   \n",
              "75%    3572.250000  4.000000e+07         28.411929   9.341276e+07   \n",
              "max    4788.000000  3.800000e+08        875.581305   2.787965e+09   \n",
              "\n",
              "       Movie_Runtime   Movie_Vote  Movie_Vote_Count  \n",
              "count    4758.000000  4760.000000       4760.000000  \n",
              "mean      107.184111     6.113866        692.508403  \n",
              "std        21.960332     1.141294       1235.007337  \n",
              "min         0.000000     0.000000          0.000000  \n",
              "25%        94.000000     5.600000         55.000000  \n",
              "50%       104.000000     6.200000        238.000000  \n",
              "75%       118.000000     6.800000        740.250000  \n",
              "max       338.000000    10.000000      13752.000000  "
            ],
            "text/html": [
              "\n",
              "\n",
              "  <div id=\"df-e6024e1f-173d-4d05-bebc-16fc4cbb4190\">\n",
              "    <div class=\"colab-df-container\">\n",
              "      <div>\n",
              "<style scoped>\n",
              "    .dataframe tbody tr th:only-of-type {\n",
              "        vertical-align: middle;\n",
              "    }\n",
              "\n",
              "    .dataframe tbody tr th {\n",
              "        vertical-align: top;\n",
              "    }\n",
              "\n",
              "    .dataframe thead th {\n",
              "        text-align: right;\n",
              "    }\n",
              "</style>\n",
              "<table border=\"1\" class=\"dataframe\">\n",
              "  <thead>\n",
              "    <tr style=\"text-align: right;\">\n",
              "      <th></th>\n",
              "      <th>Movie_ID</th>\n",
              "      <th>Movie_Budget</th>\n",
              "      <th>Movie_Popularity</th>\n",
              "      <th>Movie_Revenue</th>\n",
              "      <th>Movie_Runtime</th>\n",
              "      <th>Movie_Vote</th>\n",
              "      <th>Movie_Vote_Count</th>\n",
              "    </tr>\n",
              "  </thead>\n",
              "  <tbody>\n",
              "    <tr>\n",
              "      <th>count</th>\n",
              "      <td>4760.000000</td>\n",
              "      <td>4.760000e+03</td>\n",
              "      <td>4760.000000</td>\n",
              "      <td>4.760000e+03</td>\n",
              "      <td>4758.000000</td>\n",
              "      <td>4760.000000</td>\n",
              "      <td>4760.000000</td>\n",
              "    </tr>\n",
              "    <tr>\n",
              "      <th>mean</th>\n",
              "      <td>2382.566387</td>\n",
              "      <td>2.920129e+07</td>\n",
              "      <td>21.599510</td>\n",
              "      <td>8.263743e+07</td>\n",
              "      <td>107.184111</td>\n",
              "      <td>6.113866</td>\n",
              "      <td>692.508403</td>\n",
              "    </tr>\n",
              "    <tr>\n",
              "      <th>std</th>\n",
              "      <td>1377.270159</td>\n",
              "      <td>4.075620e+07</td>\n",
              "      <td>31.887919</td>\n",
              "      <td>1.630554e+08</td>\n",
              "      <td>21.960332</td>\n",
              "      <td>1.141294</td>\n",
              "      <td>1235.007337</td>\n",
              "    </tr>\n",
              "    <tr>\n",
              "      <th>min</th>\n",
              "      <td>1.000000</td>\n",
              "      <td>0.000000e+00</td>\n",
              "      <td>0.000372</td>\n",
              "      <td>0.000000e+00</td>\n",
              "      <td>0.000000</td>\n",
              "      <td>0.000000</td>\n",
              "      <td>0.000000</td>\n",
              "    </tr>\n",
              "    <tr>\n",
              "      <th>25%</th>\n",
              "      <td>1190.750000</td>\n",
              "      <td>9.257500e+05</td>\n",
              "      <td>4.807074</td>\n",
              "      <td>0.000000e+00</td>\n",
              "      <td>94.000000</td>\n",
              "      <td>5.600000</td>\n",
              "      <td>55.000000</td>\n",
              "    </tr>\n",
              "    <tr>\n",
              "      <th>50%</th>\n",
              "      <td>2380.500000</td>\n",
              "      <td>1.500000e+07</td>\n",
              "      <td>13.119058</td>\n",
              "      <td>1.944716e+07</td>\n",
              "      <td>104.000000</td>\n",
              "      <td>6.200000</td>\n",
              "      <td>238.000000</td>\n",
              "    </tr>\n",
              "    <tr>\n",
              "      <th>75%</th>\n",
              "      <td>3572.250000</td>\n",
              "      <td>4.000000e+07</td>\n",
              "      <td>28.411929</td>\n",
              "      <td>9.341276e+07</td>\n",
              "      <td>118.000000</td>\n",
              "      <td>6.800000</td>\n",
              "      <td>740.250000</td>\n",
              "    </tr>\n",
              "    <tr>\n",
              "      <th>max</th>\n",
              "      <td>4788.000000</td>\n",
              "      <td>3.800000e+08</td>\n",
              "      <td>875.581305</td>\n",
              "      <td>2.787965e+09</td>\n",
              "      <td>338.000000</td>\n",
              "      <td>10.000000</td>\n",
              "      <td>13752.000000</td>\n",
              "    </tr>\n",
              "  </tbody>\n",
              "</table>\n",
              "</div>\n",
              "      <button class=\"colab-df-convert\" onclick=\"convertToInteractive('df-e6024e1f-173d-4d05-bebc-16fc4cbb4190')\"\n",
              "              title=\"Convert this dataframe to an interactive table.\"\n",
              "              style=\"display:none;\">\n",
              "\n",
              "  <svg xmlns=\"http://www.w3.org/2000/svg\" height=\"24px\"viewBox=\"0 0 24 24\"\n",
              "       width=\"24px\">\n",
              "    <path d=\"M0 0h24v24H0V0z\" fill=\"none\"/>\n",
              "    <path d=\"M18.56 5.44l.94 2.06.94-2.06 2.06-.94-2.06-.94-.94-2.06-.94 2.06-2.06.94zm-11 1L8.5 8.5l.94-2.06 2.06-.94-2.06-.94L8.5 2.5l-.94 2.06-2.06.94zm10 10l.94 2.06.94-2.06 2.06-.94-2.06-.94-.94-2.06-.94 2.06-2.06.94z\"/><path d=\"M17.41 7.96l-1.37-1.37c-.4-.4-.92-.59-1.43-.59-.52 0-1.04.2-1.43.59L10.3 9.45l-7.72 7.72c-.78.78-.78 2.05 0 2.83L4 21.41c.39.39.9.59 1.41.59.51 0 1.02-.2 1.41-.59l7.78-7.78 2.81-2.81c.8-.78.8-2.07 0-2.86zM5.41 20L4 18.59l7.72-7.72 1.47 1.35L5.41 20z\"/>\n",
              "  </svg>\n",
              "      </button>\n",
              "\n",
              "\n",
              "\n",
              "    <div id=\"df-cc194a9f-d866-481c-9345-497fac0bc25b\">\n",
              "      <button class=\"colab-df-quickchart\" onclick=\"quickchart('df-cc194a9f-d866-481c-9345-497fac0bc25b')\"\n",
              "              title=\"Suggest charts.\"\n",
              "              style=\"display:none;\">\n",
              "\n",
              "<svg xmlns=\"http://www.w3.org/2000/svg\" height=\"24px\"viewBox=\"0 0 24 24\"\n",
              "     width=\"24px\">\n",
              "    <g>\n",
              "        <path d=\"M19 3H5c-1.1 0-2 .9-2 2v14c0 1.1.9 2 2 2h14c1.1 0 2-.9 2-2V5c0-1.1-.9-2-2-2zM9 17H7v-7h2v7zm4 0h-2V7h2v10zm4 0h-2v-4h2v4z\"/>\n",
              "    </g>\n",
              "</svg>\n",
              "      </button>\n",
              "    </div>\n",
              "\n",
              "<style>\n",
              "  .colab-df-quickchart {\n",
              "    background-color: #E8F0FE;\n",
              "    border: none;\n",
              "    border-radius: 50%;\n",
              "    cursor: pointer;\n",
              "    display: none;\n",
              "    fill: #1967D2;\n",
              "    height: 32px;\n",
              "    padding: 0 0 0 0;\n",
              "    width: 32px;\n",
              "  }\n",
              "\n",
              "  .colab-df-quickchart:hover {\n",
              "    background-color: #E2EBFA;\n",
              "    box-shadow: 0px 1px 2px rgba(60, 64, 67, 0.3), 0px 1px 3px 1px rgba(60, 64, 67, 0.15);\n",
              "    fill: #174EA6;\n",
              "  }\n",
              "\n",
              "  [theme=dark] .colab-df-quickchart {\n",
              "    background-color: #3B4455;\n",
              "    fill: #D2E3FC;\n",
              "  }\n",
              "\n",
              "  [theme=dark] .colab-df-quickchart:hover {\n",
              "    background-color: #434B5C;\n",
              "    box-shadow: 0px 1px 3px 1px rgba(0, 0, 0, 0.15);\n",
              "    filter: drop-shadow(0px 1px 2px rgba(0, 0, 0, 0.3));\n",
              "    fill: #FFFFFF;\n",
              "  }\n",
              "</style>\n",
              "\n",
              "    <script>\n",
              "      async function quickchart(key) {\n",
              "        const containerElement = document.querySelector('#' + key);\n",
              "        const charts = await google.colab.kernel.invokeFunction(\n",
              "            'suggestCharts', [key], {});\n",
              "      }\n",
              "    </script>\n",
              "\n",
              "      <script>\n",
              "\n",
              "function displayQuickchartButton(domScope) {\n",
              "  let quickchartButtonEl =\n",
              "    domScope.querySelector('#df-cc194a9f-d866-481c-9345-497fac0bc25b button.colab-df-quickchart');\n",
              "  quickchartButtonEl.style.display =\n",
              "    google.colab.kernel.accessAllowed ? 'block' : 'none';\n",
              "}\n",
              "\n",
              "        displayQuickchartButton(document);\n",
              "      </script>\n",
              "      <style>\n",
              "    .colab-df-container {\n",
              "      display:flex;\n",
              "      flex-wrap:wrap;\n",
              "      gap: 12px;\n",
              "    }\n",
              "\n",
              "    .colab-df-convert {\n",
              "      background-color: #E8F0FE;\n",
              "      border: none;\n",
              "      border-radius: 50%;\n",
              "      cursor: pointer;\n",
              "      display: none;\n",
              "      fill: #1967D2;\n",
              "      height: 32px;\n",
              "      padding: 0 0 0 0;\n",
              "      width: 32px;\n",
              "    }\n",
              "\n",
              "    .colab-df-convert:hover {\n",
              "      background-color: #E2EBFA;\n",
              "      box-shadow: 0px 1px 2px rgba(60, 64, 67, 0.3), 0px 1px 3px 1px rgba(60, 64, 67, 0.15);\n",
              "      fill: #174EA6;\n",
              "    }\n",
              "\n",
              "    [theme=dark] .colab-df-convert {\n",
              "      background-color: #3B4455;\n",
              "      fill: #D2E3FC;\n",
              "    }\n",
              "\n",
              "    [theme=dark] .colab-df-convert:hover {\n",
              "      background-color: #434B5C;\n",
              "      box-shadow: 0px 1px 3px 1px rgba(0, 0, 0, 0.15);\n",
              "      filter: drop-shadow(0px 1px 2px rgba(0, 0, 0, 0.3));\n",
              "      fill: #FFFFFF;\n",
              "    }\n",
              "  </style>\n",
              "\n",
              "      <script>\n",
              "        const buttonEl =\n",
              "          document.querySelector('#df-e6024e1f-173d-4d05-bebc-16fc4cbb4190 button.colab-df-convert');\n",
              "        buttonEl.style.display =\n",
              "          google.colab.kernel.accessAllowed ? 'block' : 'none';\n",
              "\n",
              "        async function convertToInteractive(key) {\n",
              "          const element = document.querySelector('#df-e6024e1f-173d-4d05-bebc-16fc4cbb4190');\n",
              "          const dataTable =\n",
              "            await google.colab.kernel.invokeFunction('convertToInteractive',\n",
              "                                                     [key], {});\n",
              "          if (!dataTable) return;\n",
              "\n",
              "          const docLinkHtml = 'Like what you see? Visit the ' +\n",
              "            '<a target=\"_blank\" href=https://colab.research.google.com/notebooks/data_table.ipynb>data table notebook</a>'\n",
              "            + ' to learn more about interactive tables.';\n",
              "          element.innerHTML = '';\n",
              "          dataTable['output_type'] = 'display_data';\n",
              "          await google.colab.output.renderOutput(dataTable, element);\n",
              "          const docLink = document.createElement('div');\n",
              "          docLink.innerHTML = docLinkHtml;\n",
              "          element.appendChild(docLink);\n",
              "        }\n",
              "      </script>\n",
              "    </div>\n",
              "  </div>\n"
            ]
          },
          "metadata": {},
          "execution_count": 5
        }
      ]
    },
    {
      "cell_type": "code",
      "source": [
        "movie_list.info()"
      ],
      "metadata": {
        "colab": {
          "base_uri": "https://localhost:8080/"
        },
        "id": "RtFgcwntUspG",
        "outputId": "073bb317-069a-4302-fbcc-50990a08a05c"
      },
      "execution_count": null,
      "outputs": [
        {
          "output_type": "stream",
          "name": "stdout",
          "text": [
            "<class 'pandas.core.frame.DataFrame'>\n",
            "RangeIndex: 4760 entries, 0 to 4759\n",
            "Data columns (total 21 columns):\n",
            " #   Column                    Non-Null Count  Dtype  \n",
            "---  ------                    --------------  -----  \n",
            " 0   Movie_ID                  4760 non-null   int64  \n",
            " 1   Movie_Title               4760 non-null   object \n",
            " 2   Movie_Genre               4760 non-null   object \n",
            " 3   Movie_Language            4760 non-null   object \n",
            " 4   Movie_Budget              4760 non-null   int64  \n",
            " 5   Movie_Popularity          4760 non-null   float64\n",
            " 6   Movie_Release_Date        4760 non-null   object \n",
            " 7   Movie_Revenue             4760 non-null   int64  \n",
            " 8   Movie_Runtime             4758 non-null   float64\n",
            " 9   Movie_Vote                4760 non-null   float64\n",
            " 10  Movie_Vote_Count          4760 non-null   int64  \n",
            " 11  Movie_Homepage            1699 non-null   object \n",
            " 12  Movie_Keywords            4373 non-null   object \n",
            " 13  Movie_Overview            4757 non-null   object \n",
            " 14  Movie_Production_House    4760 non-null   object \n",
            " 15  Movie_Production_Country  4760 non-null   object \n",
            " 16  Movie_Spoken_Language     4760 non-null   object \n",
            " 17  Movie_Tagline             3942 non-null   object \n",
            " 18  Movie_Cast                4733 non-null   object \n",
            " 19  Movie_Crew                4760 non-null   object \n",
            " 20  Movie_Director            4738 non-null   object \n",
            "dtypes: float64(3), int64(4), object(14)\n",
            "memory usage: 781.1+ KB\n"
          ]
        }
      ]
    },
    {
      "cell_type": "code",
      "source": [
        "movie_list.shape"
      ],
      "metadata": {
        "colab": {
          "base_uri": "https://localhost:8080/"
        },
        "id": "N68ycVSqUv0H",
        "outputId": "cc1dfac0-d105-4f8e-bb77-e2e4d078ca06"
      },
      "execution_count": null,
      "outputs": [
        {
          "output_type": "execute_result",
          "data": {
            "text/plain": [
              "(4760, 21)"
            ]
          },
          "metadata": {},
          "execution_count": 7
        }
      ]
    },
    {
      "cell_type": "code",
      "source": [
        "movie_list.columns"
      ],
      "metadata": {
        "colab": {
          "base_uri": "https://localhost:8080/"
        },
        "id": "n0Nihp-gUx09",
        "outputId": "b61c055a-4ddc-4898-ef43-9d555b4ae18c"
      },
      "execution_count": null,
      "outputs": [
        {
          "output_type": "execute_result",
          "data": {
            "text/plain": [
              "Index(['Movie_ID', 'Movie_Title', 'Movie_Genre', 'Movie_Language',\n",
              "       'Movie_Budget', 'Movie_Popularity', 'Movie_Release_Date',\n",
              "       'Movie_Revenue', 'Movie_Runtime', 'Movie_Vote', 'Movie_Vote_Count',\n",
              "       'Movie_Homepage', 'Movie_Keywords', 'Movie_Overview',\n",
              "       'Movie_Production_House', 'Movie_Production_Country',\n",
              "       'Movie_Spoken_Language', 'Movie_Tagline', 'Movie_Cast', 'Movie_Crew',\n",
              "       'Movie_Director'],\n",
              "      dtype='object')"
            ]
          },
          "metadata": {},
          "execution_count": 8
        }
      ]
    },
    {
      "cell_type": "code",
      "source": [
        "x_features = movie_list[['Movie_Genre','Movie_Keywords','Movie_Tagline','Movie_Cast','Movie_Director']].fillna('')"
      ],
      "metadata": {
        "id": "zcvoZBXTU3V6"
      },
      "execution_count": null,
      "outputs": []
    },
    {
      "cell_type": "code",
      "source": [
        "x_features.shape"
      ],
      "metadata": {
        "colab": {
          "base_uri": "https://localhost:8080/"
        },
        "id": "QKqRUaNCU69S",
        "outputId": "b17a4c0b-0d66-464c-f05b-51cd34053918"
      },
      "execution_count": null,
      "outputs": [
        {
          "output_type": "execute_result",
          "data": {
            "text/plain": [
              "(4760, 5)"
            ]
          },
          "metadata": {},
          "execution_count": 10
        }
      ]
    },
    {
      "cell_type": "code",
      "source": [
        "x_features"
      ],
      "metadata": {
        "colab": {
          "base_uri": "https://localhost:8080/",
          "height": 467
        },
        "id": "qwQLfSO2U_J4",
        "outputId": "543ca513-b032-41af-fe4f-d8477e96ca85"
      },
      "execution_count": null,
      "outputs": [
        {
          "output_type": "execute_result",
          "data": {
            "text/plain": [
              "                           Movie_Genre  \\\n",
              "0                         Crime Comedy   \n",
              "1     Adventure Action Science Fiction   \n",
              "2                     Animation Family   \n",
              "3                 Comedy Drama Romance   \n",
              "4                                Drama   \n",
              "...                                ...   \n",
              "4755                            Horror   \n",
              "4756               Comedy Family Drama   \n",
              "4757                    Thriller Drama   \n",
              "4758                            Family   \n",
              "4759                       Documentary   \n",
              "\n",
              "                                         Movie_Keywords  \\\n",
              "0             hotel new year's eve witch bet hotel room   \n",
              "1           android galaxy hermit death star lightsaber   \n",
              "2     father son relationship harbor underwater fish...   \n",
              "3     vietnam veteran hippie mentally disabled runni...   \n",
              "4     male nudity female nudity adultery midlife cri...   \n",
              "...                                                 ...   \n",
              "4755                                                      \n",
              "4756                                                      \n",
              "4757                     christian film sex trafficking   \n",
              "4758                                                      \n",
              "4759  music actors legendary perfomer classic hollyw...   \n",
              "\n",
              "                                          Movie_Tagline  \\\n",
              "0     Twelve outrageous guests. Four scandalous requ...   \n",
              "1          A long time ago in a galaxy far, far away...   \n",
              "2     There are 3.7 trillion fish in the ocean, they...   \n",
              "3     The world will never be the same, once you've ...   \n",
              "4                                          Look closer.   \n",
              "...                                                 ...   \n",
              "4755                The hot spot where Satan's waitin'.   \n",
              "4756           It’s better to stand out than to fit in.   \n",
              "4757           She never knew it could happen to her...   \n",
              "4758                                                      \n",
              "4759                                                      \n",
              "\n",
              "                                             Movie_Cast     Movie_Director  \n",
              "0     Tim Roth Antonio Banderas Jennifer Beals Madon...     Allison Anders  \n",
              "1     Mark Hamill Harrison Ford Carrie Fisher Peter ...       George Lucas  \n",
              "2     Albert Brooks Ellen DeGeneres Alexander Gould ...     Andrew Stanton  \n",
              "3     Tom Hanks Robin Wright Gary Sinise Mykelti Wil...    Robert Zemeckis  \n",
              "4     Kevin Spacey Annette Bening Thora Birch Wes Be...         Sam Mendes  \n",
              "...                                                 ...                ...  \n",
              "4755  Lisa Hart Carroll Michael Des Barres Paul Drak...         Pece Dingo  \n",
              "4756  Roni Akurati Brighton Sharbino Jason Lee Anjul...       Frank Lotito  \n",
              "4757  Nicole Smolen Kim Baldwin Ariana Stephens Brys...       Jaco Booyens  \n",
              "4758                                                                        \n",
              "4759                                    Tony Oppedisano  Simon Napier-Bell  \n",
              "\n",
              "[4760 rows x 5 columns]"
            ],
            "text/html": [
              "\n",
              "\n",
              "  <div id=\"df-332fc39a-e6d9-46a5-bba2-63e1d4a9ae07\">\n",
              "    <div class=\"colab-df-container\">\n",
              "      <div>\n",
              "<style scoped>\n",
              "    .dataframe tbody tr th:only-of-type {\n",
              "        vertical-align: middle;\n",
              "    }\n",
              "\n",
              "    .dataframe tbody tr th {\n",
              "        vertical-align: top;\n",
              "    }\n",
              "\n",
              "    .dataframe thead th {\n",
              "        text-align: right;\n",
              "    }\n",
              "</style>\n",
              "<table border=\"1\" class=\"dataframe\">\n",
              "  <thead>\n",
              "    <tr style=\"text-align: right;\">\n",
              "      <th></th>\n",
              "      <th>Movie_Genre</th>\n",
              "      <th>Movie_Keywords</th>\n",
              "      <th>Movie_Tagline</th>\n",
              "      <th>Movie_Cast</th>\n",
              "      <th>Movie_Director</th>\n",
              "    </tr>\n",
              "  </thead>\n",
              "  <tbody>\n",
              "    <tr>\n",
              "      <th>0</th>\n",
              "      <td>Crime Comedy</td>\n",
              "      <td>hotel new year's eve witch bet hotel room</td>\n",
              "      <td>Twelve outrageous guests. Four scandalous requ...</td>\n",
              "      <td>Tim Roth Antonio Banderas Jennifer Beals Madon...</td>\n",
              "      <td>Allison Anders</td>\n",
              "    </tr>\n",
              "    <tr>\n",
              "      <th>1</th>\n",
              "      <td>Adventure Action Science Fiction</td>\n",
              "      <td>android galaxy hermit death star lightsaber</td>\n",
              "      <td>A long time ago in a galaxy far, far away...</td>\n",
              "      <td>Mark Hamill Harrison Ford Carrie Fisher Peter ...</td>\n",
              "      <td>George Lucas</td>\n",
              "    </tr>\n",
              "    <tr>\n",
              "      <th>2</th>\n",
              "      <td>Animation Family</td>\n",
              "      <td>father son relationship harbor underwater fish...</td>\n",
              "      <td>There are 3.7 trillion fish in the ocean, they...</td>\n",
              "      <td>Albert Brooks Ellen DeGeneres Alexander Gould ...</td>\n",
              "      <td>Andrew Stanton</td>\n",
              "    </tr>\n",
              "    <tr>\n",
              "      <th>3</th>\n",
              "      <td>Comedy Drama Romance</td>\n",
              "      <td>vietnam veteran hippie mentally disabled runni...</td>\n",
              "      <td>The world will never be the same, once you've ...</td>\n",
              "      <td>Tom Hanks Robin Wright Gary Sinise Mykelti Wil...</td>\n",
              "      <td>Robert Zemeckis</td>\n",
              "    </tr>\n",
              "    <tr>\n",
              "      <th>4</th>\n",
              "      <td>Drama</td>\n",
              "      <td>male nudity female nudity adultery midlife cri...</td>\n",
              "      <td>Look closer.</td>\n",
              "      <td>Kevin Spacey Annette Bening Thora Birch Wes Be...</td>\n",
              "      <td>Sam Mendes</td>\n",
              "    </tr>\n",
              "    <tr>\n",
              "      <th>...</th>\n",
              "      <td>...</td>\n",
              "      <td>...</td>\n",
              "      <td>...</td>\n",
              "      <td>...</td>\n",
              "      <td>...</td>\n",
              "    </tr>\n",
              "    <tr>\n",
              "      <th>4755</th>\n",
              "      <td>Horror</td>\n",
              "      <td></td>\n",
              "      <td>The hot spot where Satan's waitin'.</td>\n",
              "      <td>Lisa Hart Carroll Michael Des Barres Paul Drak...</td>\n",
              "      <td>Pece Dingo</td>\n",
              "    </tr>\n",
              "    <tr>\n",
              "      <th>4756</th>\n",
              "      <td>Comedy Family Drama</td>\n",
              "      <td></td>\n",
              "      <td>It’s better to stand out than to fit in.</td>\n",
              "      <td>Roni Akurati Brighton Sharbino Jason Lee Anjul...</td>\n",
              "      <td>Frank Lotito</td>\n",
              "    </tr>\n",
              "    <tr>\n",
              "      <th>4757</th>\n",
              "      <td>Thriller Drama</td>\n",
              "      <td>christian film sex trafficking</td>\n",
              "      <td>She never knew it could happen to her...</td>\n",
              "      <td>Nicole Smolen Kim Baldwin Ariana Stephens Brys...</td>\n",
              "      <td>Jaco Booyens</td>\n",
              "    </tr>\n",
              "    <tr>\n",
              "      <th>4758</th>\n",
              "      <td>Family</td>\n",
              "      <td></td>\n",
              "      <td></td>\n",
              "      <td></td>\n",
              "      <td></td>\n",
              "    </tr>\n",
              "    <tr>\n",
              "      <th>4759</th>\n",
              "      <td>Documentary</td>\n",
              "      <td>music actors legendary perfomer classic hollyw...</td>\n",
              "      <td></td>\n",
              "      <td>Tony Oppedisano</td>\n",
              "      <td>Simon Napier-Bell</td>\n",
              "    </tr>\n",
              "  </tbody>\n",
              "</table>\n",
              "<p>4760 rows × 5 columns</p>\n",
              "</div>\n",
              "      <button class=\"colab-df-convert\" onclick=\"convertToInteractive('df-332fc39a-e6d9-46a5-bba2-63e1d4a9ae07')\"\n",
              "              title=\"Convert this dataframe to an interactive table.\"\n",
              "              style=\"display:none;\">\n",
              "\n",
              "  <svg xmlns=\"http://www.w3.org/2000/svg\" height=\"24px\"viewBox=\"0 0 24 24\"\n",
              "       width=\"24px\">\n",
              "    <path d=\"M0 0h24v24H0V0z\" fill=\"none\"/>\n",
              "    <path d=\"M18.56 5.44l.94 2.06.94-2.06 2.06-.94-2.06-.94-.94-2.06-.94 2.06-2.06.94zm-11 1L8.5 8.5l.94-2.06 2.06-.94-2.06-.94L8.5 2.5l-.94 2.06-2.06.94zm10 10l.94 2.06.94-2.06 2.06-.94-2.06-.94-.94-2.06-.94 2.06-2.06.94z\"/><path d=\"M17.41 7.96l-1.37-1.37c-.4-.4-.92-.59-1.43-.59-.52 0-1.04.2-1.43.59L10.3 9.45l-7.72 7.72c-.78.78-.78 2.05 0 2.83L4 21.41c.39.39.9.59 1.41.59.51 0 1.02-.2 1.41-.59l7.78-7.78 2.81-2.81c.8-.78.8-2.07 0-2.86zM5.41 20L4 18.59l7.72-7.72 1.47 1.35L5.41 20z\"/>\n",
              "  </svg>\n",
              "      </button>\n",
              "\n",
              "\n",
              "\n",
              "    <div id=\"df-a41bc39d-7877-496b-8038-9b5f904717f0\">\n",
              "      <button class=\"colab-df-quickchart\" onclick=\"quickchart('df-a41bc39d-7877-496b-8038-9b5f904717f0')\"\n",
              "              title=\"Suggest charts.\"\n",
              "              style=\"display:none;\">\n",
              "\n",
              "<svg xmlns=\"http://www.w3.org/2000/svg\" height=\"24px\"viewBox=\"0 0 24 24\"\n",
              "     width=\"24px\">\n",
              "    <g>\n",
              "        <path d=\"M19 3H5c-1.1 0-2 .9-2 2v14c0 1.1.9 2 2 2h14c1.1 0 2-.9 2-2V5c0-1.1-.9-2-2-2zM9 17H7v-7h2v7zm4 0h-2V7h2v10zm4 0h-2v-4h2v4z\"/>\n",
              "    </g>\n",
              "</svg>\n",
              "      </button>\n",
              "    </div>\n",
              "\n",
              "<style>\n",
              "  .colab-df-quickchart {\n",
              "    background-color: #E8F0FE;\n",
              "    border: none;\n",
              "    border-radius: 50%;\n",
              "    cursor: pointer;\n",
              "    display: none;\n",
              "    fill: #1967D2;\n",
              "    height: 32px;\n",
              "    padding: 0 0 0 0;\n",
              "    width: 32px;\n",
              "  }\n",
              "\n",
              "  .colab-df-quickchart:hover {\n",
              "    background-color: #E2EBFA;\n",
              "    box-shadow: 0px 1px 2px rgba(60, 64, 67, 0.3), 0px 1px 3px 1px rgba(60, 64, 67, 0.15);\n",
              "    fill: #174EA6;\n",
              "  }\n",
              "\n",
              "  [theme=dark] .colab-df-quickchart {\n",
              "    background-color: #3B4455;\n",
              "    fill: #D2E3FC;\n",
              "  }\n",
              "\n",
              "  [theme=dark] .colab-df-quickchart:hover {\n",
              "    background-color: #434B5C;\n",
              "    box-shadow: 0px 1px 3px 1px rgba(0, 0, 0, 0.15);\n",
              "    filter: drop-shadow(0px 1px 2px rgba(0, 0, 0, 0.3));\n",
              "    fill: #FFFFFF;\n",
              "  }\n",
              "</style>\n",
              "\n",
              "    <script>\n",
              "      async function quickchart(key) {\n",
              "        const containerElement = document.querySelector('#' + key);\n",
              "        const charts = await google.colab.kernel.invokeFunction(\n",
              "            'suggestCharts', [key], {});\n",
              "      }\n",
              "    </script>\n",
              "\n",
              "      <script>\n",
              "\n",
              "function displayQuickchartButton(domScope) {\n",
              "  let quickchartButtonEl =\n",
              "    domScope.querySelector('#df-a41bc39d-7877-496b-8038-9b5f904717f0 button.colab-df-quickchart');\n",
              "  quickchartButtonEl.style.display =\n",
              "    google.colab.kernel.accessAllowed ? 'block' : 'none';\n",
              "}\n",
              "\n",
              "        displayQuickchartButton(document);\n",
              "      </script>\n",
              "      <style>\n",
              "    .colab-df-container {\n",
              "      display:flex;\n",
              "      flex-wrap:wrap;\n",
              "      gap: 12px;\n",
              "    }\n",
              "\n",
              "    .colab-df-convert {\n",
              "      background-color: #E8F0FE;\n",
              "      border: none;\n",
              "      border-radius: 50%;\n",
              "      cursor: pointer;\n",
              "      display: none;\n",
              "      fill: #1967D2;\n",
              "      height: 32px;\n",
              "      padding: 0 0 0 0;\n",
              "      width: 32px;\n",
              "    }\n",
              "\n",
              "    .colab-df-convert:hover {\n",
              "      background-color: #E2EBFA;\n",
              "      box-shadow: 0px 1px 2px rgba(60, 64, 67, 0.3), 0px 1px 3px 1px rgba(60, 64, 67, 0.15);\n",
              "      fill: #174EA6;\n",
              "    }\n",
              "\n",
              "    [theme=dark] .colab-df-convert {\n",
              "      background-color: #3B4455;\n",
              "      fill: #D2E3FC;\n",
              "    }\n",
              "\n",
              "    [theme=dark] .colab-df-convert:hover {\n",
              "      background-color: #434B5C;\n",
              "      box-shadow: 0px 1px 3px 1px rgba(0, 0, 0, 0.15);\n",
              "      filter: drop-shadow(0px 1px 2px rgba(0, 0, 0, 0.3));\n",
              "      fill: #FFFFFF;\n",
              "    }\n",
              "  </style>\n",
              "\n",
              "      <script>\n",
              "        const buttonEl =\n",
              "          document.querySelector('#df-332fc39a-e6d9-46a5-bba2-63e1d4a9ae07 button.colab-df-convert');\n",
              "        buttonEl.style.display =\n",
              "          google.colab.kernel.accessAllowed ? 'block' : 'none';\n",
              "\n",
              "        async function convertToInteractive(key) {\n",
              "          const element = document.querySelector('#df-332fc39a-e6d9-46a5-bba2-63e1d4a9ae07');\n",
              "          const dataTable =\n",
              "            await google.colab.kernel.invokeFunction('convertToInteractive',\n",
              "                                                     [key], {});\n",
              "          if (!dataTable) return;\n",
              "\n",
              "          const docLinkHtml = 'Like what you see? Visit the ' +\n",
              "            '<a target=\"_blank\" href=https://colab.research.google.com/notebooks/data_table.ipynb>data table notebook</a>'\n",
              "            + ' to learn more about interactive tables.';\n",
              "          element.innerHTML = '';\n",
              "          dataTable['output_type'] = 'display_data';\n",
              "          await google.colab.output.renderOutput(dataTable, element);\n",
              "          const docLink = document.createElement('div');\n",
              "          docLink.innerHTML = docLinkHtml;\n",
              "          element.appendChild(docLink);\n",
              "        }\n",
              "      </script>\n",
              "    </div>\n",
              "  </div>\n"
            ]
          },
          "metadata": {},
          "execution_count": 11
        }
      ]
    },
    {
      "cell_type": "code",
      "source": [
        "x = x_features['Movie_Genre'] + ' ' + x_features['Movie_Keywords'] + ' ' + x_features['Movie_Tagline']+' '+x_features['Movie_Cast']+' '+x_features['Movie_Director']"
      ],
      "metadata": {
        "id": "g13PBvglVBW2"
      },
      "execution_count": null,
      "outputs": []
    },
    {
      "cell_type": "code",
      "source": [
        "x"
      ],
      "metadata": {
        "colab": {
          "base_uri": "https://localhost:8080/"
        },
        "id": "nTKvJPs2VMgx",
        "outputId": "ce685d38-0540-4cb1-9215-3f85c64f62e6"
      },
      "execution_count": null,
      "outputs": [
        {
          "output_type": "execute_result",
          "data": {
            "text/plain": [
              "0       Crime Comedy hotel new year's eve witch bet ho...\n",
              "1       Adventure Action Science Fiction android galax...\n",
              "2       Animation Family father son relationship harbo...\n",
              "3       Comedy Drama Romance vietnam veteran hippie me...\n",
              "4       Drama male nudity female nudity adultery midli...\n",
              "                              ...                        \n",
              "4755    Horror  The hot spot where Satan's waitin'. Li...\n",
              "4756    Comedy Family Drama  It’s better to stand out ...\n",
              "4757    Thriller Drama christian film sex trafficking ...\n",
              "4758                                           Family    \n",
              "4759    Documentary music actors legendary perfomer cl...\n",
              "Length: 4760, dtype: object"
            ]
          },
          "metadata": {},
          "execution_count": 13
        }
      ]
    },
    {
      "cell_type": "markdown",
      "source": [
        "Modeling"
      ],
      "metadata": {
        "id": "wuKgnhFvVUyv"
      }
    },
    {
      "cell_type": "code",
      "source": [
        "# we use tdidf to reduce the words in the data set which are similar which takes more space so\n",
        "#  if we use  we can reduce the words which are similar\n",
        "# tfidf = term frequency inverse document frequency"
      ],
      "metadata": {
        "id": "908ve44-VZwB"
      },
      "execution_count": null,
      "outputs": []
    },
    {
      "cell_type": "code",
      "source": [
        "# this function helps to find the single word has used in the entire document/dataframe\n",
        "# let say an example 'the' will be used so many times in our data\n",
        "tfidf = TfidfVectorizer()"
      ],
      "metadata": {
        "id": "xA8Cc86MVfto"
      },
      "execution_count": null,
      "outputs": []
    },
    {
      "cell_type": "code",
      "source": [
        "x_tfidf = tfidf.fit_transform(x)"
      ],
      "metadata": {
        "id": "J1G2DMR9Vi5Z"
      },
      "execution_count": null,
      "outputs": []
    },
    {
      "cell_type": "code",
      "source": [
        "# 4760 rows and 17258 columns each column for each word\n",
        "x_tfidf.shape"
      ],
      "metadata": {
        "colab": {
          "base_uri": "https://localhost:8080/"
        },
        "id": "yzV0vg-9Vncs",
        "outputId": "efef3540-6451-49d3-98da-762afe6889c4"
      },
      "execution_count": null,
      "outputs": [
        {
          "output_type": "execute_result",
          "data": {
            "text/plain": [
              "(4760, 17258)"
            ]
          },
          "metadata": {},
          "execution_count": 17
        }
      ]
    },
    {
      "cell_type": "code",
      "source": [
        "# 0 row 617 column word is present in the dataframe is 0.1633 in percentage is 1%.\n",
        "print(x_tfidf)"
      ],
      "metadata": {
        "colab": {
          "base_uri": "https://localhost:8080/"
        },
        "id": "TIS0b3mgVqtJ",
        "outputId": "26568d4c-6854-43b5-b6b6-b8ba22e8c772"
      },
      "execution_count": null,
      "outputs": [
        {
          "output_type": "stream",
          "name": "stdout",
          "text": [
            "  (0, 617)\t0.1633382144407513\n",
            "  (0, 492)\t0.1432591540388685\n",
            "  (0, 15413)\t0.1465525095337543\n",
            "  (0, 9675)\t0.14226057295252661\n",
            "  (0, 9465)\t0.1659841367820977\n",
            "  (0, 1390)\t0.16898383612799558\n",
            "  (0, 7825)\t0.09799561597509843\n",
            "  (0, 1214)\t0.13865857545144072\n",
            "  (0, 729)\t0.13415063359531618\n",
            "  (0, 13093)\t0.1432591540388685\n",
            "  (0, 15355)\t0.10477815972666779\n",
            "  (0, 9048)\t0.0866842116160778\n",
            "  (0, 11161)\t0.06250380151644369\n",
            "  (0, 16773)\t0.17654247479915475\n",
            "  (0, 5612)\t0.08603537588547631\n",
            "  (0, 16735)\t0.10690083751525419\n",
            "  (0, 7904)\t0.13348000542112332\n",
            "  (0, 15219)\t0.09800472886453934\n",
            "  (0, 11242)\t0.07277788238484746\n",
            "  (0, 3878)\t0.11998399582562203\n",
            "  (0, 5499)\t0.11454057510303811\n",
            "  (0, 7071)\t0.19822417598406614\n",
            "  (0, 7454)\t0.14745635785412262\n",
            "  (0, 1495)\t0.19712637387361423\n",
            "  (0, 9206)\t0.15186283580984414\n",
            "  :\t:\n",
            "  (4757, 5455)\t0.12491480594769522\n",
            "  (4757, 2967)\t0.16273475835631626\n",
            "  (4757, 8464)\t0.23522565554066333\n",
            "  (4757, 6938)\t0.17088173678136628\n",
            "  (4757, 8379)\t0.17480603856721913\n",
            "  (4757, 15303)\t0.07654356007668191\n",
            "  (4757, 15384)\t0.09754322497537371\n",
            "  (4757, 7649)\t0.11479421494340192\n",
            "  (4757, 10896)\t0.14546473055066447\n",
            "  (4757, 4494)\t0.05675298448720501\n",
            "  (4758, 5238)\t1.0\n",
            "  (4759, 11264)\t0.33947721804318337\n",
            "  (4759, 11708)\t0.33947721804318337\n",
            "  (4759, 205)\t0.3237911628497312\n",
            "  (4759, 8902)\t0.3040290704566037\n",
            "  (4759, 14062)\t0.3237911628497312\n",
            "  (4759, 3058)\t0.2812896191863103\n",
            "  (4759, 7130)\t0.26419662449963793\n",
            "  (4759, 10761)\t0.3126617295732147\n",
            "  (4759, 4358)\t0.18306542312175342\n",
            "  (4759, 14051)\t0.20084315377640435\n",
            "  (4759, 5690)\t0.19534291014627303\n",
            "  (4759, 15431)\t0.19628653185946862\n",
            "  (4759, 1490)\t0.21197258705292082\n",
            "  (4759, 10666)\t0.15888268987343043\n"
          ]
        }
      ]
    },
    {
      "cell_type": "code",
      "source": [
        "similarity_score = cosine_similarity(x_tfidf)"
      ],
      "metadata": {
        "id": "LsVZ0VVOV_IP"
      },
      "execution_count": null,
      "outputs": []
    },
    {
      "cell_type": "code",
      "source": [
        "similarity_score"
      ],
      "metadata": {
        "colab": {
          "base_uri": "https://localhost:8080/"
        },
        "id": "4jfHLiAtWDnD",
        "outputId": "859cc1e0-bd0f-448d-d866-9de2dacbaebe"
      },
      "execution_count": null,
      "outputs": [
        {
          "output_type": "execute_result",
          "data": {
            "text/plain": [
              "array([[1.        , 0.01351235, 0.03570468, ..., 0.        , 0.        ,\n",
              "        0.        ],\n",
              "       [0.01351235, 1.        , 0.00806674, ..., 0.        , 0.        ,\n",
              "        0.        ],\n",
              "       [0.03570468, 0.00806674, 1.        , ..., 0.        , 0.08014876,\n",
              "        0.        ],\n",
              "       ...,\n",
              "       [0.        , 0.        , 0.        , ..., 1.        , 0.        ,\n",
              "        0.        ],\n",
              "       [0.        , 0.        , 0.08014876, ..., 0.        , 1.        ,\n",
              "        0.        ],\n",
              "       [0.        , 0.        , 0.        , ..., 0.        , 0.        ,\n",
              "        1.        ]])"
            ]
          },
          "metadata": {},
          "execution_count": 20
        }
      ]
    },
    {
      "cell_type": "code",
      "source": [
        "similarity_score.shape"
      ],
      "metadata": {
        "colab": {
          "base_uri": "https://localhost:8080/"
        },
        "id": "QZYeM5biWEB3",
        "outputId": "20a5458a-ecfd-4997-b08f-38cac7e480cd"
      },
      "execution_count": null,
      "outputs": [
        {
          "output_type": "execute_result",
          "data": {
            "text/plain": [
              "(4760, 4760)"
            ]
          },
          "metadata": {},
          "execution_count": 21
        }
      ]
    },
    {
      "cell_type": "markdown",
      "source": [
        "get the input from the user and validate for closest spelling"
      ],
      "metadata": {
        "id": "PPbfvnpXWTqI"
      }
    },
    {
      "cell_type": "code",
      "source": [
        "fav_movie_name = input(\"Enter your favorite movie \")"
      ],
      "metadata": {
        "colab": {
          "base_uri": "https://localhost:8080/"
        },
        "id": "gNZxhPALWWfA",
        "outputId": "acfa3663-8a54-464a-adb0-69ef4d0ddad9"
      },
      "execution_count": null,
      "outputs": [
        {
          "name": "stdout",
          "output_type": "stream",
          "text": [
            "Enter your favorite movie The Shutter Island\n"
          ]
        }
      ]
    },
    {
      "cell_type": "code",
      "source": [
        "all_movies_title_list=movie_list['Movie_Title'].tolist()"
      ],
      "metadata": {
        "id": "XSJ2bUt7WeQ6"
      },
      "execution_count": null,
      "outputs": []
    },
    {
      "cell_type": "code",
      "source": [
        "movie_reco=difflib.get_close_matches(fav_movie_name,all_movies_title_list)\n",
        "print(movie_reco)"
      ],
      "metadata": {
        "colab": {
          "base_uri": "https://localhost:8080/"
        },
        "id": "XZn77Fj9WmcU",
        "outputId": "f4472610-54e2-43de-bd0d-d70679a7985c"
      },
      "execution_count": null,
      "outputs": [
        {
          "output_type": "stream",
          "name": "stdout",
          "text": [
            "['Shutter Island', 'The Inhabited Island', 'The Island']\n"
          ]
        }
      ]
    },
    {
      "cell_type": "code",
      "source": [
        "close_match=movie_reco[0]\n",
        "print(close_match)"
      ],
      "metadata": {
        "colab": {
          "base_uri": "https://localhost:8080/"
        },
        "id": "0hk8Vn6CWuyW",
        "outputId": "b0cf39ac-b44e-470e-f137-fc86b094b96b"
      },
      "execution_count": null,
      "outputs": [
        {
          "output_type": "stream",
          "name": "stdout",
          "text": [
            "Shutter Island\n"
          ]
        }
      ]
    },
    {
      "cell_type": "code",
      "source": [
        "index_close_match=movie_list[movie_list.Movie_Title==close_match]['Movie_ID'].values[0]\n",
        "print(index_close_match)"
      ],
      "metadata": {
        "colab": {
          "base_uri": "https://localhost:8080/"
        },
        "id": "vstlHrK1Wz9b",
        "outputId": "49a3e7fa-173d-4047-a641-f2f612b687bf"
      },
      "execution_count": null,
      "outputs": [
        {
          "output_type": "stream",
          "name": "stdout",
          "text": [
            "1925\n"
          ]
        }
      ]
    },
    {
      "cell_type": "code",
      "source": [
        "# getting a list of similar elements\n",
        "reco_score=list(enumerate(similarity_score[index_close_match]))\n",
        "print(reco_score)"
      ],
      "metadata": {
        "colab": {
          "base_uri": "https://localhost:8080/"
        },
        "id": "igdLRv7XW4_8",
        "outputId": "09abed1d-9e5a-4431-a776-dcd9e422114e"
      },
      "execution_count": null,
      "outputs": [
        {
          "output_type": "stream",
          "name": "stdout",
          "text": [
            "[(0, 0.09807795517492439), (1, 0.03189927018107189), (2, 0.026215998779043636), (3, 0.08425199260860243), (4, 0.0), (5, 0.053140096750324634), (6, 0.08189120196545925), (7, 0.06857855094020347), (8, 0.0), (9, 0.02520784249904931), (10, 0.066173583144374), (11, 0.02820791301012785), (12, 0.06201687972881793), (13, 0.02669221449974593), (14, 0.045840398458327124), (15, 0.04495181557039397), (16, 0.0038655572975935188), (17, 0.0), (18, 0.10857031367182425), (19, 0.016727146245784964), (20, 0.0), (21, 0.004959607973428345), (22, 0.058747668808473735), (23, 0.0), (24, 0.021689456963515267), (25, 0.031161451054991452), (26, 0.0), (27, 0.03712628091191991), (28, 0.04055621474212349), (29, 0.011595539880010691), (30, 0.021357216372058677), (31, 0.12444597285957693), (32, 0.0), (33, 0.010760937882012279), (34, 0.0048259616046262945), (35, 0.03370679658055384), (36, 0.04014576221526925), (37, 0.0898714937801057), (38, 0.043459128729465016), (39, 0.046517982300996935), (40, 0.0), (41, 0.0), (42, 0.0154077074730932), (43, 0.0405962247040991), (44, 0.07726401027331554), (45, 0.11251514716544568), (46, 0.03981494086983898), (47, 0.004116557455580355), (48, 0.018526873093676), (49, 0.024711580581064638), (50, 0.0), (51, 0.0048795210478645), (52, 0.034994909699692975), (53, 0.04287655679930251), (54, 0.015297472369166515), (55, 0.09057129604821375), (56, 0.060543324060666544), (57, 0.03751075976384897), (58, 0.0228402450120938), (59, 0.0), (60, 0.06338272426131684), (61, 0.0), (62, 0.0), (63, 0.0), (64, 0.037334845250994134), (65, 0.06719016561055853), (66, 0.015033909173878738), (67, 0.08772869098559637), (68, 0.022477722651540945), (69, 0.02412837557219489), (70, 0.025172124147454022), (71, 0.03402114316814032), (72, 0.016307054194571905), (73, 0.029343448730662962), (74, 0.07214634588108194), (75, 0.10191175095271648), (76, 0.07594603417375415), (77, 0.15063643658778292), (78, 0.028707079820492594), (79, 0.029421468180195136), (80, 0.061986580279233), (81, 0.029112870329639884), (82, 0.01848038522242861), (83, 0.017038864414486328), (84, 0.07852685420753845), (85, 0.0), (86, 0.03397552453901249), (87, 0.02221689318662516), (88, 0.07496798967232104), (89, 0.033910965098791844), (90, 0.05153575384616989), (91, 0.040785671930679945), (92, 0.016172111672641112), (93, 0.021047220264602054), (94, 0.062125539085317184), (95, 0.022604580643454907), (96, 0.07996191998710972), (97, 0.06502325720234092), (98, 0.05622455910793376), (99, 0.011615202918842679), (100, 0.009616343170756728), (101, 0.027002028884149515), (102, 0.16299015316370893), (103, 0.0), (104, 0.04758657290667514), (105, 0.02701551673348406), (106, 0.02786065050133729), (107, 0.005260037132402242), (108, 0.07447677519886042), (109, 0.0), (110, 0.012444687607841497), (111, 0.026780524563930746), (112, 0.09962560240862388), (113, 0.015111595180819577), (114, 0.0), (115, 0.0805458070513593), (116, 0.004377183783503345), (117, 0.0448525472973373), (118, 0.004758693621731145), (119, 0.023892539177358348), (120, 0.0), (121, 0.02511816237564598), (122, 0.03936169088271764), (123, 0.031436200205102884), (124, 0.1608839397375382), (125, 0.03850811079298795), (126, 0.0), (127, 0.013403537594717576), (128, 0.03595026996528461), (129, 0.030676966473751198), (130, 0.03316293190961563), (131, 0.027597739724551283), (132, 0.016292140674623812), (133, 0.010003688325619445), (134, 0.0), (135, 0.05641573797133335), (136, 0.015605412231565306), (137, 0.032819740366842695), (138, 0.05845423850665836), (139, 0.0), (140, 0.0), (141, 0.035304587967342566), (142, 0.042665573312945446), (143, 0.019277397491262855), (144, 0.004407381178002505), (145, 0.038833397598858475), (146, 0.028203165755054462), (147, 0.004012457335727795), (148, 0.06364430537059815), (149, 0.011223071885422297), (150, 0.04687951028120407), (151, 0.05251424305514248), (152, 0.0611409605650037), (153, 0.026224832694102244), (154, 0.03250403960539333), (155, 0.04743422778086491), (156, 0.06441050774473134), (157, 0.0), (158, 0.01234789406377241), (159, 0.019059909482578144), (160, 0.1019047404181583), (161, 0.02265088025308945), (162, 0.0964085248458102), (163, 0.007136923922966529), (164, 0.013098606930807359), (165, 0.10773898802044346), (166, 0.03868407305189229), (167, 0.08291398681603944), (168, 0.07267590779341858), (169, 0.011963361658873269), (170, 0.03545165130614642), (171, 0.028015241761909025), (172, 0.053657711062257835), (173, 0.01735213331731163), (174, 0.0), (175, 0.010281906462976942), (176, 0.01041564681345931), (177, 0.029401693391494357), (178, 0.019331462078211036), (179, 0.11441143497827584), (180, 0.0), (181, 0.0), (182, 0.02454723072619449), (183, 0.06091229586133861), (184, 0.0107224432032319), (185, 0.0), (186, 0.018906077961232767), (187, 0.02816631858915282), (188, 0.020433444588073633), (189, 0.062440610403011985), (190, 0.021529086993172956), (191, 0.08700362721360488), (192, 0.013169750565169277), (193, 0.033431381660295925), (194, 0.014743981516185757), (195, 0.035557125044845914), (196, 0.04259955656928037), (197, 0.0), (198, 0.021167444814380234), (199, 0.004228826642795022), (200, 0.0040979982432511695), (201, 0.01754291603544145), (202, 0.037922122914509165), (203, 0.03477568661508506), (204, 0.04603332540466018), (205, 0.02699597444646465), (206, 0.06260070085848159), (207, 0.080586630000853), (208, 0.0049237916349627155), (209, 0.012286823060026365), (210, 0.0049983948748179045), (211, 0.012727507888908978), (212, 0.0711576629482299), (213, 0.02672071619119517), (214, 0.03293995842130211), (215, 0.05361094489831844), (216, 0.0301435525383507), (217, 0.008726319256145258), (218, 0.07203016742772443), (219, 0.009109236944698678), (220, 0.0489788533016509), (221, 0.023154488902471827), (222, 0.11046485997005841), (223, 0.029421106691421648), (224, 0.0), (225, 0.03513824662329571), (226, 0.03139404196435124), (227, 0.016098361158975238), (228, 0.04003833759077382), (229, 0.009450167000582528), (230, 0.05021982732673018), (231, 0.019270159409333226), (232, 0.013110157369610327), (233, 0.03923120037669151), (234, 0.029392286764446607), (235, 0.015537419834453538), (236, 0.028250616710545), (237, 0.045470239401432806), (238, 0.0047302391341226095), (239, 0.046653134543030786), (240, 0.06430895608220197), (241, 0.015032025368804049), (242, 0.043441545575466284), (243, 0.031015459087619483), (244, 0.014741569497087955), (245, 0.0), (246, 0.0), (247, 0.0), (248, 0.008134076438212633), (249, 0.07166753138596085), (250, 0.07350829171571183), (251, 0.03662364501224058), (252, 0.015356813092981472), (253, 0.01505032589226402), (254, 0.038700097365973726), (255, 0.014231792277000232), (256, 0.0), (257, 0.09033517139587008), (258, 0.027957676155083558), (259, 0.05642834689709801), (260, 0.062173259373678735), (261, 0.09759108463876512), (262, 0.021631218884885763), (263, 0.05097529037816695), (264, 0.029554116813284414), (265, 0.008813230030212834), (266, 0.045815043865807634), (267, 0.0), (268, 0.029618843742022047), (269, 0.07469343329081995), (270, 0.015753775344124924), (271, 0.017637760215860648), (272, 0.012172879682985813), (273, 0.0455413513655838), (274, 0.04031511129893718), (275, 0.023855170041097766), (276, 0.0043729394780157695), (277, 0.08993278277771112), (278, 0.0), (279, 0.028602558237603503), (280, 0.1227657891786056), (281, 0.01869067647779609), (282, 0.03720086853981747), (283, 0.15296162714573378), (284, 0.041827819533514235), (285, 0.026090584102574088), (286, 0.0), (287, 0.05814524589316615), (288, 0.03741250219088155), (289, 0.04032773524988006), (290, 0.0037845297762267517), (291, 0.03284901898591817), (292, 0.011813847504493616), (293, 0.04948451634308451), (294, 0.025381664801584783), (295, 0.003782196131641797), (296, 0.003475939938569238), (297, 0.04032772373258146), (298, 0.031916065016660826), (299, 0.02230939306989386), (300, 0.0), (301, 0.023602925749916827), (302, 0.0938713293463209), (303, 0.04470614495284816), (304, 0.004275813128985404), (305, 0.016798011767922567), (306, 0.08065013974916313), (307, 0.1269524707138514), (308, 0.0), (309, 0.0633482781674853), (310, 0.05792029045935688), (311, 0.035015410252641155), (312, 0.0), (313, 0.023030689115805913), (314, 0.031048006324526), (315, 0.019761694854051888), (316, 0.029250795197253605), (317, 0.029280733031435337), (318, 0.0), (319, 0.035011290018783794), (320, 0.12852133095683732), (321, 0.01912203941496963), (322, 0.052100902686036545), (323, 0.019264711135666038), (324, 0.1314746671054418), (325, 0.01423431104451984), (326, 0.0), (327, 0.06888460285495965), (328, 0.09726933236598331), (329, 0.004499036359795093), (330, 0.0849755193111224), (331, 0.008732692657124268), (332, 0.003472638037975383), (333, 0.07482695403279702), (334, 0.06359510934719748), (335, 0.046312593776412975), (336, 0.017465685715963956), (337, 0.035710854325233396), (338, 0.060749237141046145), (339, 0.034955791320388126), (340, 0.025681356380676708), (341, 0.04068266308467129), (342, 0.08994145168442444), (343, 0.012268859863584556), (344, 0.012806599024170515), (345, 0.08962236376064979), (346, 0.020995626230042214), (347, 0.03426694428780599), (348, 0.04492746933820891), (349, 0.030350933141115692), (350, 0.005049000628064666), (351, 0.014020201985599558), (352, 0.04827185356033621), (353, 0.05580000386332898), (354, 0.0518016562084751), (355, 0.03388992381436328), (356, 0.051095689781804066), (357, 0.056014017381866815), (358, 0.0), (359, 0.00806896135427895), (360, 0.028312085414557764), (361, 0.012925576126690515), (362, 0.020289321004238865), (363, 0.0), (364, 0.022617369725455774), (365, 0.0), (366, 0.012284204319152576), (367, 0.07161479767043241), (368, 0.035426212104623156), (369, 0.08850405866303451), (370, 0.004630298002613094), (371, 0.018502317090450728), (372, 0.022690807213609755), (373, 0.017415888581918067), (374, 0.020292640521625084), (375, 0.021717224154505332), (376, 0.11494707505527231), (377, 0.036345828408289885), (378, 0.017411227140017187), (379, 0.025301035924810266), (380, 0.07598299568126368), (381, 0.05618860351165651), (382, 0.009323189890744082), (383, 0.0), (384, 0.015984615853661944), (385, 0.016675162937937128), (386, 0.014333952988731049), (387, 0.07351578389313423), (388, 0.021342158906477414), (389, 0.042646925421111946), (390, 0.11654089718777422), (391, 0.01763025462628146), (392, 0.027556813767446897), (393, 0.0), (394, 0.0563182662450607), (395, 0.0), (396, 0.017659275301172287), (397, 0.020092059790858423), (398, 0.0), (399, 0.02899689128962129), (400, 0.0), (401, 0.0), (402, 0.016781206684446215), (403, 0.03621723005037917), (404, 0.01783357090723098), (405, 0.034734623754402796), (406, 0.004731801757821714), (407, 0.06408876338850496), (408, 0.04318475098774533), (409, 0.020814104145466077), (410, 0.0520521143985129), (411, 0.019246823654895426), (412, 0.0284178468618732), (413, 0.018512868204087277), (414, 0.006602735096226217), (415, 0.009286963838758254), (416, 0.03446887128862702), (417, 0.02393447417296606), (418, 0.040135194024574994), (419, 0.011416337623273128), (420, 0.05840670152576686), (421, 0.009417174697673879), (422, 0.0), (423, 0.010060688331723371), (424, 0.03472158354999978), (425, 0.034691458714505005), (426, 0.02860268229114688), (427, 0.028308832080643546), (428, 0.061120233395954425), (429, 0.004860550219948187), (430, 0.058813303525968946), (431, 0.011954192697347132), (432, 0.10314139196795745), (433, 0.031730423204759536), (434, 0.02628382196853813), (435, 0.003760671161084861), (436, 0.005188913945561147), (437, 0.0), (438, 0.026492175724808654), (439, 0.0631320594018506), (440, 0.028933623945513215), (441, 0.02012449318569751), (442, 0.013941987813848984), (443, 0.024514154283160554), (444, 0.029132627067279936), (445, 0.012895226150621308), (446, 0.028289008617824147), (447, 0.020457048723864616), (448, 0.054376186962411865), (449, 0.01886825281759231), (450, 0.026183035105095745), (451, 0.02861671806622175), (452, 0.02751291129701145), (453, 0.01998038246212379), (454, 0.024076739943124155), (455, 0.1040667517144675), (456, 0.015959349741727503), (457, 0.028817719650717975), (458, 0.016485231495709112), (459, 0.03281927840227084), (460, 0.04611248647722961), (461, 0.0), (462, 0.03477545705764119), (463, 0.05079875181948392), (464, 0.014889326699594965), (465, 0.04064727199122026), (466, 0.04772384365010088), (467, 0.09690609253311247), (468, 0.031205349228512785), (469, 0.0999155913689361), (470, 0.015893080527718255), (471, 0.02932152271087435), (472, 0.045891936641932744), (473, 0.0), (474, 0.0), (475, 0.11357389276679242), (476, 0.0), (477, 0.04614764854974047), (478, 0.0), (479, 0.035070060803681094), (480, 0.009153386021833177), (481, 0.12626828242260704), (482, 0.004840811161902272), (483, 0.07516502626442459), (484, 0.06089071668344964), (485, 0.016142587397974518), (486, 0.02615897528073114), (487, 0.009703427633797015), (488, 0.013314882405192748), (489, 0.0), (490, 0.0), (491, 0.0345031571604675), (492, 0.04161864680042825), (493, 0.015999420798855444), (494, 0.01846094346436582), (495, 0.010769670743892654), (496, 0.0468761081527581), (497, 0.04456673016974316), (498, 0.029127691786758197), (499, 0.0), (500, 0.048609939071108346), (501, 0.040533692278554335), (502, 0.03018675671577661), (503, 0.009860411846500486), (504, 0.012250107153768189), (505, 0.0), (506, 0.027785521574860715), (507, 0.011433411291525523), (508, 0.03513085550130911), (509, 0.03155249861524882), (510, 0.042673540913439834), (511, 0.06083699681677469), (512, 0.019984765165960712), (513, 0.005041574418380851), (514, 0.04310645063088334), (515, 0.01856024773092095), (516, 0.02723643799700535), (517, 0.042807735762430674), (518, 0.01981109159742376), (519, 0.0040949411049097705), (520, 0.02227583488158427), (521, 0.0713385333596448), (522, 0.05433395120018626), (523, 0.0411306565231491), (524, 0.03919907752181412), (525, 0.012111328255833408), (526, 0.0), (527, 0.0), (528, 0.015337789346769728), (529, 0.012251779190308464), (530, 0.08135188276700417), (531, 0.012170259978993842), (532, 0.021370775249222363), (533, 0.023838343562531505), (534, 0.004580595279004704), (535, 0.01486302198599831), (536, 0.014649851227907804), (537, 0.025013618020639408), (538, 0.03524741824605094), (539, 0.0), (540, 0.02675664102531368), (541, 0.0), (542, 0.02670183508343983), (543, 0.0048303413062176555), (544, 0.0578072275630909), (545, 0.05530227976600728), (546, 0.03781228335157875), (547, 0.010266137704380592), (548, 0.027265320078428457), (549, 0.036653887155751436), (550, 0.0051226866962841705), (551, 0.012645843463673066), (552, 0.019006946994466783), (553, 0.04036027705823926), (554, 0.04931348523120812), (555, 0.08369594074457293), (556, 0.02306028946608387), (557, 0.008568107467940822), (558, 0.03738520794908463), (559, 0.011965147878195415), (560, 0.025845218006446617), (561, 0.08233811640228106), (562, 0.02669758842550072), (563, 0.11891494317336818), (564, 0.0), (565, 0.06223978860987443), (566, 0.046064113742522686), (567, 0.01690633082267674), (568, 0.02258672282561773), (569, 0.04431924396216537), (570, 0.0), (571, 0.08038895881098164), (572, 0.01777302419300128), (573, 0.008301708734871984), (574, 0.0), (575, 0.05545646471639816), (576, 0.05441165143797811), (577, 0.024396490735288906), (578, 0.024061608492297992), (579, 0.009075617916643563), (580, 0.04904001933755628), (581, 0.004179409842323721), (582, 0.0), (583, 0.02469438266145467), (584, 0.0047988446700313915), (585, 0.011713671328802177), (586, 0.010865941544254791), (587, 0.018585115157565706), (588, 0.012652947415365106), (589, 0.0), (590, 0.015497156457171172), (591, 0.04165199342197232), (592, 0.0), (593, 0.0), (594, 0.02176716336700326), (595, 0.061027671288292965), (596, 0.0), (597, 0.048028021655454486), (598, 0.0), (599, 0.031049414294657646), (600, 0.031055300057083138), (601, 0.10052380635574609), (602, 0.014155050932245316), (603, 0.0313912058728263), (604, 0.025159490387883617), (605, 0.10087559424970957), (606, 0.0369064547329819), (607, 0.01607586773284629), (608, 0.02177527360616081), (609, 0.10589449416518856), (610, 0.012106553521992212), (611, 0.0), (612, 0.0790117510389154), (613, 0.04541011267721402), (614, 0.03386242983628603), (615, 0.012613455297003815), (616, 0.07338806521138921), (617, 0.04877431111794631), (618, 0.02532606162808112), (619, 0.11545898126933919), (620, 0.03909397987305343), (621, 0.016668845140681492), (622, 0.047710989934355616), (623, 0.05553879326091402), (624, 0.009541176556661958), (625, 0.01891058817695827), (626, 0.008590202712705936), (627, 0.0), (628, 0.03845110744063052), (629, 0.019873260788565265), (630, 0.04243851297176348), (631, 0.012519761746609074), (632, 0.0), (633, 0.033595410598775605), (634, 0.01319345780009391), (635, 0.03165156772782732), (636, 0.004683819541248061), (637, 0.020401355717059994), (638, 0.023225653415895976), (639, 0.014198323525483388), (640, 0.04437513197316907), (641, 0.01989513092802068), (642, 0.028907403643938075), (643, 0.024969195303313575), (644, 0.015972894058661063), (645, 0.012302818963653829), (646, 0.0), (647, 0.016123636679521897), (648, 0.031035363099407614), (649, 0.0), (650, 0.0), (651, 0.0), (652, 0.004743768186720276), (653, 0.06465998119635674), (654, 0.01772176246557662), (655, 0.058295130586316184), (656, 0.07092692649339336), (657, 0.08742372519390164), (658, 0.03059223118025132), (659, 0.03657055996908749), (660, 0.015740821620603414), (661, 0.04719911605657898), (662, 0.042440781278001063), (663, 0.01926870627305404), (664, 0.07388895894456857), (665, 0.025256016913832648), (666, 0.038429841361046164), (667, 0.004875985976470344), (668, 0.05055420163246773), (669, 0.05807265645649152), (670, 0.005715575024902011), (671, 0.0), (672, 0.0), (673, 0.016122610055985188), (674, 0.01718574535658253), (675, 0.018336633076636355), (676, 0.014609086997137737), (677, 0.028430570614703332), (678, 0.005055990836714806), (679, 0.017360097477477535), (680, 0.012949520425101132), (681, 0.05815478474322994), (682, 0.005216014359988199), (683, 0.01374639632406785), (684, 0.042113473793421584), (685, 0.03897806623455345), (686, 0.019160995220377355), (687, 0.03983392811047762), (688, 0.033379705278979904), (689, 0.06161356461302872), (690, 0.0296591440742525), (691, 0.03453498330365213), (692, 0.09387858197843459), (693, 0.0), (694, 0.004361267784634603), (695, 0.053949845750531314), (696, 0.04418581398382261), (697, 0.047985641848582575), (698, 0.017386550316108536), (699, 0.021900329303790666), (700, 0.05188169356759467), (701, 0.05796361431975097), (702, 0.030313470285182904), (703, 0.02149356118439506), (704, 0.04202880879777638), (705, 0.016268804705868962), (706, 0.03729934680654255), (707, 0.032921465474755426), (708, 0.0), (709, 0.025227131965164136), (710, 0.023684468737699707), (711, 0.0605732032618984), (712, 0.013308318949731087), (713, 0.014341084723798692), (714, 0.0), (715, 0.0), (716, 0.004863379001505367), (717, 0.031861789060348165), (718, 0.0), (719, 0.06561080499433625), (720, 0.0), (721, 0.0), (722, 0.03443457349834805), (723, 0.07006528490354548), (724, 0.06813811240377632), (725, 0.04022695422657481), (726, 0.05427553184036004), (727, 0.11939274620760655), (728, 0.04287226174846419), (729, 0.05562829565778648), (730, 0.03449373949898207), (731, 0.06108645141005625), (732, 0.050190298233601396), (733, 0.07202519575498939), (734, 0.012891970113713408), (735, 0.02307548907133621), (736, 0.0839204772969414), (737, 0.025166682738741293), (738, 0.09970909298702273), (739, 0.08180106031540921), (740, 0.07411536568635291), (741, 0.0), (742, 0.056823338070278395), (743, 0.030660838227075413), (744, 0.08094202176483792), (745, 0.059564345496592376), (746, 0.008586152702252808), (747, 0.057268664776758724), (748, 0.02225075629492402), (749, 0.0243676790388925), (750, 0.033014456204272104), (751, 0.020920736550945142), (752, 0.0144052167766113), (753, 0.022837569299888363), (754, 0.0), (755, 0.0), (756, 0.02998874769950858), (757, 0.029179267949412637), (758, 0.010512150433330494), (759, 0.0), (760, 0.016948766795823342), (761, 0.004638499242410863), (762, 0.06487050721182254), (763, 0.13964407645289623), (764, 0.014793601916257674), (765, 0.017770418649653185), (766, 0.0), (767, 0.09507931985299388), (768, 0.024843712250104347), (769, 0.03370423118881881), (770, 0.02341338112181289), (771, 0.0), (772, 0.0), (773, 0.061354744213113384), (774, 0.0), (775, 0.036237735223525996), (776, 0.034962258442072625), (777, 0.012182909080783195), (778, 0.0303729624870425), (779, 0.01437303259200575), (780, 0.09089725498706008), (781, 0.07478577079360905), (782, 0.011684365993838887), (783, 0.028361595835828538), (784, 0.0), (785, 0.03943968800798812), (786, 0.012616319148267706), (787, 0.06745971085440516), (788, 0.01118003881333862), (789, 0.019653156625017428), (790, 0.08418964753125216), (791, 0.0), (792, 0.05047602145464685), (793, 0.004816532083513082), (794, 0.010954470386874846), (795, 0.0), (796, 0.027570527048740866), (797, 0.015720688977905503), (798, 0.04145717617748475), (799, 0.03717827023567759), (800, 0.013544549580558365), (801, 0.105451548027194), (802, 0.0789451044883889), (803, 0.062454130901578184), (804, 0.02981662218299526), (805, 0.043728481346906004), (806, 0.06876230241248053), (807, 0.03504490436017591), (808, 0.08111450118620114), (809, 0.020225780434837377), (810, 0.047743523340760374), (811, 0.013616036019888672), (812, 0.043538754343994464), (813, 0.04281275429101176), (814, 0.01547363168310795), (815, 0.0), (816, 0.0), (817, 0.009809241971161316), (818, 0.0), (819, 0.0), (820, 0.12456626837486265), (821, 0.027981665619953452), (822, 0.06241250189414335), (823, 0.0), (824, 0.05054287574346342), (825, 0.03670600889097258), (826, 0.0), (827, 0.01868988805835707), (828, 0.027908396706467328), (829, 0.09106497113367981), (830, 0.010655398077308214), (831, 0.00327409694336624), (832, 0.04296140338201877), (833, 0.049066762050271), (834, 0.05200186387496712), (835, 0.04957129852023235), (836, 0.0), (837, 0.0077919738740107256), (838, 0.0), (839, 0.07491221370351578), (840, 0.07207858031419336), (841, 0.0318421449146264), (842, 0.00567088259152727), (843, 0.02887463081727626), (844, 0.0), (845, 0.020625232670638937), (846, 0.05305779666429411), (847, 0.013963211161546663), (848, 0.0), (849, 0.004634751301210985), (850, 0.0318298657970498), (851, 0.0), (852, 0.06853010916535172), (853, 0.03629363611851558), (854, 0.025996404953554132), (855, 0.026909004843339863), (856, 0.01228746777653225), (857, 0.015201195272952139), (858, 0.011178953838580441), (859, 0.039688396827780054), (860, 0.01711806449323232), (861, 0.01297633371240494), (862, 0.021215875650052642), (863, 0.013774359815473043), (864, 0.026213750122413865), (865, 0.06565401537918232), (866, 0.015631316260766484), (867, 0.0), (868, 0.0043060265523833016), (869, 0.0), (870, 0.016441363110750687), (871, 0.017363315943842026), (872, 0.0185602304349134), (873, 0.0), (874, 0.021001470421372872), (875, 0.04185772350585966), (876, 0.021006003527968976), (877, 0.017573309250409147), (878, 0.015881351435611125), (879, 0.004838553917762305), (880, 0.05078753598210811), (881, 0.052917550323819305), (882, 0.010793691740668241), (883, 0.011631629704190325), (884, 0.0), (885, 0.020013712060412407), (886, 0.06790437981653494), (887, 0.0113422303171884), (888, 0.020396629550642316), (889, 0.0), (890, 0.012699312622875478), (891, 0.09421792440401477), (892, 0.044889655680073984), (893, 0.012110486634410797), (894, 0.026983923475189166), (895, 0.06518765691452343), (896, 0.021522015464512698), (897, 0.02895160411453209), (898, 0.06252120997754783), (899, 0.011224497132592264), (900, 0.004336282089481313), (901, 0.0), (902, 0.02254180299087799), (903, 0.016251127392780704), (904, 0.030331987632964123), (905, 0.005364949073438551), (906, 0.0), (907, 0.011197663357055802), (908, 0.02782791977143339), (909, 0.013913069596194276), (910, 0.004245439666221017), (911, 0.027465456775500666), (912, 0.04464985667193248), (913, 0.06854979457248406), (914, 0.01704415588232311), (915, 0.01617968176854486), (916, 0.028335358274608535), (917, 0.0), (918, 0.08064164721116458), (919, 0.017087260479665682), (920, 0.013828347288841898), (921, 0.05243372260473801), (922, 0.0), (923, 0.0467727961803269), (924, 0.010606318569130324), (925, 0.010109943412562574), (926, 0.02248527592451434), (927, 0.039733057054648975), (928, 0.0735353773563098), (929, 0.04847499962357918), (930, 0.030771241127993117), (931, 0.0351666219933763), (932, 0.027503725805987953), (933, 0.0), (934, 0.022194853937610778), (935, 0.033977105594149334), (936, 0.06168558894517187), (937, 0.005418472989760708), (938, 0.036278571987350405), (939, 0.024046774281918606), (940, 0.0), (941, 0.0), (942, 0.050450368231851006), (943, 0.0), (944, 0.030939826899760305), (945, 0.04120072832697251), (946, 0.04336400686032338), (947, 0.01992948276678986), (948, 0.015331723709209362), (949, 0.024491894110464353), (950, 0.010272706314264211), (951, 0.0), (952, 0.03325911759924685), (953, 0.022941818362532278), (954, 0.0), (955, 0.01195164287194081), (956, 0.03903811922414954), (957, 0.02789861148734233), (958, 0.0), (959, 0.03410395851532199), (960, 0.009331515565705394), (961, 0.019750626161812133), (962, 0.04051692178680268), (963, 0.05989293804219597), (964, 0.007329861820463627), (965, 0.031680793958532426), (966, 0.011496787402511218), (967, 0.03320530005480286), (968, 0.02013063665213139), (969, 0.06254728013083646), (970, 0.06368098765046976), (971, 0.028038163488300218), (972, 0.0), (973, 0.023992971375987077), (974, 0.015740355647616097), (975, 0.0), (976, 0.004888249362862973), (977, 0.018910871623078064), (978, 0.037928082577269935), (979, 0.021099806338924575), (980, 0.00479329725921936), (981, 0.07181302943073968), (982, 0.03826413804835162), (983, 0.06092795909633507), (984, 0.0459165449260166), (985, 0.0), (986, 0.004634270231895263), (987, 0.02613755472224752), (988, 0.0270618599960787), (989, 0.02958175409597218), (990, 0.0), (991, 0.014416491242426034), (992, 0.0701920036424725), (993, 0.042300782559955466), (994, 0.0), (995, 0.035785693873736875), (996, 0.0065443882165781096), (997, 0.055944639798987644), (998, 0.0), (999, 0.0), (1000, 0.03165210535001002), (1001, 0.027630507996955003), (1002, 0.023203470135032277), (1003, 0.03144868023228335), (1004, 0.0), (1005, 0.032300525939666334), (1006, 0.012721354275870934), (1007, 0.035266865221631874), (1008, 0.024685064827720392), (1009, 0.06638442413766765), (1010, 0.010298785172345726), (1011, 0.03333095750026853), (1012, 0.004594372912394798), (1013, 0.08429686192424386), (1014, 0.020086007619985656), (1015, 0.0050133439503884875), (1016, 0.015179304268093483), (1017, 0.004507859971798923), (1018, 0.04234958692686379), (1019, 0.03331854739606149), (1020, 0.0), (1021, 0.0), (1022, 0.06942424422231816), (1023, 0.0), (1024, 0.0048304285861455794), (1025, 0.010850881922549672), (1026, 0.05923294652604087), (1027, 0.06488089172574181), (1028, 0.034653205012841054), (1029, 0.05849966523075625), (1030, 0.004489358712366903), (1031, 0.04072783447960696), (1032, 0.0), (1033, 0.023343013857476492), (1034, 0.04382948369630632), (1035, 0.04081565352427972), (1036, 0.07260506498291158), (1037, 0.0), (1038, 0.03547808183416033), (1039, 0.08397202324639763), (1040, 0.0), (1041, 0.04960584518477881), (1042, 0.027928449533376608), (1043, 0.013306420742270656), (1044, 0.09324412358973898), (1045, 0.016977135846859864), (1046, 0.053483479795804645), (1047, 0.06496890962547253), (1048, 0.030214150970710146), (1049, 0.0), (1050, 0.0), (1051, 0.020248550620712485), (1052, 0.020656884577595104), (1053, 0.011922463806156998), (1054, 0.05283659493971832), (1055, 0.06115317396127555), (1056, 0.052706042621813706), (1057, 0.03922991330483668), (1058, 0.005684530727301485), (1059, 0.04521375582040725), (1060, 0.07212268506546114), (1061, 0.02579633045886862), (1062, 0.07320085221422966), (1063, 0.004481055229703266), (1064, 0.005618865156864889), (1065, 0.004238937702939714), (1066, 0.057360782727461215), (1067, 0.0), (1068, 0.015549886136139841), (1069, 0.05868149672949453), (1070, 0.0), (1071, 0.06774332310918658), (1072, 0.0), (1073, 0.0), (1074, 0.04269628890058442), (1075, 0.0), (1076, 0.014520137573940245), (1077, 0.048310084413678886), (1078, 0.014073121710045884), (1079, 0.027704212621836203), (1080, 0.01878107376229715), (1081, 0.01741516798556137), (1082, 0.04017261691439264), (1083, 0.022863851292697013), (1084, 0.0313187911394802), (1085, 0.0), (1086, 0.014069287713337469), (1087, 0.07251511844513345), (1088, 0.0283880635634649), (1089, 0.01820280329228477), (1090, 0.07045000778672504), (1091, 0.018980102340675334), (1092, 0.020763198519854763), (1093, 0.0), (1094, 0.0), (1095, 0.08291026223371835), (1096, 0.0), (1097, 0.02562542842033423), (1098, 0.0), (1099, 0.004917817162318142), (1100, 0.018072454337723833), (1101, 0.039834288973276184), (1102, 0.03324779665364409), (1103, 0.010922867672596894), (1104, 0.02695242407404925), (1105, 0.024714638114086095), (1106, 0.05736857744286164), (1107, 0.0043150547369403495), (1108, 0.049342500690129854), (1109, 0.02700395438939705), (1110, 0.0), (1111, 0.11449811680542354), (1112, 0.0), (1113, 0.03679837001519831), (1114, 0.028141334551297744), (1115, 0.05414934114893988), (1116, 0.03475743231753463), (1117, 0.010020815564216141), (1118, 0.06722861059146186), (1119, 0.04511886744242151), (1120, 0.04690291043268201), (1121, 0.08825898577584429), (1122, 0.01533578665107537), (1123, 0.03624554135895347), (1124, 0.032552149633293954), (1125, 0.0), (1126, 0.0), (1127, 0.06550760572882117), (1128, 0.0), (1129, 0.09793317352684522), (1130, 0.06485333321061071), (1131, 0.0685481641183438), (1132, 0.025893226537611516), (1133, 0.01833707059275409), (1134, 0.04568659434692409), (1135, 0.047545858565198246), (1136, 0.021349938891369692), (1137, 0.07190899694944669), (1138, 0.004691469322854202), (1139, 0.048504290264473), (1140, 0.063548645422338), (1141, 0.0049562987490696575), (1142, 0.0), (1143, 0.011677367494045337), (1144, 0.009707935403361238), (1145, 0.0), (1146, 0.07188156216190457), (1147, 0.0), (1148, 0.005236394839341496), (1149, 0.02646672717950251), (1150, 0.03683518594905873), (1151, 0.017384095403873527), (1152, 0.0), (1153, 0.016523620088261005), (1154, 0.059061400030420125), (1155, 0.06146489894921003), (1156, 0.0), (1157, 0.044135386915507585), (1158, 0.043425295735010985), (1159, 0.0), (1160, 0.0), (1161, 0.0), (1162, 0.0050597929602004274), (1163, 0.008777039773578688), (1164, 0.017868244398468503), (1165, 0.06909993917106058), (1166, 0.0), (1167, 0.014713756513884152), (1168, 0.025372893912479582), (1169, 0.0), (1170, 0.012190200570082216), (1171, 0.07253594610901228), (1172, 0.0), (1173, 0.03050926889600404), (1174, 0.004741235540953529), (1175, 0.0), (1176, 0.0), (1177, 0.022477678386520927), (1178, 0.055921149803841316), (1179, 0.04295462716461077), (1180, 0.014030746601045523), (1181, 0.004366440863237782), (1182, 0.0), (1183, 0.0043048122956666195), (1184, 0.06412170007423569), (1185, 0.028393956347094698), (1186, 0.023918210352988564), (1187, 0.0), (1188, 0.08280332989989728), (1189, 0.03942239595217541), (1190, 0.08112164802084222), (1191, 0.06084974614314538), (1192, 0.0763739029412554), (1193, 0.0), (1194, 0.02540326208496135), (1195, 0.09654447678317532), (1196, 0.010070308069110906), (1197, 0.03578914329670207), (1198, 0.0), (1199, 0.03746941229198118), (1200, 0.026095283797881647), (1201, 0.015590003688971852), (1202, 0.019989910252464688), (1203, 0.025278814606616285), (1204, 0.010583517837415768), (1205, 0.0728019281288671), (1206, 0.011382782204863853), (1207, 0.02722126059489789), (1208, 0.015523965107163092), (1209, 0.0), (1210, 0.03878948484325813), (1211, 0.012725983733168385), (1212, 0.030809705406922377), (1213, 0.016142700758072448), (1214, 0.03582958941862085), (1215, 0.04301576331776703), (1216, 0.11744315736189097), (1217, 0.018112017419215646), (1218, 0.020004058791287922), (1219, 0.0950758848499029), (1220, 0.02311188385868458), (1221, 0.1695040048978378), (1222, 0.05549519933562915), (1223, 0.04082746489402342), (1224, 0.04149308556978358), (1225, 0.02078353577851392), (1226, 0.004591116768398374), (1227, 0.0), (1228, 0.0), (1229, 0.07335515766853264), (1230, 0.021092197961337697), (1231, 0.0), (1232, 0.00467358666285043), (1233, 0.04316054047952912), (1234, 0.011045969482307754), (1235, 0.0), (1236, 0.004217762235263361), (1237, 0.043983019890934914), (1238, 0.012093513876034828), (1239, 0.02077857158694877), (1240, 0.0), (1241, 0.020020085855645877), (1242, 0.06933878845981807), (1243, 0.0), (1244, 0.034254096289313106), (1245, 0.034618426873674266), (1246, 0.013154315612700838), (1247, 0.0), (1248, 0.07248196243055154), (1249, 0.057080934326829535), (1250, 0.049373975561645224), (1251, 0.0), (1252, 0.018233507782820742), (1253, 0.06747785002501958), (1254, 0.02495905630276864), (1255, 0.02863032589919156), (1256, 0.043589151351961744), (1257, 0.09422727448497638), (1258, 0.0), (1259, 0.0794025271963675), (1260, 0.0), (1261, 0.0594316648826721), (1262, 0.06747069783406347), (1263, 0.08244802630526668), (1264, 0.0), (1265, 0.028398869746269442), (1266, 0.01715428114620065), (1267, 0.029535674038651698), (1268, 0.06895211211973706), (1269, 0.017309018007691305), (1270, 0.04844785877549533), (1271, 0.03080480003410023), (1272, 0.013232901026078336), (1273, 0.011588614254126366), (1274, 0.0199139760629254), (1275, 0.029110058096391375), (1276, 0.024873205669255435), (1277, 0.031550570303242105), (1278, 0.09492284365358275), (1279, 0.03424174660643724), (1280, 0.04666999443581132), (1281, 0.027968891166023038), (1282, 0.013017664498738358), (1283, 0.0), (1284, 0.04884274186725565), (1285, 0.016598229773976066), (1286, 0.013495188438130358), (1287, 0.008471226474992424), (1288, 0.011078957428861592), (1289, 0.0), (1290, 0.027724038612460554), (1291, 0.07446723804576195), (1292, 0.1146150054645605), (1293, 0.02787331054705161), (1294, 0.034389807115827654), (1295, 0.06443591789243656), (1296, 0.06152173603430892), (1297, 0.025963934261016466), (1298, 0.01037344384924439), (1299, 0.0), (1300, 0.016658732119927577), (1301, 0.010638006112190056), (1302, 0.004703851452094479), (1303, 0.0037392726213741814), (1304, 0.04838536418852271), (1305, 0.02013294450352556), (1306, 0.08955440648683054), (1307, 0.03849843280050948), (1308, 0.02499145391076071), (1309, 0.016861232947099538), (1310, 0.012424232784148101), (1311, 0.0), (1312, 0.022987614361977375), (1313, 0.0), (1314, 0.01654054808408751), (1315, 0.025415838252859535), (1316, 0.0), (1317, 0.05872729981676321), (1318, 0.01343405821386743), (1319, 0.03583913080094033), (1320, 0.0), (1321, 0.0140138943539465), (1322, 0.012395346828245746), (1323, 0.0), (1324, 0.030624748199948607), (1325, 0.005026836385604857), (1326, 0.07030991376287418), (1327, 0.0), (1328, 0.0), (1329, 0.046451009007068424), (1330, 0.014786895899705828), (1331, 0.00929087301109967), (1332, 0.005167310680956077), (1333, 0.0), (1334, 0.01886455206066233), (1335, 0.13418960309394945), (1336, 0.06725540622756965), (1337, 0.00473291370373399), (1338, 0.011976164941976663), (1339, 0.011087553277794602), (1340, 0.008858656229466312), (1341, 0.055153666886967635), (1342, 0.00734221366138589), (1343, 0.030440530888887866), (1344, 0.08074659648130199), (1345, 0.09634615626790016), (1346, 0.03422407412828585), (1347, 0.05156894206011793), (1348, 0.004039758164159421), (1349, 0.03834273561611272), (1350, 0.0), (1351, 0.07485298585733592), (1352, 0.018953503230132653), (1353, 0.022330295006190527), (1354, 0.09576025193390948), (1355, 0.0), (1356, 0.032279148890377175), (1357, 0.06679614472069671), (1358, 0.017086581618978504), (1359, 0.04106281385272648), (1360, 0.04143227960965446), (1361, 0.045024892258957734), (1362, 0.0), (1363, 0.0), (1364, 0.012643578613209978), (1365, 0.08737375818683729), (1366, 0.16333531112709357), (1367, 0.04983295177050796), (1368, 0.029478845888954847), (1369, 0.02880272002387687), (1370, 0.0), (1371, 0.050663257936529794), (1372, 0.0), (1373, 0.03174488663035647), (1374, 0.030575192111667475), (1375, 0.1070006271537938), (1376, 0.0801492196606084), (1377, 0.020785684904021672), (1378, 0.04225633111533662), (1379, 0.04291369702050923), (1380, 0.01773294733655781), (1381, 0.06426837522049735), (1382, 0.026315052030377636), (1383, 0.005235292653986942), (1384, 0.0579274966864184), (1385, 0.004643643256256427), (1386, 0.0), (1387, 0.07458375416959884), (1388, 0.0), (1389, 0.03229075769408824), (1390, 0.05421324408569622), (1391, 0.014983459461395345), (1392, 0.027164747896622543), (1393, 0.019295597878175252), (1394, 0.019768833174464408), (1395, 0.020612091306427896), (1396, 0.0713022048554527), (1397, 0.0), (1398, 0.011734154952893473), (1399, 0.0), (1400, 0.04020117428723592), (1401, 0.030108390388060728), (1402, 0.028563957077968837), (1403, 0.0423569831912216), (1404, 0.02888081970109125), (1405, 0.07582511231667963), (1406, 0.004532709742691264), (1407, 0.014272483450896913), (1408, 0.010159285746144308), (1409, 0.019659689032633217), (1410, 0.0), (1411, 0.055384469847233275), (1412, 0.07691374385680994), (1413, 0.09137377207534486), (1414, 0.004137498660767125), (1415, 0.0), (1416, 0.014394680177731104), (1417, 0.0036202509906142007), (1418, 0.018719272071499673), (1419, 0.032005449680393504), (1420, 0.049756543319540894), (1421, 0.03073111655526771), (1422, 0.011855718437336661), (1423, 0.0), (1424, 0.0), (1425, 0.027710813840180065), (1426, 0.036444969495947305), (1427, 0.011284269326356802), (1428, 0.04128927868096021), (1429, 0.01776129007197771), (1430, 0.023810299802693582), (1431, 0.060462928614254875), (1432, 0.022433746771468362), (1433, 0.020444035521463903), (1434, 0.01542866402363822), (1435, 0.020141721080600805), (1436, 0.028515819055809414), (1437, 0.01182000429455643), (1438, 0.0), (1439, 0.03507552788010061), (1440, 0.0), (1441, 0.029023913954862934), (1442, 0.026973479311908948), (1443, 0.03914757369707007), (1444, 0.0), (1445, 0.0), (1446, 0.011668744402309075), (1447, 0.012010216647068877), (1448, 0.004285369860392825), (1449, 0.05541081467121978), (1450, 0.0), (1451, 0.052751813709659534), (1452, 0.03205765426547602), (1453, 0.01959446404345219), (1454, 0.016551379763783104), (1455, 0.004632174840923217), (1456, 0.08550477786177009), (1457, 0.014028074633763762), (1458, 0.0639888422638849), (1459, 0.038798375602289006), (1460, 0.0), (1461, 0.03779449512470856), (1462, 0.02932167195277916), (1463, 0.02626349576249859), (1464, 0.01994860731961776), (1465, 0.02111359301423163), (1466, 0.0), (1467, 0.07696005894856742), (1468, 0.02616040551785446), (1469, 0.06472081444297834), (1470, 0.0), (1471, 0.04810299513900129), (1472, 0.05688440946130846), (1473, 0.0), (1474, 0.07108906692913047), (1475, 0.017616808718452174), (1476, 0.015261140122328204), (1477, 0.10361509651963975), (1478, 0.036241625968663024), (1479, 0.0), (1480, 0.0361798794839493), (1481, 0.004488764854073396), (1482, 0.023809879458987257), (1483, 0.013485356616012257), (1484, 0.004905873979332324), (1485, 0.0), (1486, 0.08894074492084231), (1487, 0.03157792453729847), (1488, 0.004649471098015512), (1489, 0.07972211750015541), (1490, 0.0), (1491, 0.0), (1492, 0.021807636703774544), (1493, 0.03474398809023892), (1494, 0.04401966894060297), (1495, 0.03388487553158878), (1496, 0.05742109811426663), (1497, 0.0), (1498, 0.014931188953315543), (1499, 0.0), (1500, 0.036093076308455964), (1501, 0.01216110550351702), (1502, 0.06336418432468123), (1503, 0.051222472860315116), (1504, 0.0), (1505, 0.017387160495707193), (1506, 0.09974826753791982), (1507, 0.02104397386067205), (1508, 0.05209797770069841), (1509, 0.034371985592981595), (1510, 0.06129742299425501), (1511, 0.022769946041053347), (1512, 0.020724880487746542), (1513, 0.0), (1514, 0.0), (1515, 0.09046003161646242), (1516, 0.0), (1517, 0.034337880752356824), (1518, 0.03869209321781454), (1519, 0.004288723189278168), (1520, 0.013071261345823244), (1521, 0.01927096871547042), (1522, 0.02459193665957918), (1523, 0.012868974212590135), (1524, 0.057850444239611123), (1525, 0.012484596281304354), (1526, 0.011635970604269536), (1527, 0.0), (1528, 0.03736256133529678), (1529, 0.016777898109133074), (1530, 0.027967989328804326), (1531, 0.014190429236667036), (1532, 0.008346107659737284), (1533, 0.0), (1534, 0.024827342898937454), (1535, 0.039739203723263325), (1536, 0.12019818412356903), (1537, 0.03412916747499245), (1538, 0.01668024625107869), (1539, 0.027243840441611617), (1540, 0.0), (1541, 0.009890804553486161), (1542, 0.004801756274107511), (1543, 0.1323836378698125), (1544, 0.0), (1545, 0.0), (1546, 0.08281678593640164), (1547, 0.0), (1548, 0.015413129281099593), (1549, 0.01812698471068977), (1550, 0.013573883476308031), (1551, 0.02516744263732626), (1552, 0.0), (1553, 0.021493004555916656), (1554, 0.040779019685971814), (1555, 0.05502390146695784), (1556, 0.032060951083109517), (1557, 0.026197159285043674), (1558, 0.009422651644263919), (1559, 0.03806591014160772), (1560, 0.00990811680608182), (1561, 0.03214203822052476), (1562, 0.012439908982716262), (1563, 0.019964886586717332), (1564, 0.03129149894774221), (1565, 0.025439090554046247), (1566, 0.03213704387038255), (1567, 0.016646433496631374), (1568, 0.023367775943213084), (1569, 0.03523147579200997), (1570, 0.0), (1571, 0.029922851454145815), (1572, 0.011099296402882403), (1573, 0.013230991623665245), (1574, 0.030832139855297397), (1575, 0.03438199841173022), (1576, 0.0037147650426890473), (1577, 0.012282816431964137), (1578, 0.049804920950045496), (1579, 0.07979257386730579), (1580, 0.020277865221136077), (1581, 0.06072465717727056), (1582, 0.027562468539825854), (1583, 0.013340216471623862), (1584, 0.09464999481550607), (1585, 0.0), (1586, 0.05359341263890546), (1587, 0.08461399437800761), (1588, 0.04403063528939861), (1589, 0.024684753041775382), (1590, 0.034383089964461364), (1591, 0.005371272899264557), (1592, 0.0830944286889671), (1593, 0.0), (1594, 0.027266234432290724), (1595, 0.059175301035225975), (1596, 0.0), (1597, 0.026239830635725832), (1598, 0.0), (1599, 0.039430267529667565), (1600, 0.028213232150906188), (1601, 0.018518114553296466), (1602, 0.014282369164053038), (1603, 0.01444603434302198), (1604, 0.0), (1605, 0.0), (1606, 0.04209261931870254), (1607, 0.0), (1608, 0.04089279305984782), (1609, 0.027901407249442862), (1610, 0.07154344018083762), (1611, 0.0), (1612, 0.0), (1613, 0.04154875393283107), (1614, 0.025211341389947354), (1615, 0.0), (1616, 0.01614917329416707), (1617, 0.025326375008646478), (1618, 0.0), (1619, 0.012976350265006657), (1620, 0.011385741696250697), (1621, 0.004572055862097514), (1622, 0.05022956793529372), (1623, 0.012436524355304984), (1624, 0.049848368506819764), (1625, 0.0), (1626, 0.011033182660362644), (1627, 0.011480366510905747), (1628, 0.0), (1629, 0.004787366326243073), (1630, 0.04891232167159158), (1631, 0.012742103426631329), (1632, 0.04217076243115946), (1633, 0.04484252437024093), (1634, 0.023644011934287307), (1635, 0.10216442429540457), (1636, 0.021605030478567593), (1637, 0.014765922722087255), (1638, 0.0), (1639, 0.012752042037074784), (1640, 0.013151439021395855), (1641, 0.047820428320687905), (1642, 0.02065098584145061), (1643, 0.07438745948540848), (1644, 0.0), (1645, 0.028511788703500046), (1646, 0.026905998650924287), (1647, 0.01817183670931808), (1648, 0.018186564705882306), (1649, 0.11748165421142738), (1650, 0.05514038230638016), (1651, 0.04944127688179774), (1652, 0.016300093106282543), (1653, 0.03330330330489751), (1654, 0.0143784493287655), (1655, 0.0), (1656, 0.019374441620954728), (1657, 0.041695059793035186), (1658, 0.0), (1659, 0.01961599365289016), (1660, 0.012722411858468912), (1661, 0.014462635346979752), (1662, 0.10874150635968469), (1663, 0.03155916834826075), (1664, 0.05045898252069318), (1665, 0.0043424225368878504), (1666, 0.08063906668862406), (1667, 0.012377507371768872), (1668, 0.07179455407804124), (1669, 0.035353753836316684), (1670, 0.0), (1671, 0.004490188672149037), (1672, 0.03040052568806497), (1673, 0.06747827994562068), (1674, 0.05625380401290468), (1675, 0.03750335079019798), (1676, 0.0), (1677, 0.09663810339132109), (1678, 0.15981718136306172), (1679, 0.046297840056691526), (1680, 0.00421204300242445), (1681, 0.018460009223330697), (1682, 0.07591020974848289), (1683, 0.02338485109859207), (1684, 0.009137298446293778), (1685, 0.0), (1686, 0.018787293636232192), (1687, 0.017827687155962592), (1688, 0.024833057522167912), (1689, 0.025550529631314246), (1690, 0.0), (1691, 0.020779435686788757), (1692, 0.01204775812556116), (1693, 0.0), (1694, 0.004117739937927525), (1695, 0.0342401242428973), (1696, 0.03032770865851443), (1697, 0.0), (1698, 0.07833765458016002), (1699, 0.011619847662919664), (1700, 0.023209214184287317), (1701, 0.09841500013496791), (1702, 0.01265579119427618), (1703, 0.0), (1704, 0.022745030735681952), (1705, 0.0), (1706, 0.025429279885262585), (1707, 0.040402116734487084), (1708, 0.0), (1709, 0.03424510674349063), (1710, 0.011534316823790643), (1711, 0.06129312686854463), (1712, 0.0), (1713, 0.005266363489142967), (1714, 0.024904724554818215), (1715, 0.0), (1716, 0.0628085439098886), (1717, 0.0), (1718, 0.03202533429919507), (1719, 0.020403380265578516), (1720, 0.0), (1721, 0.0), (1722, 0.0), (1723, 0.08828046912618395), (1724, 0.029282710714741516), (1725, 0.051443476730453096), (1726, 0.012495116280839916), (1727, 0.0), (1728, 0.0), (1729, 0.030246319200089796), (1730, 0.0), (1731, 0.0), (1732, 0.004956849643708516), (1733, 0.013351058871583141), (1734, 0.0), (1735, 0.0), (1736, 0.014410740451592387), (1737, 0.016068087486029916), (1738, 0.13424498185552539), (1739, 0.01771423251761486), (1740, 0.00473103714688265), (1741, 0.01387706611418547), (1742, 0.011513270420384955), (1743, 0.06608581899440827), (1744, 0.014370081894293283), (1745, 0.03525783410480784), (1746, 0.022728368535854342), (1747, 0.016235720551636464), (1748, 0.06985411795334683), (1749, 0.019878504254439534), (1750, 0.015493913463481482), (1751, 0.012319625062024053), (1752, 0.027456388366468517), (1753, 0.011544301174963785), (1754, 0.1762165302257287), (1755, 0.02317402149298228), (1756, 0.04910393648041333), (1757, 0.07787101710744675), (1758, 0.014080389934307809), (1759, 0.025438841735933273), (1760, 0.004287955191615834), (1761, 0.00473945986479135), (1762, 0.04586795520510828), (1763, 0.01573671489776409), (1764, 0.0520148523554201), (1765, 0.0), (1766, 0.0), (1767, 0.1519922023316632), (1768, 0.03873112870499373), (1769, 0.05092971208508186), (1770, 0.018170830570936436), (1771, 0.0), (1772, 0.07630044147185558), (1773, 0.013158525550134761), (1774, 0.0035411661747215316), (1775, 0.0), (1776, 0.060424656144764236), (1777, 0.04982998073732886), (1778, 0.028458263526376305), (1779, 0.004937716223504642), (1780, 0.10607818546260178), (1781, 0.042418404760295986), (1782, 0.019325258921932327), (1783, 0.030485885968159925), (1784, 0.01526820125394354), (1785, 0.0), (1786, 0.0), (1787, 0.0645244261562645), (1788, 0.05016159097416782), (1789, 0.0042826170476340675), (1790, 0.0), (1791, 0.023394254125405925), (1792, 0.0194568436033649), (1793, 0.042810752247243934), (1794, 0.05011343213501012), (1795, 0.007950278574760876), (1796, 0.004231571421870651), (1797, 0.009145014126908534), (1798, 0.0130719333209521), (1799, 0.10722018472261087), (1800, 0.019554491861571873), (1801, 0.0), (1802, 0.0407895761029265), (1803, 0.015033404267350985), (1804, 0.030645840829065334), (1805, 0.024442448958397762), (1806, 0.011066305140497326), (1807, 0.01194367666969464), (1808, 0.06962944876344154), (1809, 0.0318037315515726), (1810, 0.016575075538026056), (1811, 0.014947863036297714), (1812, 0.0309692137998445), (1813, 0.017072412075659293), (1814, 0.0), (1815, 0.005368675128035892), (1816, 0.02754149924271781), (1817, 0.043004393993535485), (1818, 0.037351862829076675), (1819, 0.012512242574155407), (1820, 0.031153217221437744), (1821, 0.01094619613107121), (1822, 0.0), (1823, 0.031910541197017216), (1824, 0.03386981704630977), (1825, 0.03170612079856458), (1826, 0.02300255764305101), (1827, 0.013621460613716876), (1828, 0.054725965716643454), (1829, 0.03273755794765101), (1830, 0.0), (1831, 0.0), (1832, 0.004736644989453226), (1833, 0.08243094047188726), (1834, 0.0), (1835, 0.019861112645334238), (1836, 0.030503979640138575), (1837, 0.0), (1838, 0.05276660407356029), (1839, 0.0), (1840, 0.039630452563268914), (1841, 0.03408046292751781), (1842, 0.0), (1843, 0.0), (1844, 0.0), (1845, 0.1008296394805544), (1846, 0.019191903025169696), (1847, 0.04708933099875369), (1848, 0.037797219471325416), (1849, 0.030187831669685694), (1850, 0.03249234715345167), (1851, 0.012676787548684468), (1852, 0.0915727422621832), (1853, 0.0334071299055208), (1854, 0.009959391901315605), (1855, 0.01925938067604587), (1856, 0.0), (1857, 0.04869410181711584), (1858, 0.05291304958264049), (1859, 0.04637857187144103), (1860, 0.0), (1861, 0.0), (1862, 0.030278526775340372), (1863, 0.007593610892837159), (1864, 0.029592602220752245), (1865, 0.06191632823690196), (1866, 0.055181407698760315), (1867, 0.024887090042684815), (1868, 0.0), (1869, 0.02447783246905072), (1870, 0.05132019836588694), (1871, 0.0208102152769008), (1872, 0.0), (1873, 0.03890674787950657), (1874, 0.0), (1875, 0.011181683076870851), (1876, 0.023146608050282735), (1877, 0.043586176424074946), (1878, 0.041655240672456066), (1879, 0.0), (1880, 0.0), (1881, 0.10217763406388361), (1882, 0.04143737159084884), (1883, 0.058429413019804026), (1884, 0.0), (1885, 0.0), (1886, 0.030225788330278978), (1887, 0.025285924323640487), (1888, 0.011961374097291632), (1889, 0.0), (1890, 0.0), (1891, 0.023648839183764286), (1892, 0.004211344156760318), (1893, 0.012842910887235654), (1894, 0.0), (1895, 0.05001337230323183), (1896, 0.012917522269030871), (1897, 0.0229798732411791), (1898, 0.0), (1899, 0.022239479810526944), (1900, 0.008930244359072656), (1901, 0.004753112339172731), (1902, 0.02070790253854939), (1903, 0.044798762277778265), (1904, 0.032537821198383984), (1905, 0.0), (1906, 0.0), (1907, 0.022571091122481388), (1908, 0.029670345601712958), (1909, 0.0), (1910, 0.07207641938841075), (1911, 0.02730133620211392), (1912, 0.00970476405491296), (1913, 0.014865109685844742), (1914, 0.024065930194943214), (1915, 0.06490194297265181), (1916, 0.02671275589662284), (1917, 0.0), (1918, 0.05838638288087053), (1919, 0.04960866184940766), (1920, 0.07404438407293676), (1921, 0.0), (1922, 0.0), (1923, 0.039597188489589194), (1924, 0.06471735847178597), (1925, 1.0000000000000002), (1926, 0.044939537756549054), (1927, 0.041514048613393764), (1928, 0.04299254379215542), (1929, 0.009944330220747042), (1930, 0.10365369293584367), (1931, 0.037178285333189655), (1932, 0.015641409945684106), (1933, 0.04404020008849365), (1934, 0.012135199840067038), (1935, 0.011052659875623117), (1936, 0.11607138022055931), (1937, 0.022606075855465084), (1938, 0.022786509156711987), (1939, 0.006154905110828819), (1940, 0.033302190593943834), (1941, 0.0055508980191222735), (1942, 0.004718483539831421), (1943, 0.008822841671056934), (1944, 0.0), (1945, 0.0), (1946, 0.02773239327863871), (1947, 0.0), (1948, 0.18722617948506654), (1949, 0.01907928509652982), (1950, 0.029562855307562662), (1951, 0.012918999668762069), (1952, 0.03292944529093715), (1953, 0.01304939931917675), (1954, 0.013343469641852549), (1955, 0.0), (1956, 0.0), (1957, 0.020459344261699926), (1958, 0.09868607533280987), (1959, 0.011283666133353113), (1960, 0.00513494412487801), (1961, 0.012544047187455441), (1962, 0.014961679283533733), (1963, 0.0206270000925802), (1964, 0.0479161409908523), (1965, 0.04292537476773689), (1966, 0.13158417326958846), (1967, 0.03844205052201003), (1968, 0.17412726222064995), (1969, 0.03973673885517698), (1970, 0.04199058597677638), (1971, 0.05758835894278452), (1972, 0.0), (1973, 0.019876813194944387), (1974, 0.009532880927205374), (1975, 0.02340730523538965), (1976, 0.024548107336214358), (1977, 0.02564909158883144), (1978, 0.02980436320217924), (1979, 0.04960337176285402), (1980, 0.0), (1981, 0.06121531585484554), (1982, 0.058623324136915414), (1983, 0.0413982417657386), (1984, 0.06729695224052575), (1985, 0.04795698535787361), (1986, 0.028754847359048794), (1987, 0.03618150039233055), (1988, 0.04162659444101744), (1989, 0.0037250280987042458), (1990, 0.03283276318187489), (1991, 0.06656258283783648), (1992, 0.026619728341667096), (1993, 0.02250103303262683), (1994, 0.010834168343211645), (1995, 0.0), (1996, 0.07047069141482401), (1997, 0.03149756563278505), (1998, 0.04912758079631466), (1999, 0.011450165652696078), (2000, 0.029109978075476647), (2001, 0.06885046942716949), (2002, 0.0), (2003, 0.01176368594085355), (2004, 0.00841463266704856), (2005, 0.03544271994862526), (2006, 0.028320969755414458), (2007, 0.1079202113817726), (2008, 0.03708852622619668), (2009, 0.031614895641924504), (2010, 0.0), (2011, 0.0), (2012, 0.03133298631350761), (2013, 0.04223318896897044), (2014, 0.0410290634556854), (2015, 0.03520316550968186), (2016, 0.01264075589511244), (2017, 0.033826722428045235), (2018, 0.014141048867569356), (2019, 0.020426635273102282), (2020, 0.010386493158802508), (2021, 0.1023366283490239), (2022, 0.0458338103777067), (2023, 0.038502307605280145), (2024, 0.004441145135881228), (2025, 0.012425923494336246), (2026, 0.041565534085158305), (2027, 0.061179079524753995), (2028, 0.0), (2029, 0.011887869648944152), (2030, 0.0), (2031, 0.07531243401664042), (2032, 0.01426886308793916), (2033, 0.04690708040872278), (2034, 0.01241024089087614), (2035, 0.04108965921096924), (2036, 0.07452734087102139), (2037, 0.038350942337209405), (2038, 0.032278105332007936), (2039, 0.017548814306572437), (2040, 0.0051236872258070025), (2041, 0.013960597034241944), (2042, 0.12999628949496106), (2043, 0.046720009613061095), (2044, 0.015693324817625694), (2045, 0.017088050213683224), (2046, 0.012161340490420506), (2047, 0.14226999969021614), (2048, 0.0), (2049, 0.0), (2050, 0.0), (2051, 0.03989233539734754), (2052, 0.0), (2053, 0.03633180593866012), (2054, 0.015816899881485963), (2055, 0.011035896560756656), (2056, 0.029974474361463936), (2057, 0.03297098072898153), (2058, 0.05256274292342502), (2059, 0.007668287309634019), (2060, 0.02841813567748374), (2061, 0.04692314430282618), (2062, 0.0711661761040416), (2063, 0.0), (2064, 0.015149366193396463), (2065, 0.11985767174945357), (2066, 0.042902845747052214), (2067, 0.0), (2068, 0.0), (2069, 0.004556726759622285), (2070, 0.08432512991942127), (2071, 0.022655821023397065), (2072, 0.012617427257291085), (2073, 0.008961058572542535), (2074, 0.12392628989050901), (2075, 0.06597188802247439), (2076, 0.010269666236974465), (2077, 0.0), (2078, 0.06968821833516034), (2079, 0.04266727561649592), (2080, 0.0), (2081, 0.0), (2082, 0.054359457444516104), (2083, 0.0), (2084, 0.03245813268468868), (2085, 0.0), (2086, 0.031433517659232725), (2087, 0.0), (2088, 0.041645635069617645), (2089, 0.005449632661077786), (2090, 0.018094083770636787), (2091, 0.02228064424422315), (2092, 0.0), (2093, 0.018220638596093085), (2094, 0.024231730789154513), (2095, 0.0), (2096, 0.03878491934322451), (2097, 0.0), (2098, 0.0), (2099, 0.012866497666961673), (2100, 0.06591791420641287), (2101, 0.019243593261675244), (2102, 0.023807776980754317), (2103, 0.10145263531907202), (2104, 0.035718883891752956), (2105, 0.0), (2106, 0.034329913420504385), (2107, 0.06535431493268425), (2108, 0.0), (2109, 0.012274270028170674), (2110, 0.012322516429921684), (2111, 0.08305909218387213), (2112, 0.05383567876295864), (2113, 0.02246627440992849), (2114, 0.08597089832852231), (2115, 0.00982397694473734), (2116, 0.0), (2117, 0.03367943897319199), (2118, 0.12935268887049045), (2119, 0.0043023321080799815), (2120, 0.023756633349176236), (2121, 0.004415267124096032), (2122, 0.018551627858979913), (2123, 0.0), (2124, 0.030767862310812383), (2125, 0.015856170072391873), (2126, 0.047105311704621976), (2127, 0.02856769467166846), (2128, 0.020777873343423296), (2129, 0.0330159063360434), (2130, 0.030161205213802098), (2131, 0.05989717070863946), (2132, 0.021298946028714752), (2133, 0.009866433609047856), (2134, 0.0), (2135, 0.013736531796480532), (2136, 0.09155155798271793), (2137, 0.041101381900585765), (2138, 0.0), (2139, 0.055473615396781736), (2140, 0.034946640037003616), (2141, 0.0), (2142, 0.0), (2143, 0.02604381095373634), (2144, 0.013885319732836323), (2145, 0.052171795540585174), (2146, 0.014441710371743313), (2147, 0.07554305681094386), (2148, 0.0), (2149, 0.024429674120127406), (2150, 0.05560386398537285), (2151, 0.0), (2152, 0.05405224205130199), (2153, 0.010191877985862952), (2154, 0.005940551138004352), (2155, 0.018697825028885125), (2156, 0.010842569401942576), (2157, 0.012666149697674597), (2158, 0.07452692895771254), (2159, 0.03889822716997765), (2160, 0.035869248230995), (2161, 0.03252658187624725), (2162, 0.0), (2163, 0.013440749836457334), (2164, 0.0), (2165, 0.0), (2166, 0.01296428736249725), (2167, 0.041060005115755194), (2168, 0.0076613037408047036), (2169, 0.032979085310952984), (2170, 0.03632766465171953), (2171, 0.0), (2172, 0.0), (2173, 0.0), (2174, 0.05126969908027911), (2175, 0.08135144181910334), (2176, 0.03392037262184147), (2177, 0.07887460101368529), (2178, 0.17625961184209057), (2179, 0.0), (2180, 0.04378744618910961), (2181, 0.00526425703187734), (2182, 0.13065121522560547), (2183, 0.009673057963735628), (2184, 0.031468498844368024), (2185, 0.0), (2186, 0.0), (2187, 0.017287997678511875), (2188, 0.02404360545642381), (2189, 0.0), (2190, 0.011243900193146167), (2191, 0.06690163651108316), (2192, 0.027113331920445103), (2193, 0.07476883351060826), (2194, 0.043863442753305094), (2195, 0.02225415985691851), (2196, 0.08070762749659169), (2197, 0.003922577092974366), (2198, 0.012199718941671989), (2199, 0.0), (2200, 0.0), (2201, 0.01709474921932348), (2202, 0.016868873016962962), (2203, 0.06936316127168014), (2204, 0.08316754226927883), (2205, 0.04960190276629202), (2206, 0.004433010641797052), (2207, 0.0), (2208, 0.03193661209081173), (2209, 0.0), (2210, 0.017095614745929015), (2211, 0.01020288239808015), (2212, 0.0), (2213, 0.014764501731253488), (2214, 0.005042586381498853), (2215, 0.03237288551611952), (2216, 0.03407097302807371), (2217, 0.02876137457560378), (2218, 0.013537001295866562), (2219, 0.025912087621917376), (2220, 0.08272825935901607), (2221, 0.043085410241399086), (2222, 0.04677993946986933), (2223, 0.0), (2224, 0.027509630853932418), (2225, 0.0), (2226, 0.020134132922809148), (2227, 0.02393781592621591), (2228, 0.0), (2229, 0.029720718847245357), (2230, 0.010410009936659269), (2231, 0.05913760754356259), (2232, 0.06409981588933839), (2233, 0.0563699808241081), (2234, 0.018873943915755587), (2235, 0.0236487684755038), (2236, 0.037433233568482195), (2237, 0.053619735827974344), (2238, 0.0), (2239, 0.08129703757361419), (2240, 0.013218790526333516), (2241, 0.012662040429898947), (2242, 0.016062363474551724), (2243, 0.0), (2244, 0.0656190575649119), (2245, 0.03928198556431353), (2246, 0.034494888137354955), (2247, 0.0), (2248, 0.0), (2249, 0.030024017693650346), (2250, 0.054903729645256), (2251, 0.0), (2252, 0.03123604530520433), (2253, 0.0), (2254, 0.004976814478104949), (2255, 0.017327405500779193), (2256, 0.0), (2257, 0.0), (2258, 0.01131125848684363), (2259, 0.03022602968927772), (2260, 0.0), (2261, 0.0), (2262, 0.05744358818331305), (2263, 0.03279155956811189), (2264, 0.013382386367784915), (2265, 0.025208546950194387), (2266, 0.0), (2267, 0.0), (2268, 0.011759831343930376), (2269, 0.03760420917911014), (2270, 0.0), (2271, 0.05949143534372817), (2272, 0.015378555736775778), (2273, 0.045594976494130815), (2274, 0.013860043112543253), (2275, 0.026679515574090512), (2276, 0.03304376581568347), (2277, 0.055703577659372484), (2278, 0.043566496834623256), (2279, 0.014676865107573106), (2280, 0.05374915302579096), (2281, 0.03824707434326727), (2282, 0.0), (2283, 0.04593514203517559), (2284, 0.01350281011047473), (2285, 0.02191338081112596), (2286, 0.022155936282965808), (2287, 0.04545179036960244), (2288, 0.0), (2289, 0.0), (2290, 0.029297086009137156), (2291, 0.010432058924905098), (2292, 0.0), (2293, 0.036198119403399044), (2294, 0.06979255429791233), (2295, 0.013643875696151511), (2296, 0.15228058515591764), (2297, 0.028935922678649414), (2298, 0.0), (2299, 0.0), (2300, 0.03791857682528094), (2301, 0.022276846329484477), (2302, 0.0), (2303, 0.01148409355301204), (2304, 0.015380567064649277), (2305, 0.0), (2306, 0.0), (2307, 0.0), (2308, 0.0), (2309, 0.019669412303423395), (2310, 0.0), (2311, 0.05412776185644659), (2312, 0.0), (2313, 0.010291268572286323), (2314, 0.014774297790082706), (2315, 0.03907495906748921), (2316, 0.03760866768798155), (2317, 0.06877161848531271), (2318, 0.032306315805177135), (2319, 0.010530212425332352), (2320, 0.04009484217710274), (2321, 0.03607376467031112), (2322, 0.026534322517135243), (2323, 0.02300686383558475), (2324, 0.0), (2325, 0.0), (2326, 0.05307460969327278), (2327, 0.04253019185276442), (2328, 0.005692296528539842), (2329, 0.04620778531744852), (2330, 0.052034480850586304), (2331, 0.012359222908992551), (2332, 0.0), (2333, 0.0), (2334, 0.04697940328791833), (2335, 0.0), (2336, 0.004611779047906355), (2337, 0.029086868957680694), (2338, 0.022002537376264092), (2339, 0.013829774088338562), (2340, 0.0), (2341, 0.0), (2342, 0.0), (2343, 0.018298474292916093), (2344, 0.0046474505050516325), (2345, 0.010567090505095777), (2346, 0.0), (2347, 0.01689302309416195), (2348, 0.024019177212321375), (2349, 0.0), (2350, 0.021715016394836757), (2351, 0.06854298918017254), (2352, 0.024638029563014197), (2353, 0.029356593119285988), (2354, 0.028738282533888396), (2355, 0.03546748581230867), (2356, 0.0), (2357, 0.029663645796695587), (2358, 0.0), (2359, 0.022471767490248554), (2360, 0.018177230110454523), (2361, 0.0), (2362, 0.0), (2363, 0.015047666220295958), (2364, 0.0), (2365, 0.0), (2366, 0.008989361689165969), (2367, 0.02331139199997658), (2368, 0.021902506094018292), (2369, 0.06650189201203191), (2370, 0.0), (2371, 0.03803518879420993), (2372, 0.011271422254870806), (2373, 0.0073326626882908846), (2374, 0.004700248675831673), (2375, 0.016548496222535902), (2376, 0.028512794823701573), (2377, 0.01677296411276199), (2378, 0.02162646866795284), (2379, 0.0), (2380, 0.014398781047424843), (2381, 0.0), (2382, 0.00868313296888646), (2383, 0.005156752166728591), (2384, 0.0), (2385, 0.06424205013479248), (2386, 0.0), (2387, 0.016862161727919364), (2388, 0.0), (2389, 0.01836691505504938), (2390, 0.0), (2391, 0.016088403111025846), (2392, 0.0), (2393, 0.01607519573266857), (2394, 0.0), (2395, 0.0), (2396, 0.015200196962289048), (2397, 0.025928720581832536), (2398, 0.016846258473126215), (2399, 0.016963024714405573), (2400, 0.02698220710124765), (2401, 0.014639507202809142), (2402, 0.028945680063028455), (2403, 0.06801656513134412), (2404, 0.045038535534382036), (2405, 0.01566675899158637), (2406, 0.09237076983248195), (2407, 0.0), (2408, 0.01003735128133201), (2409, 0.029099457206912684), (2410, 0.052955756436189716), (2411, 0.045047056331217035), (2412, 0.04454732823449106), (2413, 0.023050318521158103), (2414, 0.012274105839029305), (2415, 0.020090230244442363), (2416, 0.07164925836422124), (2417, 0.0), (2418, 0.05012501004044377), (2419, 0.035194873651486484), (2420, 0.0), (2421, 0.05351968369913253), (2422, 0.04485242634389551), (2423, 0.0), (2424, 0.0), (2425, 0.0), (2426, 0.0), (2427, 0.03367489773802695), (2428, 0.005118220909848285), (2429, 0.004299126612428909), (2430, 0.060150427261301466), (2431, 0.012532097394016648), (2432, 0.04139343112664955), (2433, 0.0), (2434, 0.02423593462068265), (2435, 0.0), (2436, 0.023615717915358325), (2437, 0.0), (2438, 0.0), (2439, 0.06859473406278743), (2440, 0.0), (2441, 0.01569683962494681), (2442, 0.08754660222240193), (2443, 0.04882376270904485), (2444, 0.012420505377231474), (2445, 0.03843232105982602), (2446, 0.01130949748038689), (2447, 0.07107259481760686), (2448, 0.02689094219213025), (2449, 0.015160845991035657), (2450, 0.01611670229190941), (2451, 0.018620186571848656), (2452, 0.029536918445306672), (2453, 0.007967100835567235), (2454, 0.01999253565821648), (2455, 0.0), (2456, 0.017088277327366546), (2457, 0.013550055155903558), (2458, 0.06766975163555462), (2459, 0.022400064413032543), (2460, 0.04016271207369384), (2461, 0.02471911018425842), (2462, 0.0), (2463, 0.01196900226358512), (2464, 0.0), (2465, 0.009769357195191961), (2466, 0.0), (2467, 0.0), (2468, 0.02301890962331099), (2469, 0.0), (2470, 0.01375243943904492), (2471, 0.04375232933177263), (2472, 0.0), (2473, 0.0), (2474, 0.05731757521408279), (2475, 0.0), (2476, 0.03791856568969052), (2477, 0.005010799076130769), (2478, 0.0), (2479, 0.019359714206852938), (2480, 0.025386780099142362), (2481, 0.010140190189937021), (2482, 0.011223733734234055), (2483, 0.11052798668804809), (2484, 0.02318072210542366), (2485, 0.04088198183431762), (2486, 0.019197516617468033), (2487, 0.027606291397601627), (2488, 0.01840899945857723), (2489, 0.0), (2490, 0.0), (2491, 0.011226561048745795), (2492, 0.02450545741360694), (2493, 0.04708296735134056), (2494, 0.04029686137433892), (2495, 0.0), (2496, 0.028772829297699858), (2497, 0.01936644983523759), (2498, 0.05976774096078589), (2499, 0.0), (2500, 0.024188861172459945), (2501, 0.034315562113471754), (2502, 0.022233517900877964), (2503, 0.02951229218455823), (2504, 0.011888593305227423), (2505, 0.02964446219875918), (2506, 0.004652869593222478), (2507, 0.019962465842961626), (2508, 0.0), (2509, 0.020012762263669635), (2510, 0.04187452719677305), (2511, 0.06880544523419034), (2512, 0.05033052644273106), (2513, 0.08170696878397957), (2514, 0.05719890741673131), (2515, 0.0), (2516, 0.0), (2517, 0.01746918402442553), (2518, 0.07856693536730139), (2519, 0.014199244912816288), (2520, 0.03057969043338374), (2521, 0.03576791909216743), (2522, 0.01574602628827329), (2523, 0.022340911981624096), (2524, 0.0037371261085324937), (2525, 0.02877014196756637), (2526, 0.03345274398337356), (2527, 0.06808343017102403), (2528, 0.061946535236293426), (2529, 0.0), (2530, 0.06566971358219217), (2531, 0.06330150572452609), (2532, 0.013746502550327154), (2533, 0.0), (2534, 0.03424909852860484), (2535, 0.022821722376951764), (2536, 0.0), (2537, 0.0), (2538, 0.010995275593889572), (2539, 0.02812649212685086), (2540, 0.058381925055704866), (2541, 0.0953486207100942), (2542, 0.08606036044516402), (2543, 0.0), (2544, 0.03651553420522484), (2545, 0.0), (2546, 0.012675951956257626), (2547, 0.016034569480107355), (2548, 0.0), (2549, 0.04390097912201041), (2550, 0.08310452923391064), (2551, 0.0), (2552, 0.028565213463459416), (2553, 0.04165748776169319), (2554, 0.02637654656813286), (2555, 0.005273947405240993), (2556, 0.0), (2557, 0.0), (2558, 0.0046384211789039734), (2559, 0.0), (2560, 0.035066274158147226), (2561, 0.0), (2562, 0.06942256060766933), (2563, 0.038961908846965834), (2564, 0.010923266565135236), (2565, 0.06884431939050926), (2566, 0.0), (2567, 0.005503544985467787), (2568, 0.014892291142600466), (2569, 0.0), (2570, 0.0), (2571, 0.06418101209317753), (2572, 0.0), (2573, 0.025220276492200502), (2574, 0.0), (2575, 0.011079005485819362), (2576, 0.020819884643826368), (2577, 0.0), (2578, 0.016205224051841334), (2579, 0.0393564830626707), (2580, 0.03400468493690509), (2581, 0.015216026548253632), (2582, 0.04585070800730394), (2583, 0.0), (2584, 0.057189916966290735), (2585, 0.0), (2586, 0.0), (2587, 0.010805781272631687), (2588, 0.059639208626357985), (2589, 0.010311351804365626), (2590, 0.015731217879500492), (2591, 0.0), (2592, 0.0), (2593, 0.0), (2594, 0.0), (2595, 0.03808299640636088), (2596, 0.06432772762625036), (2597, 0.0), (2598, 0.05526497619466872), (2599, 0.03325372381328979), (2600, 0.0), (2601, 0.01916489964063003), (2602, 0.0038482210353862323), (2603, 0.07914950152731755), (2604, 0.01801800774401397), (2605, 0.018097938843219502), (2606, 0.004669840844552609), (2607, 0.029890850576242644), (2608, 0.02606710466980277), (2609, 0.012987740264695688), (2610, 0.01286838157494146), (2611, 0.04813517013915477), (2612, 0.07029255933131727), (2613, 0.011941613810889349), (2614, 0.0), (2615, 0.02100104781606675), (2616, 0.058889470632628525), (2617, 0.025121609249569927), (2618, 0.039237403678529376), (2619, 0.010781598456104432), (2620, 0.0), (2621, 0.013110298533039431), (2622, 0.13384488996436647), (2623, 0.0), (2624, 0.027834592633179202), (2625, 0.08871720396670951), (2626, 0.03558160762050215), (2627, 0.010247209970826046), (2628, 0.0), (2629, 0.0), (2630, 0.048120107723823594), (2631, 0.046538631951148726), (2632, 0.04625404013829456), (2633, 0.012783356817754273), (2634, 0.0), (2635, 0.0), (2636, 0.0271722066152926), (2637, 0.044002618638255074), (2638, 0.019104493011729222), (2639, 0.0), (2640, 0.02365473313774804), (2641, 0.0), (2642, 0.020357344134890744), (2643, 0.0), (2644, 0.08217922659992734), (2645, 0.033161277900488006), (2646, 0.014765629773164026), (2647, 0.040040123506878786), (2648, 0.03940402388364403), (2649, 0.0), (2650, 0.062968023532395), (2651, 0.0), (2652, 0.0), (2653, 0.021923191420573536), (2654, 0.034657354500982264), (2655, 0.006146136287315048), (2656, 0.051652219148072234), (2657, 0.0), (2658, 0.0), (2659, 0.0), (2660, 0.07395074125832683), (2661, 0.016170480692905404), (2662, 0.011171931338494524), (2663, 0.017965718817500614), (2664, 0.0), (2665, 0.020052750138892243), (2666, 0.04605936623755558), (2667, 0.0), (2668, 0.11244692564386868), (2669, 0.0), (2670, 0.0), (2671, 0.08474746867159302), (2672, 0.013647936868199638), (2673, 0.030074460027269892), (2674, 0.0), (2675, 0.028555302646985525), (2676, 0.0), (2677, 0.0), (2678, 0.0), (2679, 0.0), (2680, 0.05283603323354181), (2681, 0.02005710553577628), (2682, 0.057211307940163526), (2683, 0.01504346358288709), (2684, 0.014679300196508548), (2685, 0.008923234395699855), (2686, 0.032236990788320846), (2687, 0.02834234201895642), (2688, 0.007681020554806204), (2689, 0.03620225531097027), (2690, 0.016698699477177247), (2691, 0.05344099379471733), (2692, 0.00402731300929992), (2693, 0.0), (2694, 0.0), (2695, 0.02122051965607231), (2696, 0.0), (2697, 0.054486798958631996), (2698, 0.029767994898891016), (2699, 0.04083734937737074), (2700, 0.0052101045706597435), (2701, 0.0), (2702, 0.0), (2703, 0.05231976800817153), (2704, 0.0), (2705, 0.0), (2706, 0.025896800380485537), (2707, 0.0), (2708, 0.017671573272862832), (2709, 0.0963073115598584), (2710, 0.01006647037464415), (2711, 0.09674419271332559), (2712, 0.03264446500756196), (2713, 0.06173063996361069), (2714, 0.004908360127668595), (2715, 0.02282356572171748), (2716, 0.10676088814390625), (2717, 0.0), (2718, 0.0), (2719, 0.012922076981222493), (2720, 0.043805881344314186), (2721, 0.11446869886933986), (2722, 0.019324670862465414), (2723, 0.0), (2724, 0.041166796179195726), (2725, 0.03267550179827993), (2726, 0.0), (2727, 0.038095479516566916), (2728, 0.013711012969998417), (2729, 0.04447740338331278), (2730, 0.03753963417723147), (2731, 0.03613954217073535), (2732, 0.03396730308684733), (2733, 0.014918874146767673), (2734, 0.07443901655429591), (2735, 0.015286663794540094), (2736, 0.012788132457116476), (2737, 0.0), (2738, 0.014369576124796559), (2739, 0.043851706240488945), (2740, 0.013709975504302195), (2741, 0.0), (2742, 0.03513869974047351), (2743, 0.0), (2744, 0.0), (2745, 0.0), (2746, 0.0), (2747, 0.0), (2748, 0.0), (2749, 0.049794477973583), (2750, 0.060854414776582044), (2751, 0.030314541424271063), (2752, 0.049015468254254776), (2753, 0.037674328571678496), (2754, 0.01062707561873726), (2755, 0.012875605632187079), (2756, 0.03900434690837815), (2757, 0.07223755840914518), (2758, 0.0), (2759, 0.03099316496526238), (2760, 0.03913613681347214), (2761, 0.01047839395144788), (2762, 0.0), (2763, 0.023783151248751536), (2764, 0.0), (2765, 0.1092940071296502), (2766, 0.03390506066474075), (2767, 0.0), (2768, 0.006592610147940004), (2769, 0.04144310165536319), (2770, 0.02802773650308866), (2771, 0.012786526875871788), (2772, 0.0), (2773, 0.0587521859488806), (2774, 0.01806541323863897), (2775, 0.0), (2776, 0.01979200797614942), (2777, 0.02520483096839242), (2778, 0.005607922050598985), (2779, 0.03197937953771779), (2780, 0.11911978323170952), (2781, 0.02859992628387048), (2782, 0.03729068855383817), (2783, 0.0), (2784, 0.01718617458471489), (2785, 0.062363746834437225), (2786, 0.010855030588306695), (2787, 0.004410014958690201), (2788, 0.017118034907133782), (2789, 0.028387117568666513), (2790, 0.09195330264341395), (2791, 0.036154179886193225), (2792, 0.034715160319126886), (2793, 0.0332434880239818), (2794, 0.017495013189429726), (2795, 0.005856950965805592), (2796, 0.0), (2797, 0.0), (2798, 0.04911751808940655), (2799, 0.0), (2800, 0.05849925826493537), (2801, 0.03773011237924043), (2802, 0.034332845317005894), (2803, 0.0042205981894896105), (2804, 0.01734227892387758), (2805, 0.010647820140718859), (2806, 0.0), (2807, 0.02997369619384995), (2808, 0.06491124170574059), (2809, 0.03215972230307192), (2810, 0.0), (2811, 0.011100379355579046), (2812, 0.011475408970071379), (2813, 0.06141102357710386), (2814, 0.05860382345301056), (2815, 0.01665426493256049), (2816, 0.06595679415816956), (2817, 0.05944967184635784), (2818, 0.017051524982088388), (2819, 0.0049130217595294585), (2820, 0.05427929107839177), (2821, 0.011073879352424239), (2822, 0.04000729237038349), (2823, 0.0), (2824, 0.041586745844749806), (2825, 0.0), (2826, 0.028665312092524632), (2827, 0.008179130567855448), (2828, 0.025256943781236045), (2829, 0.03769626873529526), (2830, 0.022890603046824436), (2831, 0.010148119771045147), (2832, 0.0), (2833, 0.0), (2834, 0.015106564682212826), (2835, 0.04012191318344038), (2836, 0.0), (2837, 0.03147876856783952), (2838, 0.05002116875997015), (2839, 0.008722734753812184), (2840, 0.037219123157121135), (2841, 0.09705723771981889), (2842, 0.02355117135096637), (2843, 0.019252107959862493), (2844, 0.06677345640813656), (2845, 0.057203158654954143), (2846, 0.023721447543188223), (2847, 0.041763846328914424), (2848, 0.04285806585146229), (2849, 0.0), (2850, 0.03769581074724609), (2851, 0.01853299729475021), (2852, 0.02052172180709396), (2853, 0.0), (2854, 0.0466606968950199), (2855, 0.010325959908161523), (2856, 0.010714202835502352), (2857, 0.018593932824721934), (2858, 0.0), (2859, 0.011544210553279357), (2860, 0.018809926863197997), (2861, 0.0), (2862, 0.03844464180857335), (2863, 0.04899076068711416), (2864, 0.0), (2865, 0.021515710209059166), (2866, 0.0), (2867, 0.07009979085877627), (2868, 0.07122222592750763), (2869, 0.0), (2870, 0.018661060802325047), (2871, 0.02095483488244887), (2872, 0.0), (2873, 0.013829819224068693), (2874, 0.011301164858290934), (2875, 0.0), (2876, 0.0), (2877, 0.0554123609139376), (2878, 0.0513426827559133), (2879, 0.005648132790592691), (2880, 0.0), (2881, 0.00525262045405073), (2882, 0.06239539564671175), (2883, 0.0), (2884, 0.017388804351451875), (2885, 0.0), (2886, 0.0), (2887, 0.027280449398522207), (2888, 0.0), (2889, 0.0), (2890, 0.0), (2891, 0.0), (2892, 0.06755828029202182), (2893, 0.0), (2894, 0.05780520833957285), (2895, 0.0), (2896, 0.0), (2897, 0.011630633199797884), (2898, 0.08097016231769284), (2899, 0.05593278769053066), (2900, 0.012137798406048656), (2901, 0.0), (2902, 0.0), (2903, 0.04276863967122007), (2904, 0.010543038523519782), (2905, 0.0), (2906, 0.06001072888644437), (2907, 0.0), (2908, 0.09855438791184402), (2909, 0.0), (2910, 0.01645144395788604), (2911, 0.04255221948436906), (2912, 0.06631267454698073), (2913, 0.02354835694652389), (2914, 0.0), (2915, 0.0), (2916, 0.0), (2917, 0.0036530053840672957), (2918, 0.004468169648637576), (2919, 0.0047911015377588885), (2920, 0.01114105836439829), (2921, 0.04521946316002799), (2922, 0.0), (2923, 0.0), (2924, 0.0), (2925, 0.01186221475940356), (2926, 0.0), (2927, 0.02100923749539548), (2928, 0.0), (2929, 0.036272780533584605), (2930, 0.0), (2931, 0.07800193341094205), (2932, 0.006131931865752758), (2933, 0.02313296444536588), (2934, 0.0), (2935, 0.041818659721612084), (2936, 0.015582869246568098), (2937, 0.05108337271633777), (2938, 0.011399106222148476), (2939, 0.005776271719801556), (2940, 0.024164074433476672), (2941, 0.0), (2942, 0.026438284388613065), (2943, 0.0), (2944, 0.11183729787568282), (2945, 0.0), (2946, 0.0), (2947, 0.004753519360316571), (2948, 0.05180685189496073), (2949, 0.04323671627287021), (2950, 0.01647540583934544), (2951, 0.02682929985521154), (2952, 0.04625020207565676), (2953, 0.028497828778815595), (2954, 0.011118196181852195), (2955, 0.05355916694001228), (2956, 0.011345596920719132), (2957, 0.01684090876847638), (2958, 0.019435985172110842), (2959, 0.004882334245870325), (2960, 0.0047302379526884064), (2961, 0.029604116922284172), (2962, 0.04066166249127292), (2963, 0.06980501071508635), (2964, 0.0130117936277374), (2965, 0.024217939928588263), (2966, 0.010688652112897963), (2967, 0.0), (2968, 0.029387494450938613), (2969, 0.018506142101334735), (2970, 0.0), (2971, 0.0), (2972, 0.01297551047728658), (2973, 0.0), (2974, 0.0), (2975, 0.04379302272861283), (2976, 0.0), (2977, 0.012467611626813277), (2978, 0.041792872738274915), (2979, 0.009552562813642536), (2980, 0.0), (2981, 0.05050079352059811), (2982, 0.04687892688724684), (2983, 0.021327702781031344), (2984, 0.012330306843949137), (2985, 0.0328776198450777), (2986, 0.0), (2987, 0.0), (2988, 0.07206900756091764), (2989, 0.014124295420230784), (2990, 0.0), (2991, 0.0393858803527982), (2992, 0.04691319978560968), (2993, 0.012226192876092995), (2994, 0.00901100440532309), (2995, 0.01643112730390521), (2996, 0.09335950205756877), (2997, 0.0), (2998, 0.024855717906350685), (2999, 0.0), (3000, 0.04638124214819833), (3001, 0.05720848553528852), (3002, 0.008885528378851815), (3003, 0.0), (3004, 0.01284808137954324), (3005, 0.013574312921608891), (3006, 0.0), (3007, 0.0), (3008, 0.0), (3009, 0.0), (3010, 0.06799503788670816), (3011, 0.030782444160828145), (3012, 0.0051996858836476905), (3013, 0.01906333049487405), (3014, 0.02691712629962916), (3015, 0.0), (3016, 0.03604519960750281), (3017, 0.0), (3018, 0.11019902432218279), (3019, 0.005398992288964993), (3020, 0.0), (3021, 0.04267662505244478), (3022, 0.07527492593458111), (3023, 0.008318788977059274), (3024, 0.03053840277024388), (3025, 0.01248549183100784), (3026, 0.011199145460048705), (3027, 0.021914322799996784), (3028, 0.027766142089706767), (3029, 0.0), (3030, 0.0), (3031, 0.0), (3032, 0.0051912197416161465), (3033, 0.012169619042451946), (3034, 0.0), (3035, 0.004415159056474624), (3036, 0.0), (3037, 0.0), (3038, 0.0), (3039, 0.0137788664363642), (3040, 0.014155772900403037), (3041, 0.0), (3042, 0.0), (3043, 0.005250190807328009), (3044, 0.011049212829844746), (3045, 0.041936673112570315), (3046, 0.011942693686631816), (3047, 0.07223467797089206), (3048, 0.027678841282583612), (3049, 0.005758464832499343), (3050, 0.0), (3051, 0.024730096543708894), (3052, 0.0), (3053, 0.05800497962640549), (3054, 0.0), (3055, 0.0), (3056, 0.0608657775782768), (3057, 0.011422824112108536), (3058, 0.0), (3059, 0.018573057354944796), (3060, 0.06467575095834721), (3061, 0.0), (3062, 0.0), (3063, 0.041973727348325184), (3064, 0.018015531368947537), (3065, 0.003939333275393778), (3066, 0.0665842460321104), (3067, 0.0), (3068, 0.031031528479276108), (3069, 0.01979754871964183), (3070, 0.004142844823278647), (3071, 0.0396233799481381), (3072, 0.0), (3073, 0.0376092425891775), (3074, 0.0), (3075, 0.0), (3076, 0.0), (3077, 0.0), (3078, 0.0), (3079, 0.059269864303234394), (3080, 0.019324344058555494), (3081, 0.0), (3082, 0.06592597466540809), (3083, 0.011319298333539242), (3084, 0.010750849210980294), (3085, 0.004430561055456877), (3086, 0.06952902793029196), (3087, 0.0), (3088, 0.0), (3089, 0.10176079653856922), (3090, 0.029625072432880255), (3091, 0.04477031735535337), (3092, 0.009498766513823097), (3093, 0.0), (3094, 0.05719036332903246), (3095, 0.004979137266670533), (3096, 0.054162068071169966), (3097, 0.0), (3098, 0.03338818737485745), (3099, 0.01752364306113432), (3100, 0.020526790017797558), (3101, 0.0), (3102, 0.0), (3103, 0.012865136181420449), (3104, 0.0), (3105, 0.034911683346007596), (3106, 0.0968938888227952), (3107, 0.0), (3108, 0.07066432943287812), (3109, 0.016042709051544594), (3110, 0.016620204187884242), (3111, 0.02734560377380662), (3112, 0.015886948165155984), (3113, 0.01874317566101687), (3114, 0.024155567794310148), (3115, 0.025774465724255236), (3116, 0.0), (3117, 0.043651930473469755), (3118, 0.04504638795073379), (3119, 0.0), (3120, 0.08372356501158196), (3121, 0.05234281705414372), (3122, 0.03604420851548201), (3123, 0.0268038448434004), (3124, 0.09192018011295565), (3125, 0.04246096191040738), (3126, 0.012861807061027113), (3127, 0.02046691646356598), (3128, 0.017352473072036283), (3129, 0.032599655908810615), (3130, 0.008021270148784287), (3131, 0.05678894064375147), (3132, 0.04021169040800996), (3133, 0.09710017471781306), (3134, 0.04442621480550289), (3135, 0.042133858401978266), (3136, 0.004325565346517634), (3137, 0.05746858861688836), (3138, 0.0), (3139, 0.023925674901954026), (3140, 0.020836377177942116), (3141, 0.04016547971453698), (3142, 0.052083773600392236), (3143, 0.09708400286375998), (3144, 0.0293485279699024), (3145, 0.05191420849684879), (3146, 0.0), (3147, 0.029436400745044024), (3148, 0.0), (3149, 0.06285011735349487), (3150, 0.022107139958979116), (3151, 0.011598998490558475), (3152, 0.03334408849356143), (3153, 0.08756400518259048), (3154, 0.10815711448601431), (3155, 0.0), (3156, 0.004466910452022522), (3157, 0.0), (3158, 0.03632085202245365), (3159, 0.0), (3160, 0.04354388652350703), (3161, 0.043188427882228486), (3162, 0.019162350977714942), (3163, 0.014792670314071037), (3164, 0.010311570866742507), (3165, 0.0), (3166, 0.012418817493901278), (3167, 0.022567713808993004), (3168, 0.020722956253834045), (3169, 0.014112039784654896), (3170, 0.0), (3171, 0.0), (3172, 0.047607975203863145), (3173, 0.03457834054732051), (3174, 0.012144011603852927), (3175, 0.01969177873777653), (3176, 0.0), (3177, 0.009628928307548433), (3178, 0.0), (3179, 0.03491035957897262), (3180, 0.04876025316018045), (3181, 0.10766298262774696), (3182, 0.0), (3183, 0.020123227879943122), (3184, 0.037712255254842134), (3185, 0.051039535598285224), (3186, 0.0), (3187, 0.009421461761717216), (3188, 0.015046123411005438), (3189, 0.05071613863062025), (3190, 0.022120056001022386), (3191, 0.031674951155627996), (3192, 0.018668757335870416), (3193, 0.02772424316689507), (3194, 0.0), (3195, 0.06893464044144838), (3196, 0.04981060686944962), (3197, 0.0), (3198, 0.0), (3199, 0.12517341791689376), (3200, 0.019209091557308565), (3201, 0.06992000383044032), (3202, 0.0), (3203, 0.0), (3204, 0.04059036191326833), (3205, 0.06665971294811672), (3206, 0.026440083156240496), (3207, 0.0), (3208, 0.01583466905431777), (3209, 0.04751732067197246), (3210, 0.00467810740024068), (3211, 0.021085327545632), (3212, 0.0), (3213, 0.0038876456412102567), (3214, 0.0), (3215, 0.04444257609627744), (3216, 0.0), (3217, 0.0), (3218, 0.0789926241682726), (3219, 0.033317478456464544), (3220, 0.06051492980876458), (3221, 0.024956155215857048), (3222, 0.020304748391730854), (3223, 0.0), (3224, 0.01913229300205571), (3225, 0.02845540329441751), (3226, 0.011199125617206613), (3227, 0.14351472521527217), (3228, 0.0610597967190234), (3229, 0.019085422110663695), (3230, 0.014057650900711153), (3231, 0.042885145392044466), (3232, 0.02634529035554757), (3233, 0.03513347060403256), (3234, 0.05698727257381782), (3235, 0.018917370934006812), (3236, 0.0), (3237, 0.04050144514910088), (3238, 0.029934744522268013), (3239, 0.0), (3240, 0.052781862662210396), (3241, 0.0), (3242, 0.0267665751240901), (3243, 0.024488471974917478), (3244, 0.03868725726788481), (3245, 0.0), (3246, 0.026113831290005288), (3247, 0.05687900580803315), (3248, 0.0), (3249, 0.0), (3250, 0.016492535598685562), (3251, 0.0), (3252, 0.045937164804004886), (3253, 0.03487121534791685), (3254, 0.012316420649462607), (3255, 0.0), (3256, 0.021421574046724585), (3257, 0.0), (3258, 0.0), (3259, 0.03972857105623074), (3260, 0.03696038803843625), (3261, 0.0), (3262, 0.0), (3263, 0.005052491824467166), (3264, 0.04128583190691274), (3265, 0.035542979563046986), (3266, 0.0), (3267, 0.023081733379980315), (3268, 0.0), (3269, 0.016294116691543074), (3270, 0.06928974359989232), (3271, 0.013156718595026025), (3272, 0.08746200963345797), (3273, 0.0), (3274, 0.0), (3275, 0.021509952723162057), (3276, 0.024992797713236772), (3277, 0.012821230178850984), (3278, 0.007994912874682564), (3279, 0.044879164894066945), (3280, 0.019522504758502004), (3281, 0.06606558320175951), (3282, 0.0), (3283, 0.03335241852415306), (3284, 0.032230159456206234), (3285, 0.0), (3286, 0.01999115111242187), (3287, 0.014230781465200907), (3288, 0.03277696910278572), (3289, 0.015437265020465683), (3290, 0.0), (3291, 0.0), (3292, 0.013232337096704122), (3293, 0.011525019217543066), (3294, 0.12319813917409075), (3295, 0.01108107888543668), (3296, 0.0), (3297, 0.02370917633013099), (3298, 0.05066396625322062), (3299, 0.012099571633704485), (3300, 0.023958411439548157), (3301, 0.013233259604191241), (3302, 0.022390176434789882), (3303, 0.047768847296871836), (3304, 0.009445348279181719), (3305, 0.028950819716788777), (3306, 0.011163208093797254), (3307, 0.04078550446780253), (3308, 0.012349374095895666), (3309, 0.0), (3310, 0.0), (3311, 0.027637833872980494), (3312, 0.01952949360851722), (3313, 0.03453758653689959), (3314, 0.011063103224085647), (3315, 0.022942291826791965), (3316, 0.009366549965004389), (3317, 0.023745063476096787), (3318, 0.017755945985269125), (3319, 0.0), (3320, 0.05421389869273007), (3321, 0.02520376848761796), (3322, 0.0), (3323, 0.10088918982706187), (3324, 0.0), (3325, 0.008286160060342244), (3326, 0.05461775242606757), (3327, 0.03535508254495317), (3328, 0.027776232398003767), (3329, 0.016799988066400387), (3330, 0.1253100499861984), (3331, 0.018317978210254115), (3332, 0.026442418673863162), (3333, 0.0), (3334, 0.025105698943316088), (3335, 0.03547586740138794), (3336, 0.04256294946372063), (3337, 0.03346066988387976), (3338, 0.029633009219115797), (3339, 0.0039912166363556935), (3340, 0.0), (3341, 0.0), (3342, 0.02960101845567754), (3343, 0.04084482445923576), (3344, 0.0402273878879723), (3345, 0.028431297508345478), (3346, 0.0), (3347, 0.0), (3348, 0.014577644836237212), (3349, 0.004811640235982219), (3350, 0.0), (3351, 0.01088689126977896), (3352, 0.04379649500009797), (3353, 0.0), (3354, 0.0), (3355, 0.027498643474150854), (3356, 0.020545145205658685), (3357, 0.0), (3358, 0.0), (3359, 0.0), (3360, 0.03377959420805445), (3361, 0.06205071532133535), (3362, 0.017902051882083644), (3363, 0.041779482107298614), (3364, 0.04612931399695194), (3365, 0.021546165840266272), (3366, 0.04841153545763454), (3367, 0.057340333907304065), (3368, 0.049182999551287986), (3369, 0.0), (3370, 0.046799973028015356), (3371, 0.018719842757819394), (3372, 0.0), (3373, 0.0), (3374, 0.01668689914432563), (3375, 0.013344774221788168), (3376, 0.010397870851524037), (3377, 0.017633366228489822), (3378, 0.012706133202536328), (3379, 0.01349599615913972), (3380, 0.009259778386699816), (3381, 0.03661736489637836), (3382, 0.0), (3383, 0.0), (3384, 0.019712598988183054), (3385, 0.024628848371817662), (3386, 0.03151749946418663), (3387, 0.005121462850948999), (3388, 0.033315001149951576), (3389, 0.08211684971910196), (3390, 0.04599294426852284), (3391, 0.039139346167339675), (3392, 0.030026421932423976), (3393, 0.0262773279409723), (3394, 0.05009137873643263), (3395, 0.0), (3396, 0.0), (3397, 0.021855381930833213), (3398, 0.013851308801821414), (3399, 0.028544661360885203), (3400, 0.017971363780688098), (3401, 0.009319633083481662), (3402, 0.0), (3403, 0.034538166346662305), (3404, 0.004718619738834435), (3405, 0.04307855550899518), (3406, 0.0), (3407, 0.019836254194462413), (3408, 0.03177097078652087), (3409, 0.020777064915012), (3410, 0.10583053594106683), (3411, 0.034519882830522215), (3412, 0.0560560003321416), (3413, 0.02029761146235573), (3414, 0.06306962690431395), (3415, 0.0), (3416, 0.014760457872707147), (3417, 0.0), (3418, 0.030137276545536072), (3419, 0.0), (3420, 0.05083599330869973), (3421, 0.010421293863440796), (3422, 0.01069168773663448), (3423, 0.029106699452813044), (3424, 0.04002271015397232), (3425, 0.0), (3426, 0.036976434311990325), (3427, 0.032522652030966645), (3428, 0.0), (3429, 0.0031532586575571866), (3430, 0.010135346730200199), (3431, 0.0), (3432, 0.04409478109622493), (3433, 0.022467891488680395), (3434, 0.0), (3435, 0.10483248378798835), (3436, 0.01852182389459181), (3437, 0.07274508482045859), (3438, 0.017950322333121438), (3439, 0.02455184468388981), (3440, 0.01560440848172754), (3441, 0.01005321889900169), (3442, 0.0), (3443, 0.004574481172826044), (3444, 0.013422162187234325), (3445, 0.04331268829257479), (3446, 0.037010864524595566), (3447, 0.029855257260549398), (3448, 0.020397357087758795), (3449, 0.0492133006110731), (3450, 0.054744335742396066), (3451, 0.004970970506177273), (3452, 0.03762683227194207), (3453, 0.019069068385183272), (3454, 0.04035238315800268), (3455, 0.0), (3456, 0.07782631384348426), (3457, 0.012981372141409982), (3458, 0.047613946769700835), (3459, 0.058202201154768554), (3460, 0.00426470866593939), (3461, 0.012979375833585646), (3462, 0.08967508152840614), (3463, 0.07945873968116865), (3464, 0.02886937696972199), (3465, 0.025598949729525707), (3466, 0.004366071327107136), (3467, 0.0903419144443652), (3468, 0.10281305007407997), (3469, 0.062331957541931986), (3470, 0.015074869909622235), (3471, 0.010678518602778663), (3472, 0.0), (3473, 0.019193826111048168), (3474, 0.012203717303949068), (3475, 0.016477122883332848), (3476, 0.028313907693173105), (3477, 0.02701090334622675), (3478, 0.061257917985980355), (3479, 0.0), (3480, 0.04939045134085879), (3481, 0.010247937423816342), (3482, 0.0), (3483, 0.004910456750499722), (3484, 0.04824035063925284), (3485, 0.0), (3486, 0.057836486039009496), (3487, 0.06662640128045647), (3488, 0.04052122047039243), (3489, 0.0), (3490, 0.0), (3491, 0.012224323282751458), (3492, 0.012161536647188166), (3493, 0.0), (3494, 0.010201534631972056), (3495, 0.02121805851847109), (3496, 0.0), (3497, 0.047826551974063145), (3498, 0.004431236208148052), (3499, 0.00455612735668638), (3500, 0.0), (3501, 0.004714297742995447), (3502, 0.051978666713963444), (3503, 0.017621337826507287), (3504, 0.04047016351598232), (3505, 0.015383841089300914), (3506, 0.036863430613189745), (3507, 0.01743050147431474), (3508, 0.0), (3509, 0.015943536828184505), (3510, 0.0), (3511, 0.03695967332478911), (3512, 0.021108485607022887), (3513, 0.05771704638096518), (3514, 0.015731571318274486), (3515, 0.08906487945217145), (3516, 0.06308680709482158), (3517, 0.017142793842119926), (3518, 0.057294584977903275), (3519, 0.0), (3520, 0.06598599219531634), (3521, 0.005713562914543244), (3522, 0.008998791327472326), (3523, 0.0), (3524, 0.016196092119793046), (3525, 0.05243317863303268), (3526, 0.035420253533504614), (3527, 0.0), (3528, 0.024069874537645516), (3529, 0.13387226617483328), (3530, 0.009013520100884949), (3531, 0.03405564085266504), (3532, 0.01996097977141224), (3533, 0.0), (3534, 0.042618033460188914), (3535, 0.015903301875416456), (3536, 0.07665872718983438), (3537, 0.0), (3538, 0.016847946359687154), (3539, 0.021912487570310633), (3540, 0.016055503298624506), (3541, 0.016654489936270847), (3542, 0.017738313264354617), (3543, 0.0), (3544, 0.0), (3545, 0.0), (3546, 0.009084617224005316), (3547, 0.02198462557257779), (3548, 0.027309064525027616), (3549, 0.012592934071121959), (3550, 0.008167344591968571), (3551, 0.021325632954446068), (3552, 0.0), (3553, 0.004596493659124379), (3554, 0.0), (3555, 0.017836602570438613), (3556, 0.022273480725146684), (3557, 0.032132460935364704), (3558, 0.01696550458736335), (3559, 0.014531537628494283), (3560, 0.0), (3561, 0.0), (3562, 0.011728625607312335), (3563, 0.048062574491938514), (3564, 0.02734549588148342), (3565, 0.0), (3566, 0.027311524015330213), (3567, 0.011666220604781471), (3568, 0.01167771474785092), (3569, 0.0118023446559144), (3570, 0.01036597112612535), (3571, 0.004742432861502988), (3572, 0.011222480551067683), (3573, 0.0), (3574, 0.0), (3575, 0.022079426039423942), (3576, 0.031248613012455746), (3577, 0.08689448500092942), (3578, 0.015369074858132017), (3579, 0.14080141671910634), (3580, 0.04498662689262976), (3581, 0.0), (3582, 0.004467834587942284), (3583, 0.013040726680168657), (3584, 0.0521321548960411), (3585, 0.07387460086915155), (3586, 0.01310433367609258), (3587, 0.013716485914936268), (3588, 0.016698213949768816), (3589, 0.051768331441072624), (3590, 0.0), (3591, 0.0), (3592, 0.07970798575560173), (3593, 0.015366650586643833), (3594, 0.04440068137630711), (3595, 0.016587450966968304), (3596, 0.014907652289294382), (3597, 0.01694452303288566), (3598, 0.010778949931958307), (3599, 0.041459933888987666), (3600, 0.0), (3601, 0.0), (3602, 0.004560176480240461), (3603, 0.02465872255495794), (3604, 0.08455941793748042), (3605, 0.06278948739350654), (3606, 0.03415637918854426), (3607, 0.02208039855973524), (3608, 0.0), (3609, 0.008267536556863611), (3610, 0.08561360319501854), (3611, 0.03989456998176036), (3612, 0.012181175465130093), (3613, 0.0), (3614, 0.0), (3615, 0.0), (3616, 0.015141991446156293), (3617, 0.0), (3618, 0.07248477902525705), (3619, 0.029848634823717565), (3620, 0.0), (3621, 0.0), (3622, 0.0), (3623, 0.03686931119894159), (3624, 0.014637379246537775), (3625, 0.016876670509254857), (3626, 0.05448153920642915), (3627, 0.009378818562106612), (3628, 0.028591821504350575), (3629, 0.0), (3630, 0.03172172276599526), (3631, 0.0), (3632, 0.034241341696899415), (3633, 0.05208028617586283), (3634, 0.07589823299950878), (3635, 0.0062703575589815), (3636, 0.0), (3637, 0.03077508917360374), (3638, 0.03360153381201683), (3639, 0.030813049895804478), (3640, 0.005172232941039546), (3641, 0.044824128910425656), (3642, 0.021363668750057067), (3643, 0.029537638784363822), (3644, 0.011963416460953785), (3645, 0.03199842804506134), (3646, 0.034222642157874045), (3647, 0.0), (3648, 0.06641295595383377), (3649, 0.0), (3650, 0.039618458736240356), (3651, 0.046547264550166736), (3652, 0.005124521111257487), (3653, 0.038876111760548795), (3654, 0.012806025391448888), (3655, 0.09249459770223614), (3656, 0.054658432506582005), (3657, 0.01737623047937991), (3658, 0.04019237585750171), (3659, 0.0731082854298473), (3660, 0.0044724017047808136), (3661, 0.019176668868050754), (3662, 0.0), (3663, 0.0), (3664, 0.03239604362378623), (3665, 0.030480396608650023), (3666, 0.04279200301608767), (3667, 0.020825960702170316), (3668, 0.025860787789084738), (3669, 0.0), (3670, 0.06701039251861782), (3671, 0.0), (3672, 0.0), (3673, 0.02859338676054472), (3674, 0.03826201682344039), (3675, 0.017611583995602916), (3676, 0.0), (3677, 0.026731901434519558), (3678, 0.06304617064225687), (3679, 0.009746961529830594), (3680, 0.005244457731347745), (3681, 0.04837307833788453), (3682, 0.0), (3683, 0.014090811206331724), (3684, 0.027665280886887758), (3685, 0.03178591536134093), (3686, 0.0), (3687, 0.0), (3688, 0.0629094432438514), (3689, 0.012594743260815812), (3690, 0.10445495940644235), (3691, 0.025618877599410422), (3692, 0.054572232665837606), (3693, 0.027644475251846934), (3694, 0.005019177158920341), (3695, 0.03150991470869064), (3696, 0.02795810006628048), (3697, 0.0), (3698, 0.027515982184896023), (3699, 0.015090386936708174), (3700, 0.0), (3701, 0.05917300378739594), (3702, 0.011550189366066712), (3703, 0.0), (3704, 0.005011864635913633), (3705, 0.028926749436460543), (3706, 0.013434337669470654), (3707, 0.0), (3708, 0.005354834662536821), (3709, 0.046677300654737644), (3710, 0.004930527347011129), (3711, 0.026710765724139465), (3712, 0.025288917092065866), (3713, 0.0214834096388649), (3714, 0.042836100674094636), (3715, 0.005984565025313885), (3716, 0.03526686308854568), (3717, 0.0), (3718, 0.04133506867798104), (3719, 0.0), (3720, 0.041441878171004365), (3721, 0.006152446497801083), (3722, 0.012519474196270832), (3723, 0.031471258841286445), (3724, 0.040616958035239195), (3725, 0.0), (3726, 0.0), (3727, 0.004598347582921002), (3728, 0.059490547905543575), (3729, 0.0), (3730, 0.06101608100223414), (3731, 0.1386652519307199), (3732, 0.014033881636266121), (3733, 0.0), (3734, 0.029018941496235212), (3735, 0.01154292759902297), (3736, 0.0343054642955813), (3737, 0.01886971913095166), (3738, 0.008042261211536488), (3739, 0.09043257916639312), (3740, 0.012828387149123942), (3741, 0.1059377090510981), (3742, 0.009258880957666003), (3743, 0.043136771717316), (3744, 0.026743660283811775), (3745, 0.07101943525589538), (3746, 0.06529899092867826), (3747, 0.060293740464528005), (3748, 0.010535384103564553), (3749, 0.0), (3750, 0.032643052148926745), (3751, 0.10189478307738457), (3752, 0.036300910076564746), (3753, 0.020131518832714076), (3754, 0.02131153022569687), (3755, 0.0), (3756, 0.0037936394628358965), (3757, 0.0), (3758, 0.010516003360686761), (3759, 0.07115219835096426), (3760, 0.0), (3761, 0.0), (3762, 0.0), (3763, 0.0), (3764, 0.0), (3765, 0.0711346447047589), (3766, 0.00553073532749531), (3767, 0.0), (3768, 0.014431621603027309), (3769, 0.014042461083354838), (3770, 0.0), (3771, 0.014720503610539656), (3772, 0.03496749359330671), (3773, 0.030420016269766932), (3774, 0.021096299719896863), (3775, 0.004303883729650009), (3776, 0.014400458357881913), (3777, 0.16333889170420673), (3778, 0.03403602557376129), (3779, 0.04239833386353812), (3780, 0.045174137563105995), (3781, 0.0), (3782, 0.02465183920293846), (3783, 0.07050742710435594), (3784, 0.01159001915077324), (3785, 0.0), (3786, 0.06053388621544269), (3787, 0.06305280179190798), (3788, 0.012554168953636802), (3789, 0.0), (3790, 0.03703378004655196), (3791, 0.0), (3792, 0.06163336697561237), (3793, 0.013203210651231466), (3794, 0.12325829914225932), (3795, 0.0), (3796, 0.0), (3797, 0.024317190106286593), (3798, 0.017983165342578152), (3799, 0.0), (3800, 0.0), (3801, 0.022318309116918136), (3802, 0.05381163173565452), (3803, 0.019780140304319665), (3804, 0.0), (3805, 0.0), (3806, 0.003912569219584061), (3807, 0.019597804525656765), (3808, 0.0), (3809, 0.03597418474522503), (3810, 0.02609298493284775), (3811, 0.009833659500747048), (3812, 0.03628951927660832), (3813, 0.03145539256757707), (3814, 0.004561738108352682), (3815, 0.013692635136455591), (3816, 0.06757395709630139), (3817, 0.033987527104555965), (3818, 0.012075408468210355), (3819, 0.04309588323758089), (3820, 0.0), (3821, 0.01021177711480263), (3822, 0.0343057644892202), (3823, 0.06537735480548777), (3824, 0.01281845837567596), (3825, 0.03441650684019457), (3826, 0.011706199277464335), (3827, 0.0), (3828, 0.005865430668226111), (3829, 0.029878160197889365), (3830, 0.013270945895059207), (3831, 0.059410901908603125), (3832, 0.0), (3833, 0.027618723583484564), (3834, 0.01854992697674363), (3835, 0.03149429195656414), (3836, 0.0), (3837, 0.0), (3838, 0.0), (3839, 0.04310872962942221), (3840, 0.05376656516990573), (3841, 0.02742367427570021), (3842, 0.0), (3843, 0.009323856925582102), (3844, 0.016829829669713504), (3845, 0.014358284563898658), (3846, 0.02194256298820018), (3847, 0.0), (3848, 0.0), (3849, 0.020462439456696548), (3850, 0.04683820478990053), (3851, 0.0), (3852, 0.022311893034113017), (3853, 0.04736824460066825), (3854, 0.03254271102627973), (3855, 0.023113320628035353), (3856, 0.018055208552643646), (3857, 0.07702089955544696), (3858, 0.025586903191177363), (3859, 0.008316500750097313), (3860, 0.03431431590099445), (3861, 0.0), (3862, 0.004843707261543338), (3863, 0.0), (3864, 0.0), (3865, 0.010859142823715421), (3866, 0.06619276749041135), (3867, 0.015637887775677126), (3868, 0.050175773590256184), (3869, 0.019004950963766573), (3870, 0.05270942892049851), (3871, 0.07397034565262547), (3872, 0.018524476210436337), (3873, 0.07134411264590089), (3874, 0.012395255381820647), (3875, 0.019794264802798972), (3876, 0.04474254236067751), (3877, 0.09795313233609179), (3878, 0.0), (3879, 0.0), (3880, 0.0), (3881, 0.012807671686189986), (3882, 0.019340594815780494), (3883, 0.064068545134256), (3884, 0.011793604250260024), (3885, 0.0), (3886, 0.06959264718264782), (3887, 0.0), (3888, 0.01715404318871708), (3889, 0.018802224361344426), (3890, 0.023560579122817078), (3891, 0.011531069525818727), (3892, 0.0), (3893, 0.0), (3894, 0.026795735565741795), (3895, 0.02288824932347695), (3896, 0.0), (3897, 0.03620881383382056), (3898, 0.0), (3899, 0.0), (3900, 0.032591751972563934), (3901, 0.016197004223531625), (3902, 0.0), (3903, 0.0418415932993128), (3904, 0.0), (3905, 0.08664482036637139), (3906, 0.08552515983924681), (3907, 0.09340992735396222), (3908, 0.06617937750117116), (3909, 0.04234402609782225), (3910, 0.019791953053536662), (3911, 0.0), (3912, 0.026046366333649783), (3913, 0.061316368405028646), (3914, 0.02131732752052775), (3915, 0.02924342592652526), (3916, 0.028297088870915872), (3917, 0.01171320037353845), (3918, 0.0), (3919, 0.03085227283452907), (3920, 0.012612479658242325), (3921, 0.043924293202436585), (3922, 0.0), (3923, 0.015929949136623114), (3924, 0.046970947559227996), (3925, 0.0), (3926, 0.027283582277426475), (3927, 0.010135111111727163), (3928, 0.010171206896763936), (3929, 0.008749142113668297), (3930, 0.012606093621903064), (3931, 0.0), (3932, 0.03238445249374093), (3933, 0.025590867594017068), (3934, 0.0), (3935, 0.06038718048378786), (3936, 0.0), (3937, 0.0274052134107741), (3938, 0.025871961727046533), (3939, 0.02250741016675884), (3940, 0.0433729933770195), (3941, 0.00977514916251071), (3942, 0.028747593889138296), (3943, 0.0197526578501368), (3944, 0.06221024575344532), (3945, 0.0), (3946, 0.0035965740500538148), (3947, 0.005359478232342723), (3948, 0.0), (3949, 0.0), (3950, 0.0), (3951, 0.014207896832749768), (3952, 0.0), (3953, 0.0), (3954, 0.033137534640693016), (3955, 0.07306846973329267), (3956, 0.0), (3957, 0.02814917499820289), (3958, 0.0), (3959, 0.03149166396347891), (3960, 0.03989556531513856), (3961, 0.005119004934029749), (3962, 0.0), (3963, 0.03252199626358452), (3964, 0.0), (3965, 0.016557549997033308), (3966, 0.07847934061019793), (3967, 0.0), (3968, 0.07500797710020586), (3969, 0.012791860106305305), (3970, 0.05371276866555829), (3971, 0.007090677472722242), (3972, 0.06593518306389856), (3973, 0.0), (3974, 0.0177321483951086), (3975, 0.030717919383889306), (3976, 0.0), (3977, 0.05664609984170448), (3978, 0.004423639995156209), (3979, 0.021861285562557266), (3980, 0.026286810732850403), (3981, 0.0), (3982, 0.03791822329434244), (3983, 0.034174262745474), (3984, 0.010970248754432999), (3985, 0.02280524073029465), (3986, 0.010955922854272312), (3987, 0.0), (3988, 0.0), (3989, 0.010819544420083411), (3990, 0.0), (3991, 0.0), (3992, 0.0), (3993, 0.018202426927868453), (3994, 0.03722542995168834), (3995, 0.013924146084222003), (3996, 0.0), (3997, 0.023394198628467935), (3998, 0.044713981808654046), (3999, 0.0), (4000, 0.004600220775499136), (4001, 0.024394036382206722), (4002, 0.014141055435160593), (4003, 0.011197194138159935), (4004, 0.031219274091284333), (4005, 0.01966469791380373), (4006, 0.020956704567327906), (4007, 0.06453409194112185), (4008, 0.021345392853924387), (4009, 0.01125091721571981), (4010, 0.0), (4011, 0.014146714134575057), (4012, 0.024483922162063514), (4013, 0.02966311431595131), (4014, 0.017541545614007864), (4015, 0.06697896847231166), (4016, 0.008928311746692608), (4017, 0.0), (4018, 0.01627915820801871), (4019, 0.0), (4020, 0.0), (4021, 0.0231402376023512), (4022, 0.06266365774827676), (4023, 0.032809863225069784), (4024, 0.0), (4025, 0.025264941547222922), (4026, 0.0), (4027, 0.0), (4028, 0.010686755870169215), (4029, 0.008616623293613328), (4030, 0.0), (4031, 0.055278931299726455), (4032, 0.04262484651078301), (4033, 0.0376139630630482), (4034, 0.0), (4035, 0.013106745780947525), (4036, 0.0), (4037, 0.04315590355503709), (4038, 0.02912779889741281), (4039, 0.004520986196600166), (4040, 0.011345805812302219), (4041, 0.017535403499733867), (4042, 0.0), (4043, 0.04951141115402851), (4044, 0.02030929199077984), (4045, 0.031827557992445334), (4046, 0.02409030757753384), (4047, 0.005861918834131534), (4048, 0.0), (4049, 0.0), (4050, 0.005123204960256476), (4051, 0.015357670200084078), (4052, 0.0), (4053, 0.0), (4054, 0.037868886634711454), (4055, 0.0372075948064377), (4056, 0.0), (4057, 0.010823136457021916), (4058, 0.0), (4059, 0.025473762289161858), (4060, 0.010070763919544564), (4061, 0.026600697577497383), (4062, 0.01474828094112726), (4063, 0.08470253918493373), (4064, 0.013507885249696577), (4065, 0.0), (4066, 0.0), (4067, 0.0), (4068, 0.01708213180771036), (4069, 0.0), (4070, 0.09921546785831455), (4071, 0.055567310183516294), (4072, 0.0), (4073, 0.014681806730785544), (4074, 0.036883028810545844), (4075, 0.016062318541221792), (4076, 0.05658872959999149), (4077, 0.03251976756024989), (4078, 0.019512834012627128), (4079, 0.0190499781127942), (4080, 0.0), (4081, 0.010192577325404892), (4082, 0.04691303351885007), (4083, 0.0), (4084, 0.0), (4085, 0.13994971886418342), (4086, 0.016300145592736126), (4087, 0.01884656361899289), (4088, 0.004752818995824665), (4089, 0.04195278640868153), (4090, 0.0684109165274116), (4091, 0.03752475898032695), (4092, 0.02398485930582723), (4093, 0.02106278378746622), (4094, 0.0), (4095, 0.021410403159990193), (4096, 0.05376282173354445), (4097, 0.027919140649652785), (4098, 0.004753961529295215), (4099, 0.012173303572640095), (4100, 0.03248972277627134), (4101, 0.03832241924669227), (4102, 0.0), (4103, 0.004662907232079456), (4104, 0.0), (4105, 0.0), (4106, 0.07069627497508425), (4107, 0.0), (4108, 0.04464414584270028), (4109, 0.04923068730159193), (4110, 0.055145658828578574), (4111, 0.0), (4112, 0.011885423853559443), (4113, 0.015289673094473663), (4114, 0.07130947619239833), (4115, 0.02280164506709559), (4116, 0.016107326221228985), (4117, 0.05408056263537071), (4118, 0.02626175930212712), (4119, 0.04217248980846486), (4120, 0.02854313168818032), (4121, 0.019124069956728412), (4122, 0.022822398444416983), (4123, 0.004896930242440292), (4124, 0.025501457596908805), (4125, 0.0), (4126, 0.0), (4127, 0.031737360006190644), (4128, 0.032281952200155756), (4129, 0.0), (4130, 0.0), (4131, 0.0), (4132, 0.0), (4133, 0.02965425286426172), (4134, 0.01843110907899787), (4135, 0.01234923107928415), (4136, 0.01268469195832466), (4137, 0.08518282912906722), (4138, 0.0), (4139, 0.04274031215512332), (4140, 0.022497805479844812), (4141, 0.0), (4142, 0.0), (4143, 0.03684053073491144), (4144, 0.008522925176747843), (4145, 0.0), (4146, 0.02108305116466102), (4147, 0.022375876795220007), (4148, 0.042390446809665146), (4149, 0.029706474681307223), (4150, 0.009980790315046107), (4151, 0.0), (4152, 0.07682026171011294), (4153, 0.06770966857535066), (4154, 0.019856699893887008), (4155, 0.0632505306294618), (4156, 0.04145165956042648), (4157, 0.05337658203383336), (4158, 0.058437922832585615), (4159, 0.08420921213422869), (4160, 0.0), (4161, 0.010904841576870787), (4162, 0.005338067575724941), (4163, 0.005376999049600474), (4164, 0.036992924075986144), (4165, 0.028373110798104523), (4166, 0.05135952339007224), (4167, 0.009431994935546488), (4168, 0.017731169403145758), (4169, 0.06277772859812811), (4170, 0.0), (4171, 0.05259855499812184), (4172, 0.0), (4173, 0.01611655710870196), (4174, 0.0250720397574472), (4175, 0.023269548969299437), (4176, 0.024781626527242306), (4177, 0.0), (4178, 0.004869791923146389), (4179, 0.0), (4180, 0.06378669479481408), (4181, 0.04793044058358001), (4182, 0.04356307877881907), (4183, 0.03405477377179154), (4184, 0.0), (4185, 0.02852591839980242), (4186, 0.04743254197716014), (4187, 0.05914221814195649), (4188, 0.029195154335100407), (4189, 0.07385129944645798), (4190, 0.0), (4191, 0.03180435888935783), (4192, 0.05758298346230309), (4193, 0.012213777778687585), (4194, 0.027690262617313388), (4195, 0.028692213198560187), (4196, 0.0), (4197, 0.015356195780930736), (4198, 0.0), (4199, 0.03576428640762484), (4200, 0.0), (4201, 0.09985173928938904), (4202, 0.0), (4203, 0.05535030688819803), (4204, 0.012064626102902902), (4205, 0.0694115251652265), (4206, 0.0), (4207, 0.026064013199630354), (4208, 0.005803187651781335), (4209, 0.012421041321017115), (4210, 0.02293116018166838), (4211, 0.03431769963950644), (4212, 0.0), (4213, 0.033387246873250044), (4214, 0.039347797716698885), (4215, 0.011957759743509884), (4216, 0.05171703579217086), (4217, 0.031341374882630904), (4218, 0.02664492436372655), (4219, 0.005962149245744166), (4220, 0.0), (4221, 0.0), (4222, 0.0), (4223, 0.0), (4224, 0.056155086377818735), (4225, 0.0), (4226, 0.03432802970455799), (4227, 0.014826054140637132), (4228, 0.0), (4229, 0.0), (4230, 0.0), (4231, 0.004947306060566062), (4232, 0.0), (4233, 0.0), (4234, 0.0), (4235, 0.004249413244729057), (4236, 0.030981220735902718), (4237, 0.0), (4238, 0.020230820814275866), (4239, 0.012147407241152324), (4240, 0.08224995144677956), (4241, 0.03021680405244538), (4242, 0.04371861820389056), (4243, 0.0), (4244, 0.005313167152115794), (4245, 0.0), (4246, 0.0), (4247, 0.022407741311662045), (4248, 0.0046103458699038365), (4249, 0.004785252938254308), (4250, 0.01806743404053792), (4251, 0.022783754422382396), (4252, 0.034822238942039), (4253, 0.0), (4254, 0.0), (4255, 0.025574755531773637), (4256, 0.0), (4257, 0.011470630131822267), (4258, 0.0), (4259, 0.011586694662202246), (4260, 0.0), (4261, 0.029075959978767493), (4262, 0.0710636985652025), (4263, 0.0), (4264, 0.05625547571272339), (4265, 0.030681376799532346), (4266, 0.017494209000067887), (4267, 0.0540510300004384), (4268, 0.01830236936463384), (4269, 0.027826499490330746), (4270, 0.0), (4271, 0.0445856736582875), (4272, 0.0310859246064454), (4273, 0.0), (4274, 0.05026016824948309), (4275, 0.0048086952757837595), (4276, 0.020081211419479418), (4277, 0.02199781334472293), (4278, 0.00871756559026742), (4279, 0.011644157074801311), (4280, 0.012013098558278744), (4281, 0.06001426599529104), (4282, 0.03789488227262811), (4283, 0.03812865361237328), (4284, 0.016497987640002817), (4285, 0.04561904043715956), (4286, 0.015925982253907907), (4287, 0.015562258605005388), (4288, 0.009436973874850726), (4289, 0.03737078397770062), (4290, 0.06433672905908752), (4291, 0.0), (4292, 0.03315615707333609), (4293, 0.0), (4294, 0.04866379153809776), (4295, 0.0), (4296, 0.0), (4297, 0.022316464060454032), (4298, 0.08813187264665963), (4299, 0.058882168994206695), (4300, 0.0793632435463183), (4301, 0.0), (4302, 0.03283993651887755), (4303, 0.0), (4304, 0.0), (4305, 0.0), (4306, 0.0), (4307, 0.005206982980269994), (4308, 0.0), (4309, 0.03879652499560047), (4310, 0.019721061654336024), (4311, 0.0), (4312, 0.06792989092748486), (4313, 0.023926680317372214), (4314, 0.05906702978604231), (4315, 0.0), (4316, 0.010172362939343076), (4317, 0.0), (4318, 0.0), (4319, 0.04918227812772104), (4320, 0.03502235211535158), (4321, 0.014340914721392012), (4322, 0.004246418712874876), (4323, 0.0), (4324, 0.0), (4325, 0.021346628568183982), (4326, 0.0), (4327, 0.013415463716795995), (4328, 0.02708293681083606), (4329, 0.04399373928201496), (4330, 0.012183310158390488), (4331, 0.015470321019009112), (4332, 0.026420696611542765), (4333, 0.016949955277396424), (4334, 0.05420828433948365), (4335, 0.0), (4336, 0.0), (4337, 0.03329588424757295), (4338, 0.08332453734633728), (4339, 0.031196037902758475), (4340, 0.05212503250583038), (4341, 0.0), (4342, 0.060796357119471095), (4343, 0.016254393603117742), (4344, 0.06798896434257605), (4345, 0.009614895786791632), (4346, 0.03971929441730972), (4347, 0.08098923206254566), (4348, 0.043487158202858076), (4349, 0.0), (4350, 0.031647534427572184), (4351, 0.01305806149045394), (4352, 0.008591457737096297), (4353, 0.02365581454227428), (4354, 0.02154012719465139), (4355, 0.0), (4356, 0.023710134341234618), (4357, 0.0), (4358, 0.0), (4359, 0.0), (4360, 0.05766730826434041), (4361, 0.051775532114335596), (4362, 0.0045411307097363565), (4363, 0.07109315284410275), (4364, 0.01735344213118024), (4365, 0.01935549725607131), (4366, 0.025619995364527304), (4367, 0.0), (4368, 0.013704058627609844), (4369, 0.0), (4370, 0.0), (4371, 0.03765195522881506), (4372, 0.03807156048091044), (4373, 0.02221741710757006), (4374, 0.06888358604168553), (4375, 0.033859711837800906), (4376, 0.01723887772734422), (4377, 0.024185478555026785), (4378, 0.067153998181487), (4379, 0.02669736460848553), (4380, 0.04027048856107686), (4381, 0.0), (4382, 0.029712147882104044), (4383, 0.02205153783333299), (4384, 0.004912225596712474), (4385, 0.01673194599375192), (4386, 0.0), (4387, 0.016395219936938703), (4388, 0.02801237284827418), (4389, 0.026701590380962762), (4390, 0.0), (4391, 0.017520711243789264), (4392, 0.02481581716163157), (4393, 0.0), (4394, 0.012082916832742874), (4395, 0.02055569855421993), (4396, 0.0), (4397, 0.01842624499532158), (4398, 0.030212597335215117), (4399, 0.051487173638864264), (4400, 0.0), (4401, 0.051446467611007934), (4402, 0.029476244272991815), (4403, 0.042873031260542205), (4404, 0.008983008657342988), (4405, 0.041170057259022674), (4406, 0.052997339249306205), (4407, 0.019703172515172368), (4408, 0.0), (4409, 0.039547023433911685), (4410, 0.019339141787946577), (4411, 0.044264132565850926), (4412, 0.04553094187968454), (4413, 0.0), (4414, 0.015891975565158676), (4415, 0.0), (4416, 0.0), (4417, 0.0), (4418, 0.0), (4419, 0.0214658878540853), (4420, 0.01937722437070736), (4421, 0.0), (4422, 0.0), (4423, 0.01314421792922014), (4424, 0.0), (4425, 0.0), (4426, 0.027444388455685094), (4427, 0.04279789113387203), (4428, 0.011562234921542583), (4429, 0.0), (4430, 0.004855750689413081), (4431, 0.031003960810362507), (4432, 0.004059351685087267), (4433, 0.0), (4434, 0.018132947294341402), (4435, 0.010184831834047533), (4436, 0.018131153384478495), (4437, 0.013549634773815775), (4438, 0.03056172578498766), (4439, 0.0), (4440, 0.021173533127533152), (4441, 0.04178131449167492), (4442, 0.011810724000893596), (4443, 0.005681420197716478), (4444, 0.02202584707653476), (4445, 0.09758004278326063), (4446, 0.05459162738824552), (4447, 0.030392617627108404), (4448, 0.02330225041259764), (4449, 0.02460393416188003), (4450, 0.014905133695789165), (4451, 0.021681830796764136), (4452, 0.0), (4453, 0.029353775234757212), (4454, 0.06469915951706318), (4455, 0.0), (4456, 0.010438978941815745), (4457, 0.0), (4458, 0.0), (4459, 0.031887305147844325), (4460, 0.07067704779402828), (4461, 0.0), (4462, 0.040907024744844436), (4463, 0.011578591015248418), (4464, 0.005896967553929411), (4465, 0.023598547668747583), (4466, 0.08219889617871676), (4467, 0.08932770277167919), (4468, 0.05141900051513705), (4469, 0.0), (4470, 0.040981145309419466), (4471, 0.037233431051928584), (4472, 0.0430902556439612), (4473, 0.02372409728788886), (4474, 0.004883240977708552), (4475, 0.027045565737994347), (4476, 0.011779324561081921), (4477, 0.014225657179846652), (4478, 0.035815492501970914), (4479, 0.10905384021554239), (4480, 0.03799903067332042), (4481, 0.016065190656621764), (4482, 0.04690125520538497), (4483, 0.032193820656249685), (4484, 0.0), (4485, 0.010260521689290172), (4486, 0.02190103014664125), (4487, 0.027067158836595998), (4488, 0.0475620535228599), (4489, 0.0), (4490, 0.043924337234487736), (4491, 0.0), (4492, 0.04565349325301454), (4493, 0.018775749908528233), (4494, 0.05709090578788603), (4495, 0.04705496021670516), (4496, 0.0), (4497, 0.03154110000805346), (4498, 0.0), (4499, 0.03260955627500138), (4500, 0.0), (4501, 0.020803064645428762), (4502, 0.0), (4503, 0.032149505378021345), (4504, 0.0763663990735181), (4505, 0.0), (4506, 0.0), (4507, 0.035293671333241204), (4508, 0.0), (4509, 0.0), (4510, 0.06972050652706291), (4511, 0.012110902259534012), (4512, 0.016554280093634445), (4513, 0.01110976671061883), (4514, 0.005609757201873214), (4515, 0.03547236432392528), (4516, 0.040262382936617255), (4517, 0.013511584942983252), (4518, 0.04127165338048907), (4519, 0.0), (4520, 0.0), (4521, 0.0), (4522, 0.005054169373292907), (4523, 0.0948870994615431), (4524, 0.02006508625029173), (4525, 0.008051600498693657), (4526, 0.0), (4527, 0.015442550353127825), (4528, 0.029360447200533116), (4529, 0.0), (4530, 0.0), (4531, 0.038999852536863985), (4532, 0.007696612772531011), (4533, 0.025820056429683325), (4534, 0.030935176183928097), (4535, 0.05870401662274883), (4536, 0.033545299605266164), (4537, 0.017482426472623023), (4538, 0.010109485225224065), (4539, 0.010546221975333963), (4540, 0.042746130156403495), (4541, 0.019888587394225464), (4542, 0.07529170400327154), (4543, 0.05662223442410021), (4544, 0.0), (4545, 0.010969248428646262), (4546, 0.028404698865034706), (4547, 0.031693655424569145), (4548, 0.04123028003904468), (4549, 0.03450643161276536), (4550, 0.011804401737479759), (4551, 0.04728858522921213), (4552, 0.013920948964770918), (4553, 0.004055298319308356), (4554, 0.017562174869219682), (4555, 0.03602402637580934), (4556, 0.010572753636533264), (4557, 0.0), (4558, 0.05425227811463749), (4559, 0.0), (4560, 0.0), (4561, 0.0), (4562, 0.012592447188238943), (4563, 0.021114327498592517), (4564, 0.031550332107356485), (4565, 0.00741869668916085), (4566, 0.0), (4567, 0.0175632463073378), (4568, 0.055580938086592896), (4569, 0.02365552329424278), (4570, 0.01979157935443733), (4571, 0.01610708842549482), (4572, 0.0), (4573, 0.0), (4574, 0.016128588798793354), (4575, 0.037150424590847414), (4576, 0.05937743505913455), (4577, 0.0), (4578, 0.0), (4579, 0.004998980565779782), (4580, 0.0), (4581, 0.027729347251019217), (4582, 0.011979710585502321), (4583, 0.008883635086576797), (4584, 0.011916900372384551), (4585, 0.043913229697686705), (4586, 0.004829302838735244), (4587, 0.05064743941071358), (4588, 0.05079463426905531), (4589, 0.028504223068455372), (4590, 0.05998491087464557), (4591, 0.023463936733159253), (4592, 0.01213881362776127), (4593, 0.014934124535091877), (4594, 0.014342325273149744), (4595, 0.014532437341061435), (4596, 0.021464069459763837), (4597, 0.0), (4598, 0.020001200206795522), (4599, 0.029991618100052853), (4600, 0.024928267491156304), (4601, 0.005076289985272752), (4602, 0.022591427016422756), (4603, 0.0), (4604, 0.012242291132224265), (4605, 0.0), (4606, 0.02326471262090032), (4607, 0.14808112608155022), (4608, 0.0), (4609, 0.02073230057941204), (4610, 0.008754595022484001), (4611, 0.0), (4612, 0.02093225284976141), (4613, 0.012890200269379672), (4614, 0.012828368794126755), (4615, 0.00856502260933406), (4616, 0.0), (4617, 0.0), (4618, 0.01228302636939016), (4619, 0.0), (4620, 0.0), (4621, 0.026758368340764907), (4622, 0.01840288915509861), (4623, 0.03169208076639456), (4624, 0.04483516423650069), (4625, 0.0), (4626, 0.021125496511273573), (4627, 0.0), (4628, 0.02122905919677661), (4629, 0.03902063688478487), (4630, 0.01506119653206021), (4631, 0.0), (4632, 0.0), (4633, 0.0), (4634, 0.06494060199689851), (4635, 0.017319562064210585), (4636, 0.043216749294545526), (4637, 0.005503227502961944), (4638, 0.01581481630961316), (4639, 0.02981538605791418), (4640, 0.0), (4641, 0.009902116561801476), (4642, 0.021718464607438367), (4643, 0.0), (4644, 0.0), (4645, 0.010417399753591454), (4646, 0.044063783328749294), (4647, 0.060862387501976145), (4648, 0.0), (4649, 0.011182433535366078), (4650, 0.11940996356156702), (4651, 0.0), (4652, 0.01861431765037099), (4653, 0.046272329290651684), (4654, 0.013333826894135271), (4655, 0.0), (4656, 0.0), (4657, 0.0), (4658, 0.045538222622369354), (4659, 0.029394966525570845), (4660, 0.0911692245861039), (4661, 0.004111024210391271), (4662, 0.0), (4663, 0.03592813063137332), (4664, 0.008561177746407677), (4665, 0.013320348522718538), (4666, 0.006278811083993126), (4667, 0.0), (4668, 0.008663600930685317), (4669, 0.038517264619897046), (4670, 0.021049709115039086), (4671, 0.0), (4672, 0.009036948008167036), (4673, 0.020527742162252952), (4674, 0.05986544641251615), (4675, 0.01683537457559546), (4676, 0.033760085411909314), (4677, 0.040784372451910904), (4678, 0.038681468982610656), (4679, 0.03873057284955344), (4680, 0.0), (4681, 0.0), (4682, 0.03698782461252673), (4683, 0.044655985141401025), (4684, 0.020104711814877586), (4685, 0.01195462109067414), (4686, 0.029252690809071273), (4687, 0.08057004646122687), (4688, 0.018246773319561014), (4689, 0.059812892906893865), (4690, 0.0), (4691, 0.006281964674691306), (4692, 0.0), (4693, 0.0), (4694, 0.019453484184846454), (4695, 0.05936968467438575), (4696, 0.013279613171125183), (4697, 0.0765341456523245), (4698, 0.016203712813514445), (4699, 0.03214886011313579), (4700, 0.0), (4701, 0.05022395574683279), (4702, 0.0), (4703, 0.03299401983486769), (4704, 0.0), (4705, 0.0), (4706, 0.015293537150792777), (4707, 0.0), (4708, 0.054222549336914824), (4709, 0.006303954633045945), (4710, 0.005862300603204183), (4711, 0.0), (4712, 0.018262651526170612), (4713, 0.0), (4714, 0.019848556740856612), (4715, 0.004649775368241334), (4716, 0.009112725918975897), (4717, 0.0), (4718, 0.0), (4719, 0.0), (4720, 0.010671882736338765), (4721, 0.005772190637906246), (4722, 0.0), (4723, 0.0), (4724, 0.005717057437776213), (4725, 0.0395520753168275), (4726, 0.0), (4727, 0.0221198925284374), (4728, 0.0528613168194178), (4729, 0.0), (4730, 0.03705071614754678), (4731, 0.0052509787913629456), (4732, 0.054359887459858335), (4733, 0.02105039774180833), (4734, 0.0), (4735, 0.005488068343446812), (4736, 0.018365388914244853), (4737, 0.0), (4738, 0.0), (4739, 0.030717204260954836), (4740, 0.0), (4741, 0.01188666973491773), (4742, 0.0), (4743, 0.01793040582537604), (4744, 0.0), (4745, 0.02590724834948169), (4746, 0.015232929375514778), (4747, 0.026486583805762364), (4748, 0.01829955059590994), (4749, 0.0), (4750, 0.010150405872753721), (4751, 0.017084679724912247), (4752, 0.019512059915222774), (4753, 0.0), (4754, 0.0), (4755, 0.021096272052572054), (4756, 0.06117170223512748), (4757, 0.031643357726594754), (4758, 0.0), (4759, 0.0)]\n"
          ]
        }
      ]
    },
    {
      "cell_type": "code",
      "source": [
        "len(reco_score)"
      ],
      "metadata": {
        "colab": {
          "base_uri": "https://localhost:8080/"
        },
        "id": "ctaZVtsMXE-s",
        "outputId": "3c3990e8-bf58-4223-ab9d-363f751e6f75"
      },
      "execution_count": null,
      "outputs": [
        {
          "output_type": "execute_result",
          "data": {
            "text/plain": [
              "4760"
            ]
          },
          "metadata": {},
          "execution_count": 28
        }
      ]
    },
    {
      "cell_type": "code",
      "source": [
        "#  sort the movies based on their similarity_score\n",
        "sorted_similar_movies=sorted(reco_score , key=lambda x:x[1], reverse=True)\n",
        "print(sorted_similar_movies)"
      ],
      "metadata": {
        "colab": {
          "base_uri": "https://localhost:8080/"
        },
        "id": "VeM01vOcW7Mw",
        "outputId": "35c6ba45-61d2-4de6-cfad-6988474fdd2d"
      },
      "execution_count": null,
      "outputs": [
        {
          "output_type": "stream",
          "name": "stdout",
          "text": [
            "[(1925, 1.0000000000000002), (1948, 0.18722617948506654), (2178, 0.17625961184209057), (1754, 0.1762165302257287), (1968, 0.17412726222064995), (1221, 0.1695040048978378), (3777, 0.16333889170420673), (1366, 0.16333531112709357), (102, 0.16299015316370893), (124, 0.1608839397375382), (1678, 0.15981718136306172), (283, 0.15296162714573378), (2296, 0.15228058515591764), (1767, 0.1519922023316632), (77, 0.15063643658778292), (4607, 0.14808112608155022), (3227, 0.14351472521527217), (2047, 0.14226999969021614), (3579, 0.14080141671910634), (4085, 0.13994971886418342), (763, 0.13964407645289623), (3731, 0.1386652519307199), (1738, 0.13424498185552539), (1335, 0.13418960309394945), (3529, 0.13387226617483328), (2622, 0.13384488996436647), (1543, 0.1323836378698125), (1966, 0.13158417326958846), (324, 0.1314746671054418), (2182, 0.13065121522560547), (2042, 0.12999628949496106), (2118, 0.12935268887049045), (320, 0.12852133095683732), (307, 0.1269524707138514), (481, 0.12626828242260704), (3330, 0.1253100499861984), (3199, 0.12517341791689376), (820, 0.12456626837486265), (31, 0.12444597285957693), (2074, 0.12392628989050901), (3794, 0.12325829914225932), (3294, 0.12319813917409075), (280, 0.1227657891786056), (1536, 0.12019818412356903), (2065, 0.11985767174945357), (4650, 0.11940996356156702), (727, 0.11939274620760655), (2780, 0.11911978323170952), (563, 0.11891494317336818), (1649, 0.11748165421142738), (1216, 0.11744315736189097), (390, 0.11654089718777422), (1936, 0.11607138022055931), (619, 0.11545898126933919), (376, 0.11494707505527231), (1292, 0.1146150054645605), (1111, 0.11449811680542354), (2721, 0.11446869886933986), (179, 0.11441143497827584), (475, 0.11357389276679242), (45, 0.11251514716544568), (2668, 0.11244692564386868), (2944, 0.11183729787568282), (2483, 0.11052798668804809), (222, 0.11046485997005841), (3018, 0.11019902432218279), (2765, 0.1092940071296502), (4479, 0.10905384021554239), (1662, 0.10874150635968469), (18, 0.10857031367182425), (3154, 0.10815711448601431), (2007, 0.1079202113817726), (165, 0.10773898802044346), (3181, 0.10766298262774696), (1799, 0.10722018472261087), (1375, 0.1070006271537938), (2716, 0.10676088814390625), (1780, 0.10607818546260178), (3741, 0.1059377090510981), (609, 0.10589449416518856), (3410, 0.10583053594106683), (801, 0.105451548027194), (3435, 0.10483248378798835), (3690, 0.10445495940644235), (455, 0.1040667517144675), (1930, 0.10365369293584367), (1477, 0.10361509651963975), (432, 0.10314139196795745), (3468, 0.10281305007407997), (2021, 0.1023366283490239), (1881, 0.10217763406388361), (1635, 0.10216442429540457), (75, 0.10191175095271648), (160, 0.1019047404181583), (3751, 0.10189478307738457), (3089, 0.10176079653856922), (2103, 0.10145263531907202), (3323, 0.10088918982706187), (605, 0.10087559424970957), (1845, 0.1008296394805544), (601, 0.10052380635574609), (469, 0.0999155913689361), (4201, 0.09985173928938904), (1506, 0.09974826753791982), (738, 0.09970909298702273), (112, 0.09962560240862388), (4070, 0.09921546785831455), (1958, 0.09868607533280987), (2908, 0.09855438791184402), (1701, 0.09841500013496791), (0, 0.09807795517492439), (3877, 0.09795313233609179), (1129, 0.09793317352684522), (261, 0.09759108463876512), (4445, 0.09758004278326063), (328, 0.09726933236598331), (3133, 0.09710017471781306), (3143, 0.09708400286375998), (2841, 0.09705723771981889), (467, 0.09690609253311247), (3106, 0.0968938888227952), (2711, 0.09674419271332559), (1677, 0.09663810339132109), (1195, 0.09654447678317532), (162, 0.0964085248458102), (1345, 0.09634615626790016), (2709, 0.0963073115598584), (1354, 0.09576025193390948), (2541, 0.0953486207100942), (767, 0.09507931985299388), (1219, 0.0950758848499029), (1278, 0.09492284365358275), (4523, 0.0948870994615431), (1584, 0.09464999481550607), (1257, 0.09422727448497638), (891, 0.09421792440401477), (692, 0.09387858197843459), (302, 0.0938713293463209), (3907, 0.09340992735396222), (2996, 0.09335950205756877), (1044, 0.09324412358973898), (3655, 0.09249459770223614), (2406, 0.09237076983248195), (2790, 0.09195330264341395), (3124, 0.09192018011295565), (1852, 0.0915727422621832), (2136, 0.09155155798271793), (1413, 0.09137377207534486), (4660, 0.0911692245861039), (829, 0.09106497113367981), (780, 0.09089725498706008), (55, 0.09057129604821375), (1515, 0.09046003161646242), (3739, 0.09043257916639312), (3467, 0.0903419144443652), (257, 0.09033517139587008), (342, 0.08994145168442444), (277, 0.08993278277771112), (37, 0.0898714937801057), (3462, 0.08967508152840614), (345, 0.08962236376064979), (1306, 0.08955440648683054), (4467, 0.08932770277167919), (3515, 0.08906487945217145), (1486, 0.08894074492084231), (2625, 0.08871720396670951), (369, 0.08850405866303451), (1723, 0.08828046912618395), (1121, 0.08825898577584429), (4298, 0.08813187264665963), (67, 0.08772869098559637), (3153, 0.08756400518259048), (2442, 0.08754660222240193), (3272, 0.08746200963345797), (657, 0.08742372519390164), (1365, 0.08737375818683729), (191, 0.08700362721360488), (3577, 0.08689448500092942), (3905, 0.08664482036637139), (2542, 0.08606036044516402), (2114, 0.08597089832852231), (3610, 0.08561360319501854), (3906, 0.08552515983924681), (1456, 0.08550477786177009), (4137, 0.08518282912906722), (330, 0.0849755193111224), (2671, 0.08474746867159302), (4063, 0.08470253918493373), (1587, 0.08461399437800761), (3604, 0.08455941793748042), (2070, 0.08432512991942127), (1013, 0.08429686192424386), (3, 0.08425199260860243), (4159, 0.08420921213422869), (790, 0.08418964753125216), (1039, 0.08397202324639763), (736, 0.0839204772969414), (3120, 0.08372356501158196), (555, 0.08369594074457293), (4338, 0.08332453734633728), (2204, 0.08316754226927883), (2550, 0.08310452923391064), (1592, 0.0830944286889671), (2111, 0.08305909218387213), (167, 0.08291398681603944), (1095, 0.08291026223371835), (1546, 0.08281678593640164), (1188, 0.08280332989989728), (2220, 0.08272825935901607), (1263, 0.08244802630526668), (1833, 0.08243094047188726), (561, 0.08233811640228106), (4240, 0.08224995144677956), (4466, 0.08219889617871676), (2644, 0.08217922659992734), (3389, 0.08211684971910196), (6, 0.08189120196545925), (739, 0.08180106031540921), (2513, 0.08170696878397957), (530, 0.08135188276700417), (2175, 0.08135144181910334), (2239, 0.08129703757361419), (1190, 0.08112164802084222), (808, 0.08111450118620114), (4347, 0.08098923206254566), (2898, 0.08097016231769284), (744, 0.08094202176483792), (1344, 0.08074659648130199), (2196, 0.08070762749659169), (306, 0.08065013974916313), (918, 0.08064164721116458), (1666, 0.08063906668862406), (207, 0.080586630000853), (4687, 0.08057004646122687), (115, 0.0805458070513593), (571, 0.08038895881098164), (1376, 0.0801492196606084), (96, 0.07996191998710972), (1579, 0.07979257386730579), (1489, 0.07972211750015541), (3592, 0.07970798575560173), (3463, 0.07945873968116865), (1259, 0.0794025271963675), (4300, 0.0793632435463183), (2603, 0.07914950152731755), (612, 0.0790117510389154), (3218, 0.0789926241682726), (802, 0.0789451044883889), (2177, 0.07887460101368529), (2518, 0.07856693536730139), (84, 0.07852685420753845), (3966, 0.07847934061019793), (1698, 0.07833765458016002), (2931, 0.07800193341094205), (1757, 0.07787101710744675), (3456, 0.07782631384348426), (44, 0.07726401027331554), (3857, 0.07702089955544696), (1467, 0.07696005894856742), (1412, 0.07691374385680994), (4152, 0.07682026171011294), (3536, 0.07665872718983438), (4697, 0.0765341456523245), (1192, 0.0763739029412554), (4504, 0.0763663990735181), (1772, 0.07630044147185558), (380, 0.07598299568126368), (76, 0.07594603417375415), (1682, 0.07591020974848289), (3634, 0.07589823299950878), (1405, 0.07582511231667963), (2147, 0.07554305681094386), (2031, 0.07531243401664042), (4542, 0.07529170400327154), (3022, 0.07527492593458111), (483, 0.07516502626442459), (3968, 0.07500797710020586), (88, 0.07496798967232104), (839, 0.07491221370351578), (1351, 0.07485298585733592), (333, 0.07482695403279702), (781, 0.07478577079360905), (2193, 0.07476883351060826), (269, 0.07469343329081995), (1387, 0.07458375416959884), (2036, 0.07452734087102139), (2158, 0.07452692895771254), (108, 0.07447677519886042), (1291, 0.07446723804576195), (2734, 0.07443901655429591), (1643, 0.07438745948540848), (740, 0.07411536568635291), (1920, 0.07404438407293676), (3871, 0.07397034565262547), (2660, 0.07395074125832683), (664, 0.07388895894456857), (3585, 0.07387460086915155), (4189, 0.07385129944645798), (928, 0.0735353773563098), (387, 0.07351578389313423), (250, 0.07350829171571183), (616, 0.07338806521138921), (1229, 0.07335515766853264), (1062, 0.07320085221422966), (3659, 0.0731082854298473), (3955, 0.07306846973329267), (1205, 0.0728019281288671), (3437, 0.07274508482045859), (168, 0.07267590779341858), (1036, 0.07260506498291158), (1171, 0.07253594610901228), (1087, 0.07251511844513345), (3618, 0.07248477902525705), (1248, 0.07248196243055154), (2757, 0.07223755840914518), (3047, 0.07223467797089206), (74, 0.07214634588108194), (1060, 0.07212268506546114), (840, 0.07207858031419336), (1910, 0.07207641938841075), (2988, 0.07206900756091764), (218, 0.07203016742772443), (733, 0.07202519575498939), (1137, 0.07190899694944669), (1146, 0.07188156216190457), (981, 0.07181302943073968), (1668, 0.07179455407804124), (249, 0.07166753138596085), (2416, 0.07164925836422124), (367, 0.07161479767043241), (1610, 0.07154344018083762), (3873, 0.07134411264590089), (521, 0.0713385333596448), (4114, 0.07130947619239833), (1396, 0.0713022048554527), (2868, 0.07122222592750763), (2062, 0.0711661761040416), (212, 0.0711576629482299), (3759, 0.07115219835096426), (3765, 0.0711346447047589), (4363, 0.07109315284410275), (1474, 0.07108906692913047), (2447, 0.07107259481760686), (4262, 0.0710636985652025), (3745, 0.07101943525589538), (656, 0.07092692649339336), (4106, 0.07069627497508425), (4460, 0.07067704779402828), (3108, 0.07066432943287812), (3783, 0.07050742710435594), (1996, 0.07047069141482401), (1090, 0.07045000778672504), (1326, 0.07030991376287418), (2612, 0.07029255933131727), (992, 0.0701920036424725), (2867, 0.07009979085877627), (723, 0.07006528490354548), (3201, 0.06992000383044032), (1748, 0.06985411795334683), (2963, 0.06980501071508635), (2294, 0.06979255429791233), (4510, 0.06972050652706291), (2078, 0.06968821833516034), (1808, 0.06962944876344154), (3886, 0.06959264718264782), (3086, 0.06952902793029196), (1022, 0.06942424422231816), (2562, 0.06942256060766933), (4205, 0.0694115251652265), (2203, 0.06936316127168014), (1242, 0.06933878845981807), (3270, 0.06928974359989232), (1165, 0.06909993917106058), (1268, 0.06895211211973706), (3195, 0.06893464044144838), (327, 0.06888460285495965), (4374, 0.06888358604168553), (2001, 0.06885046942716949), (2565, 0.06884431939050926), (2511, 0.06880544523419034), (2317, 0.06877161848531271), (806, 0.06876230241248053), (2439, 0.06859473406278743), (7, 0.06857855094020347), (913, 0.06854979457248406), (1131, 0.0685481641183438), (2351, 0.06854298918017254), (852, 0.06853010916535172), (4090, 0.0684109165274116), (724, 0.06813811240377632), (2527, 0.06808343017102403), (2403, 0.06801656513134412), (3010, 0.06799503788670816), (4344, 0.06798896434257605), (4312, 0.06792989092748486), (886, 0.06790437981653494), (1071, 0.06774332310918658), (4153, 0.06770966857535066), (2458, 0.06766975163555462), (3816, 0.06757395709630139), (2892, 0.06755828029202182), (1673, 0.06747827994562068), (1253, 0.06747785002501958), (1262, 0.06747069783406347), (787, 0.06745971085440516), (1984, 0.06729695224052575), (1336, 0.06725540622756965), (1118, 0.06722861059146186), (65, 0.06719016561055853), (4378, 0.067153998181487), (3670, 0.06701039251861782), (4015, 0.06697896847231166), (2191, 0.06690163651108316), (1357, 0.06679614472069671), (2844, 0.06677345640813656), (3205, 0.06665971294811672), (3487, 0.06662640128045647), (3066, 0.0665842460321104), (1991, 0.06656258283783648), (2369, 0.06650189201203191), (3648, 0.06641295595383377), (1009, 0.06638442413766765), (2912, 0.06631267454698073), (3866, 0.06619276749041135), (3908, 0.06617937750117116), (10, 0.066173583144374), (1743, 0.06608581899440827), (3281, 0.06606558320175951), (3520, 0.06598599219531634), (2075, 0.06597188802247439), (2816, 0.06595679415816956), (3972, 0.06593518306389856), (3082, 0.06592597466540809), (2100, 0.06591791420641287), (2530, 0.06566971358219217), (865, 0.06565401537918232), (2244, 0.0656190575649119), (719, 0.06561080499433625), (1127, 0.06550760572882117), (3823, 0.06537735480548777), (2107, 0.06535431493268425), (3746, 0.06529899092867826), (895, 0.06518765691452343), (97, 0.06502325720234092), (1047, 0.06496890962547253), (4634, 0.06494060199689851), (2808, 0.06491124170574059), (1915, 0.06490194297265181), (1027, 0.06488089172574181), (762, 0.06487050721182254), (1130, 0.06485333321061071), (1469, 0.06472081444297834), (1924, 0.06471735847178597), (4454, 0.06469915951706318), (3060, 0.06467575095834721), (653, 0.06465998119635674), (4007, 0.06453409194112185), (1787, 0.0645244261562645), (1295, 0.06443591789243656), (156, 0.06441050774473134), (4290, 0.06433672905908752), (2596, 0.06432772762625036), (240, 0.06430895608220197), (1381, 0.06426837522049735), (2385, 0.06424205013479248), (2571, 0.06418101209317753), (1184, 0.06412170007423569), (2232, 0.06409981588933839), (407, 0.06408876338850496), (3883, 0.064068545134256), (1458, 0.0639888422638849), (4180, 0.06378669479481408), (970, 0.06368098765046976), (148, 0.06364430537059815), (334, 0.06359510934719748), (1140, 0.063548645422338), (60, 0.06338272426131684), (1502, 0.06336418432468123), (309, 0.0633482781674853), (2531, 0.06330150572452609), (4155, 0.0632505306294618), (439, 0.0631320594018506), (3516, 0.06308680709482158), (3414, 0.06306962690431395), (3787, 0.06305280179190798), (3678, 0.06304617064225687), (2650, 0.062968023532395), (3688, 0.0629094432438514), (3149, 0.06285011735349487), (1716, 0.0628085439098886), (3605, 0.06278948739350654), (4169, 0.06277772859812811), (4022, 0.06266365774827676), (206, 0.06260070085848159), (969, 0.06254728013083646), (898, 0.06252120997754783), (803, 0.062454130901578184), (189, 0.062440610403011985), (822, 0.06241250189414335), (2882, 0.06239539564671175), (2785, 0.062363746834437225), (3469, 0.062331957541931986), (565, 0.06223978860987443), (3944, 0.06221024575344532), (260, 0.062173259373678735), (94, 0.062125539085317184), (3361, 0.06205071532133535), (12, 0.06201687972881793), (80, 0.061986580279233), (2528, 0.061946535236293426), (1865, 0.06191632823690196), (2713, 0.06173063996361069), (936, 0.06168558894517187), (3792, 0.06163336697561237), (689, 0.06161356461302872), (1296, 0.06152173603430892), (1155, 0.06146489894921003), (2813, 0.06141102357710386), (773, 0.061354744213113384), (3913, 0.061316368405028646), (1510, 0.06129742299425501), (1711, 0.06129312686854463), (3478, 0.061257917985980355), (1981, 0.06121531585484554), (2027, 0.061179079524753995), (4756, 0.06117170223512748), (1055, 0.06115317396127555), (152, 0.0611409605650037), (428, 0.061120233395954425), (731, 0.06108645141005625), (3228, 0.0610597967190234), (595, 0.061027671288292965), (3730, 0.06101608100223414), (983, 0.06092795909633507), (183, 0.06091229586133861), (484, 0.06089071668344964), (3056, 0.0608657775782768), (4647, 0.060862387501976145), (2750, 0.060854414776582044), (1191, 0.06084974614314538), (511, 0.06083699681677469), (4342, 0.060796357119471095), (338, 0.060749237141046145), (1581, 0.06072465717727056), (711, 0.0605732032618984), (56, 0.060543324060666544), (3786, 0.06053388621544269), (3220, 0.06051492980876458), (1431, 0.060462928614254875), (1776, 0.060424656144764236), (3935, 0.06038718048378786), (3747, 0.060293740464528005), (2430, 0.060150427261301466), (4281, 0.06001426599529104), (2906, 0.06001072888644437), (4590, 0.05998491087464557), (2131, 0.05989717070863946), (963, 0.05989293804219597), (4674, 0.05986544641251615), (4689, 0.059812892906893865), (2498, 0.05976774096078589), (2588, 0.059639208626357985), (745, 0.059564345496592376), (2271, 0.05949143534372817), (3728, 0.059490547905543575), (2817, 0.05944967184635784), (1261, 0.0594316648826721), (3831, 0.059410901908603125), (4576, 0.05937743505913455), (4695, 0.05936968467438575), (3079, 0.059269864303234394), (1026, 0.05923294652604087), (1595, 0.059175301035225975), (3701, 0.05917300378739594), (4187, 0.05914221814195649), (2231, 0.05913760754356259), (4314, 0.05906702978604231), (1154, 0.059061400030420125), (2616, 0.058889470632628525), (4299, 0.058882168994206695), (430, 0.058813303525968946), (2773, 0.0587521859488806), (22, 0.058747668808473735), (1317, 0.05872729981676321), (4535, 0.05870401662274883), (1069, 0.05868149672949453), (1982, 0.058623324136915414), (2814, 0.05860382345301056), (1029, 0.05849966523075625), (2800, 0.05849925826493537), (138, 0.05845423850665836), (4158, 0.058437922832585615), (1883, 0.058429413019804026), (420, 0.05840670152576686), (1918, 0.05838638288087053), (2540, 0.058381925055704866), (655, 0.058295130586316184), (3459, 0.058202201154768554), (681, 0.05815478474322994), (287, 0.05814524589316615), (669, 0.05807265645649152), (3053, 0.05800497962640549), (701, 0.05796361431975097), (1384, 0.0579274966864184), (310, 0.05792029045935688), (1524, 0.057850444239611123), (3486, 0.057836486039009496), (544, 0.0578072275630909), (2894, 0.05780520833957285), (3513, 0.05771704638096518), (4360, 0.05766730826434041), (1971, 0.05758835894278452), (4192, 0.05758298346230309), (3137, 0.05746858861688836), (2262, 0.05744358818331305), (1496, 0.05742109811426663), (1106, 0.05736857744286164), (1066, 0.057360782727461215), (3367, 0.057340333907304065), (2474, 0.05731757521408279), (3518, 0.057294584977903275), (747, 0.057268664776758724), (2682, 0.057211307940163526), (3001, 0.05720848553528852), (2845, 0.057203158654954143), (2514, 0.05719890741673131), (3094, 0.05719036332903246), (2584, 0.057189916966290735), (4494, 0.05709090578788603), (1249, 0.057080934326829535), (3234, 0.05698727257381782), (1472, 0.05688440946130846), (3247, 0.05687900580803315), (742, 0.056823338070278395), (3131, 0.05678894064375147), (3977, 0.05664609984170448), (4543, 0.05662223442410021), (4076, 0.05658872959999149), (259, 0.05642834689709801), (135, 0.05641573797133335), (2233, 0.0563699808241081), (394, 0.0563182662450607), (4264, 0.05625547571272339), (1674, 0.05625380401290468), (98, 0.05622455910793376), (381, 0.05618860351165651), (4224, 0.056155086377818735), (3412, 0.0560560003321416), (357, 0.056014017381866815), (997, 0.055944639798987644), (2899, 0.05593278769053066), (1178, 0.055921149803841316), (353, 0.05580000386332898), (2277, 0.055703577659372484), (729, 0.05562829565778648), (2150, 0.05560386398537285), (4568, 0.055580938086592896), (4071, 0.055567310183516294), (623, 0.05553879326091402), (1222, 0.05549519933562915), (2139, 0.055473615396781736), (575, 0.05545646471639816), (2877, 0.0554123609139376), (1449, 0.05541081467121978), (1411, 0.055384469847233275), (4203, 0.05535030688819803), (545, 0.05530227976600728), (4031, 0.055278931299726455), (2598, 0.05526497619466872), (1866, 0.055181407698760315), (1341, 0.055153666886967635), (4110, 0.055145658828578574), (1650, 0.05514038230638016), (1555, 0.05502390146695784), (2250, 0.054903729645256), (3450, 0.054744335742396066), (1828, 0.054725965716643454), (3656, 0.054658432506582005), (3326, 0.05461775242606757), (4446, 0.05459162738824552), (3692, 0.054572232665837606), (2697, 0.054486798958631996), (3626, 0.05448153920642915), (576, 0.05441165143797811), (448, 0.054376186962411865), (4732, 0.054359887459858335), (2082, 0.054359457444516104), (522, 0.05433395120018626), (2820, 0.05427929107839177), (726, 0.05427553184036004), (4558, 0.05425227811463749), (4708, 0.054222549336914824), (3320, 0.05421389869273007), (1390, 0.05421324408569622), (4334, 0.05420828433948365), (3096, 0.054162068071169966), (1115, 0.05414934114893988), (2311, 0.05412776185644659), (4117, 0.05408056263537071), (2152, 0.05405224205130199), (4267, 0.0540510300004384), (695, 0.053949845750531314), (2112, 0.05383567876295864), (3802, 0.05381163173565452), (3840, 0.05376656516990573), (4096, 0.05376282173354445), (2280, 0.05374915302579096), (3970, 0.05371276866555829), (172, 0.053657711062257835), (2237, 0.053619735827974344), (215, 0.05361094489831844), (1586, 0.05359341263890546), (2955, 0.05355916694001228), (2421, 0.05351968369913253), (1046, 0.053483479795804645), (2691, 0.05344099379471733), (4157, 0.05337658203383336), (5, 0.053140096750324634), (2326, 0.05307460969327278), (846, 0.05305779666429411), (4406, 0.052997339249306205), (2410, 0.052955756436189716), (881, 0.052917550323819305), (1858, 0.05291304958264049), (4728, 0.0528613168194178), (1054, 0.05283659493971832), (2680, 0.05283603323354181), (3240, 0.052781862662210396), (1838, 0.05276660407356029), (1451, 0.052751813709659534), (3870, 0.05270942892049851), (1056, 0.052706042621813706), (4171, 0.05259855499812184), (2058, 0.05256274292342502), (151, 0.05251424305514248), (921, 0.05243372260473801), (3525, 0.05243317863303268), (3121, 0.05234281705414372), (2703, 0.05231976800817153), (2145, 0.052171795540585174), (3584, 0.0521321548960411), (4340, 0.05212503250583038), (322, 0.052100902686036545), (1508, 0.05209797770069841), (3142, 0.052083773600392236), (3633, 0.05208028617586283), (410, 0.0520521143985129), (2330, 0.052034480850586304), (1764, 0.0520148523554201), (834, 0.05200186387496712), (3502, 0.051978666713963444), (3145, 0.05191420849684879), (700, 0.05188169356759467), (2948, 0.05180685189496073), (354, 0.0518016562084751), (4361, 0.051775532114335596), (3589, 0.051768331441072624), (4216, 0.05171703579217086), (2656, 0.051652219148072234), (1347, 0.05156894206011793), (90, 0.05153575384616989), (4399, 0.051487173638864264), (4401, 0.051446467611007934), (1725, 0.051443476730453096), (4468, 0.05141900051513705), (4166, 0.05135952339007224), (2878, 0.0513426827559133), (1870, 0.05132019836588694), (2174, 0.05126969908027911), (1503, 0.051222472860315116), (356, 0.051095689781804066), (2937, 0.05108337271633777), (3185, 0.051039535598285224), (263, 0.05097529037816695), (1769, 0.05092971208508186), (3420, 0.05083599330869973), (463, 0.05079875181948392), (4588, 0.05079463426905531), (880, 0.05078753598210811), (3189, 0.05071613863062025), (3298, 0.05066396625322062), (1371, 0.050663257936529794), (4587, 0.05064743941071358), (668, 0.05055420163246773), (824, 0.05054287574346342), (2981, 0.05050079352059811), (792, 0.05047602145464685), (1664, 0.05045898252069318), (942, 0.050450368231851006), (2512, 0.05033052644273106), (4274, 0.05026016824948309), (1622, 0.05022956793529372), (4701, 0.05022395574683279), (230, 0.05021982732673018), (732, 0.050190298233601396), (3868, 0.050175773590256184), (1788, 0.05016159097416782), (2418, 0.05012501004044377), (1794, 0.05011343213501012), (3394, 0.05009137873643263), (2838, 0.05002116875997015), (1895, 0.05001337230323183), (1624, 0.049848368506819764), (1367, 0.04983295177050796), (1777, 0.04982998073732886), (3196, 0.04981060686944962), (1578, 0.049804920950045496), (2749, 0.049794477973583), (1420, 0.049756543319540894), (1919, 0.04960866184940766), (1041, 0.04960584518477881), (1979, 0.04960337176285402), (2205, 0.04960190276629202), (835, 0.04957129852023235), (4043, 0.04951141115402851), (293, 0.04948451634308451), (1651, 0.04944127688179774), (3480, 0.04939045134085879), (1250, 0.049373975561645224), (1108, 0.049342500690129854), (554, 0.04931348523120812), (4109, 0.04923068730159193), (3449, 0.0492133006110731), (3368, 0.049182999551287986), (4319, 0.04918227812772104), (1998, 0.04912758079631466), (2798, 0.04911751808940655), (1756, 0.04910393648041333), (833, 0.049066762050271), (580, 0.04904001933755628), (2752, 0.049015468254254776), (2863, 0.04899076068711416), (220, 0.0489788533016509), (1630, 0.04891232167159158), (1284, 0.04884274186725565), (2443, 0.04882376270904485), (617, 0.04877431111794631), (3180, 0.04876025316018045), (1857, 0.04869410181711584), (4294, 0.04866379153809776), (500, 0.048609939071108346), (1139, 0.048504290264473), (929, 0.04847499962357918), (1270, 0.04844785877549533), (3366, 0.04841153545763454), (1304, 0.04838536418852271), (3681, 0.04837307833788453), (1077, 0.048310084413678886), (352, 0.04827185356033621), (3484, 0.04824035063925284), (2611, 0.04813517013915477), (2630, 0.048120107723823594), (1471, 0.04810299513900129), (3563, 0.048062574491938514), (597, 0.048028021655454486), (697, 0.047985641848582575), (1985, 0.04795698535787361), (4181, 0.04793044058358001), (1964, 0.0479161409908523), (3497, 0.047826551974063145), (1641, 0.047820428320687905), (3303, 0.047768847296871836), (810, 0.047743523340760374), (466, 0.04772384365010088), (622, 0.047710989934355616), (3458, 0.047613946769700835), (3172, 0.047607975203863145), (104, 0.04758657290667514), (4488, 0.0475620535228599), (1135, 0.047545858565198246), (3209, 0.04751732067197246), (155, 0.04743422778086491), (4186, 0.04743254197716014), (3853, 0.04736824460066825), (4551, 0.04728858522921213), (661, 0.04719911605657898), (2126, 0.047105311704621976), (1847, 0.04708933099875369), (2493, 0.04708296735134056), (4495, 0.04705496021670516), (2334, 0.04697940328791833), (3924, 0.046970947559227996), (2061, 0.04692314430282618), (2992, 0.04691319978560968), (4082, 0.04691303351885007), (2033, 0.04690708040872278), (1120, 0.04690291043268201), (4482, 0.04690125520538497), (150, 0.04687951028120407), (2982, 0.04687892688724684), (496, 0.0468761081527581), (3850, 0.04683820478990053), (3370, 0.046799973028015356), (2222, 0.04677993946986933), (923, 0.0467727961803269), (2043, 0.046720009613061095), (3709, 0.046677300654737644), (1280, 0.04666999443581132), (2854, 0.0466606968950199), (239, 0.046653134543030786), (3651, 0.046547264550166736), (2631, 0.046538631951148726), (39, 0.046517982300996935), (1329, 0.046451009007068424), (3000, 0.04638124214819833), (1859, 0.04637857187144103), (335, 0.046312593776412975), (1679, 0.046297840056691526), (4653, 0.046272329290651684), (2632, 0.04625404013829456), (2952, 0.04625020207565676), (2329, 0.04620778531744852), (477, 0.04614764854974047), (3364, 0.04612931399695194), (460, 0.04611248647722961), (566, 0.046064113742522686), (2666, 0.04605936623755558), (204, 0.04603332540466018), (3390, 0.04599294426852284), (3252, 0.045937164804004886), (2283, 0.04593514203517559), (984, 0.0459165449260166), (472, 0.045891936641932744), (1762, 0.04586795520510828), (2582, 0.04585070800730394), (14, 0.045840398458327124), (2022, 0.0458338103777067), (266, 0.045815043865807634), (1134, 0.04568659434692409), (4492, 0.04565349325301454), (4285, 0.04561904043715956), (2273, 0.045594976494130815), (273, 0.0455413513655838), (4658, 0.045538222622369354), (4412, 0.04553094187968454), (237, 0.045470239401432806), (2287, 0.04545179036960244), (613, 0.04541011267721402), (2921, 0.04521946316002799), (1059, 0.04521375582040725), (3780, 0.045174137563105995), (1119, 0.04511886744242151), (2411, 0.045047056331217035), (3118, 0.04504638795073379), (2404, 0.045038535534382036), (1361, 0.045024892258957734), (3580, 0.04498662689262976), (15, 0.04495181557039397), (1926, 0.044939537756549054), (348, 0.04492746933820891), (892, 0.044889655680073984), (3279, 0.044879164894066945), (117, 0.0448525472973373), (2422, 0.04485242634389551), (1633, 0.04484252437024093), (4624, 0.04483516423650069), (3641, 0.044824128910425656), (1903, 0.044798762277778265), (3091, 0.04477031735535337), (3876, 0.04474254236067751), (3998, 0.044713981808654046), (303, 0.04470614495284816), (4683, 0.044655985141401025), (912, 0.04464985667193248), (4108, 0.04464414584270028), (4271, 0.0445856736582875), (497, 0.04456673016974316), (2412, 0.04454732823449106), (2729, 0.04447740338331278), (3215, 0.04444257609627744), (3134, 0.04442621480550289), (3594, 0.04440068137630711), (640, 0.04437513197316907), (569, 0.04431924396216537), (4411, 0.044264132565850926), (696, 0.04418581398382261), (1157, 0.044135386915507585), (3432, 0.04409478109622493), (4646, 0.044063783328749294), (1933, 0.04404020008849365), (1588, 0.04403063528939861), (1494, 0.04401966894060297), (2637, 0.044002618638255074), (4329, 0.04399373928201496), (1237, 0.043983019890934914), (4490, 0.043924337234487736), (3921, 0.043924293202436585), (4585, 0.043913229697686705), (2549, 0.04390097912201041), (2194, 0.043863442753305094), (2739, 0.043851706240488945), (1034, 0.04382948369630632), (2720, 0.043805881344314186), (3352, 0.04379649500009797), (2975, 0.04379302272861283), (2180, 0.04378744618910961), (2471, 0.04375232933177263), (805, 0.043728481346906004), (4242, 0.04371861820389056), (3117, 0.043651930473469755), (1256, 0.043589151351961744), (1877, 0.043586176424074946), (2278, 0.043566496834623256), (4182, 0.04356307877881907), (3160, 0.04354388652350703), (812, 0.043538754343994464), (4348, 0.043487158202858076), (38, 0.043459128729465016), (242, 0.043441545575466284), (1158, 0.043425295735010985), (3940, 0.0433729933770195), (946, 0.04336400686032338), (3445, 0.04331268829257479), (2949, 0.04323671627287021), (4636, 0.043216749294545526), (3161, 0.043188427882228486), (408, 0.04318475098774533), (1233, 0.04316054047952912), (4037, 0.04315590355503709), (3743, 0.043136771717316), (3839, 0.04310872962942221), (514, 0.04310645063088334), (3819, 0.04309588323758089), (4472, 0.0430902556439612), (2221, 0.043085410241399086), (3405, 0.04307855550899518), (1215, 0.04301576331776703), (1817, 0.043004393993535485), (1928, 0.04299254379215542), (832, 0.04296140338201877), (1179, 0.04295462716461077), (1965, 0.04292537476773689), (1379, 0.04291369702050923), (2066, 0.042902845747052214), (3231, 0.042885145392044466), (53, 0.04287655679930251), (4403, 0.042873031260542205), (728, 0.04287226174846419), (2848, 0.04285806585146229), (3714, 0.042836100674094636), (813, 0.04281275429101176), (1793, 0.042810752247243934), (517, 0.042807735762430674), (4427, 0.04279789113387203), (3666, 0.04279200301608767), (2903, 0.04276863967122007), (4540, 0.042746130156403495), (4139, 0.04274031215512332), (1074, 0.04269628890058442), (3021, 0.04267662505244478), (510, 0.042673540913439834), (2079, 0.04266727561649592), (142, 0.042665573312945446), (389, 0.042646925421111946), (4032, 0.04262484651078301), (3534, 0.042618033460188914), (196, 0.04259955656928037), (3336, 0.04256294946372063), (2911, 0.04255221948436906), (2327, 0.04253019185276442), (3125, 0.04246096191040738), (662, 0.042440781278001063), (630, 0.04243851297176348), (1781, 0.042418404760295986), (3779, 0.04239833386353812), (4148, 0.042390446809665146), (1403, 0.0423569831912216), (1018, 0.04234958692686379), (3909, 0.04234402609782225), (993, 0.042300782559955466), (1378, 0.04225633111533662), (2013, 0.04223318896897044), (4119, 0.04217248980846486), (1632, 0.04217076243115946), (3135, 0.042133858401978266), (684, 0.042113473793421584), (1606, 0.04209261931870254), (704, 0.04202880879777638), (1970, 0.04199058597677638), (3063, 0.041973727348325184), (4089, 0.04195278640868153), (3045, 0.041936673112570315), (2510, 0.04187452719677305), (875, 0.04185772350585966), (3903, 0.0418415932993128), (284, 0.041827819533514235), (2935, 0.041818659721612084), (2978, 0.041792872738274915), (4441, 0.04178131449167492), (3363, 0.041779482107298614), (2847, 0.041763846328914424), (1657, 0.041695059793035186), (2553, 0.04165748776169319), (1878, 0.041655240672456066), (591, 0.04165199342197232), (2088, 0.041645635069617645), (1988, 0.04162659444101744), (492, 0.04161864680042825), (2824, 0.041586745844749806), (2026, 0.041565534085158305), (1613, 0.04154875393283107), (1927, 0.041514048613393764), (1224, 0.04149308556978358), (3599, 0.041459933888987666), (798, 0.04145717617748475), (4156, 0.04145165956042648), (2769, 0.04144310165536319), (3720, 0.041441878171004365), (1882, 0.04143737159084884), (1360, 0.04143227960965446), (1983, 0.0413982417657386), (2432, 0.04139343112664955), (3718, 0.04133506867798104), (1428, 0.04128927868096021), (3264, 0.04128583190691274), (4518, 0.04127165338048907), (4548, 0.04123028003904468), (945, 0.04120072832697251), (4405, 0.041170057259022674), (2724, 0.041166796179195726), (523, 0.0411306565231491), (2137, 0.041101381900585765), (2035, 0.04108965921096924), (1359, 0.04106281385272648), (2167, 0.041060005115755194), (2014, 0.0410290634556854), (4470, 0.040981145309419466), (4462, 0.040907024744844436), (1608, 0.04089279305984782), (2485, 0.04088198183431762), (3343, 0.04084482445923576), (2699, 0.04083734937737074), (1223, 0.04082746489402342), (1035, 0.04081565352427972), (1802, 0.0407895761029265), (91, 0.040785671930679945), (3307, 0.04078550446780253), (4677, 0.040784372451910904), (1554, 0.040779019685971814), (1031, 0.04072783447960696), (341, 0.04068266308467129), (2962, 0.04066166249127292), (465, 0.04064727199122026), (3724, 0.040616958035239195), (43, 0.0405962247040991), (3204, 0.04059036191326833), (28, 0.04055621474212349), (501, 0.040533692278554335), (3488, 0.04052122047039243), (962, 0.04051692178680268), (3237, 0.04050144514910088), (3504, 0.04047016351598232), (1707, 0.040402116734487084), (553, 0.04036027705823926), (3454, 0.04035238315800268), (289, 0.04032773524988006), (297, 0.04032772373258146), (274, 0.04031511129893718), (2494, 0.04029686137433892), (4380, 0.04027048856107686), (4516, 0.040262382936617255), (3344, 0.0402273878879723), (725, 0.04022695422657481), (3132, 0.04021169040800996), (1400, 0.04020117428723592), (3658, 0.04019237585750171), (1082, 0.04017261691439264), (3141, 0.04016547971453698), (2460, 0.04016271207369384), (36, 0.04014576221526925), (418, 0.040135194024574994), (2835, 0.04012191318344038), (2320, 0.04009484217710274), (2647, 0.040040123506878786), (228, 0.04003833759077382), (3424, 0.04002271015397232), (2822, 0.04000729237038349), (3960, 0.03989556531513856), (3611, 0.03989456998176036), (2051, 0.03989233539734754), (1101, 0.039834288973276184), (687, 0.03983392811047762), (46, 0.03981494086983898), (1535, 0.039739203723263325), (1969, 0.03973673885517698), (927, 0.039733057054648975), (3259, 0.03972857105623074), (4346, 0.03971929441730972), (859, 0.039688396827780054), (1840, 0.039630452563268914), (3071, 0.0396233799481381), (3650, 0.039618458736240356), (1923, 0.039597188489589194), (4725, 0.0395520753168275), (4409, 0.039547023433911685), (785, 0.03943968800798812), (1599, 0.039430267529667565), (1189, 0.03942239595217541), (2648, 0.03940402388364403), (2991, 0.0393858803527982), (122, 0.03936169088271764), (2579, 0.0393564830626707), (4214, 0.039347797716698885), (2245, 0.03928198556431353), (2618, 0.039237403678529376), (233, 0.03923120037669151), (1057, 0.03922991330483668), (524, 0.03919907752181412), (1443, 0.03914757369707007), (3391, 0.039139346167339675), (2760, 0.03913613681347214), (620, 0.03909397987305343), (2315, 0.03907495906748921), (956, 0.03903811922414954), (4629, 0.03902063688478487), (2756, 0.03900434690837815), (4531, 0.038999852536863985), (685, 0.03897806623455345), (2563, 0.038961908846965834), (1873, 0.03890674787950657), (2159, 0.03889822716997765), (3653, 0.038876111760548795), (145, 0.038833397598858475), (1459, 0.038798375602289006), (4309, 0.03879652499560047), (1210, 0.03878948484325813), (2096, 0.03878491934322451), (1768, 0.03873112870499373), (4679, 0.03873057284955344), (254, 0.038700097365973726), (1518, 0.03869209321781454), (3244, 0.03868725726788481), (166, 0.03868407305189229), (4678, 0.038681468982610656), (4669, 0.038517264619897046), (125, 0.03850811079298795), (2023, 0.038502307605280145), (1307, 0.03849843280050948), (628, 0.03845110744063052), (2862, 0.03844464180857335), (1967, 0.03844205052201003), (2445, 0.03843232105982602), (666, 0.038429841361046164), (2037, 0.038350942337209405), (1349, 0.03834273561611272), (4101, 0.03832241924669227), (982, 0.03826413804835162), (3674, 0.03826201682344039), (2281, 0.03824707434326727), (4283, 0.03812865361237328), (2727, 0.038095479516566916), (2595, 0.03808299640636088), (4372, 0.03807156048091044), (1559, 0.03806591014160772), (2371, 0.03803518879420993), (4480, 0.03799903067332042), (978, 0.037928082577269935), (202, 0.037922122914509165), (2300, 0.03791857682528094), (2476, 0.03791856568969052), (3982, 0.03791822329434244), (4282, 0.03789488227262811), (4054, 0.037868886634711454), (546, 0.03781228335157875), (1848, 0.037797219471325416), (1461, 0.03779449512470856), (2801, 0.03773011237924043), (3184, 0.037712255254842134), (2829, 0.03769626873529526), (2850, 0.03769581074724609), (2753, 0.037674328571678496), (4371, 0.03765195522881506), (3452, 0.03762683227194207), (4033, 0.0376139630630482), (3073, 0.0376092425891775), (2316, 0.03760866768798155), (2269, 0.03760420917911014), (2730, 0.03753963417723147), (4091, 0.03752475898032695), (57, 0.03751075976384897), (1675, 0.03750335079019798), (1199, 0.03746941229198118), (2236, 0.037433233568482195), (288, 0.03741250219088155), (558, 0.03738520794908463), (4289, 0.03737078397770062), (1528, 0.03736256133529678), (1818, 0.037351862829076675), (64, 0.037334845250994134), (706, 0.03729934680654255), (2782, 0.03729068855383817), (4471, 0.037233431051928584), (3994, 0.03722542995168834), (2840, 0.037219123157121135), (4055, 0.0372075948064377), (282, 0.03720086853981747), (1931, 0.037178285333189655), (799, 0.03717827023567759), (4575, 0.037150424590847414), (27, 0.03712628091191991), (2008, 0.03708852622619668), (4730, 0.03705071614754678), (3790, 0.03703378004655196), (3446, 0.037010864524595566), (4164, 0.036992924075986144), (4682, 0.03698782461252673), (3426, 0.036976434311990325), (3260, 0.03696038803843625), (3511, 0.03695967332478911), (606, 0.0369064547329819), (4074, 0.036883028810545844), (3623, 0.03686931119894159), (3506, 0.036863430613189745), (4143, 0.03684053073491144), (1150, 0.03683518594905873), (1113, 0.03679837001519831), (825, 0.03670600889097258), (549, 0.036653887155751436), (251, 0.03662364501224058), (3381, 0.03661736489637836), (659, 0.03657055996908749), (2544, 0.03651553420522484), (1426, 0.036444969495947305), (377, 0.036345828408289885), (2053, 0.03633180593866012), (2170, 0.03632766465171953), (3158, 0.03632085202245365), (3752, 0.036300910076564746), (853, 0.03629363611851558), (3812, 0.03628951927660832), (938, 0.036278571987350405), (2929, 0.036272780533584605), (1123, 0.03624554135895347), (1478, 0.036241625968663024), (775, 0.036237735223525996), (403, 0.03621723005037917), (3897, 0.03620881383382056), (2689, 0.03620225531097027), (2293, 0.036198119403399044), (1987, 0.03618150039233055), (1480, 0.0361798794839493), (2791, 0.036154179886193225), (2731, 0.03613954217073535), (1500, 0.036093076308455964), (2321, 0.03607376467031112), (3016, 0.03604519960750281), (3122, 0.03604420851548201), (4555, 0.03602402637580934), (3809, 0.03597418474522503), (128, 0.03595026996528461), (4663, 0.03592813063137332), (2160, 0.035869248230995), (1319, 0.03583913080094033), (1214, 0.03582958941862085), (4478, 0.035815492501970914), (1197, 0.03578914329670207), (995, 0.035785693873736875), (2521, 0.03576791909216743), (4199, 0.03576428640762484), (2104, 0.035718883891752956), (337, 0.035710854325233396), (2626, 0.03558160762050215), (195, 0.035557125044845914), (3265, 0.035542979563046986), (1038, 0.03547808183416033), (3335, 0.03547586740138794), (4515, 0.03547236432392528), (2355, 0.03546748581230867), (170, 0.03545165130614642), (2005, 0.03544271994862526), (368, 0.035426212104623156), (3526, 0.035420253533504614), (3327, 0.03535508254495317), (1669, 0.035353753836316684), (141, 0.035304587967342566), (4507, 0.035293671333241204), (1007, 0.035266865221631874), (3716, 0.03526686308854568), (1745, 0.03525783410480784), (538, 0.03524741824605094), (1569, 0.03523147579200997), (2015, 0.03520316550968186), (2419, 0.035194873651486484), (931, 0.0351666219933763), (2742, 0.03513869974047351), (225, 0.03513824662329571), (3233, 0.03513347060403256), (508, 0.03513085550130911), (1439, 0.03507552788010061), (479, 0.035070060803681094), (2560, 0.035066274158147226), (807, 0.03504490436017591), (4320, 0.03502235211535158), (311, 0.035015410252641155), (319, 0.035011290018783794), (52, 0.034994909699692975), (3772, 0.03496749359330671), (776, 0.034962258442072625), (339, 0.034955791320388126), (2140, 0.034946640037003616), (3105, 0.034911683346007596), (3179, 0.03491035957897262), (3253, 0.03487121534791685), (4252, 0.034822238942039), (203, 0.03477568661508506), (462, 0.03477545705764119), (1116, 0.03475743231753463), (1493, 0.03474398809023892), (405, 0.034734623754402796), (424, 0.03472158354999978), (2792, 0.034715160319126886), (425, 0.034691458714505005), (2654, 0.034657354500982264), (1028, 0.034653205012841054), (1245, 0.034618426873674266), (3173, 0.03457834054732051), (3403, 0.034538166346662305), (3313, 0.03453758653689959), (691, 0.03453498330365213), (3411, 0.034519882830522215), (4549, 0.03450643161276536), (491, 0.0345031571604675), (2246, 0.034494888137354955), (730, 0.03449373949898207), (416, 0.03446887128862702), (722, 0.03443457349834805), (3825, 0.03441650684019457), (1294, 0.034389807115827654), (1590, 0.034383089964461364), (1575, 0.03438199841173022), (1509, 0.034371985592981595), (1517, 0.034337880752356824), (2802, 0.034332845317005894), (2106, 0.034329913420504385), (4226, 0.03432802970455799), (4211, 0.03431769963950644), (2501, 0.034315562113471754), (3860, 0.03431431590099445), (3822, 0.0343057644892202), (3736, 0.0343054642955813), (347, 0.03426694428780599), (1244, 0.034254096289313106), (2534, 0.03424909852860484), (1709, 0.03424510674349063), (1279, 0.03424174660643724), (3632, 0.034241341696899415), (1695, 0.0342401242428973), (1346, 0.03422407412828585), (3646, 0.034222642157874045), (3983, 0.034174262745474), (3606, 0.03415637918854426), (1537, 0.03412916747499245), (959, 0.03410395851532199), (1841, 0.03408046292751781), (2216, 0.03407097302807371), (3531, 0.03405564085266504), (4183, 0.03405477377179154), (3778, 0.03403602557376129), (71, 0.03402114316814032), (2580, 0.03400468493690509), (3817, 0.033987527104555965), (935, 0.033977105594149334), (86, 0.03397552453901249), (2732, 0.03396730308684733), (2176, 0.03392037262184147), (89, 0.033910965098791844), (2766, 0.03390506066474075), (355, 0.03388992381436328), (1495, 0.03388487553158878), (1824, 0.03386981704630977), (614, 0.03386242983628603), (4375, 0.033859711837800906), (2017, 0.033826722428045235), (3360, 0.03377959420805445), (4676, 0.033760085411909314), (35, 0.03370679658055384), (769, 0.03370423118881881), (2117, 0.03367943897319199), (2427, 0.03367489773802695), (3638, 0.03360153381201683), (633, 0.033595410598775605), (4536, 0.033545299605266164), (3337, 0.03346066988387976), (2526, 0.03345274398337356), (193, 0.033431381660295925), (1853, 0.0334071299055208), (3098, 0.03338818737485745), (4213, 0.033387246873250044), (688, 0.033379705278979904), (3283, 0.03335241852415306), (3152, 0.03334408849356143), (1011, 0.03333095750026853), (1019, 0.03331854739606149), (3219, 0.033317478456464544), (3388, 0.033315001149951576), (1653, 0.03330330330489751), (1940, 0.033302190593943834), (4337, 0.03329588424757295), (952, 0.03325911759924685), (2599, 0.03325372381328979), (1102, 0.03324779665364409), (2793, 0.0332434880239818), (967, 0.03320530005480286), (130, 0.03316293190961563), (2645, 0.033161277900488006), (4292, 0.03315615707333609), (3954, 0.033137534640693016), (2276, 0.03304376581568347), (2129, 0.0330159063360434), (750, 0.033014456204272104), (4703, 0.03299401983486769), (2169, 0.032979085310952984), (2057, 0.03297098072898153), (214, 0.03293995842130211), (1952, 0.03292944529093715), (707, 0.032921465474755426), (2985, 0.0328776198450777), (291, 0.03284901898591817), (4302, 0.03283993651887755), (1990, 0.03283276318187489), (137, 0.032819740366842695), (459, 0.03281927840227084), (4023, 0.032809863225069784), (2263, 0.03279155956811189), (3288, 0.03277696910278572), (1829, 0.03273755794765101), (2725, 0.03267550179827993), (2712, 0.03264446500756196), (3750, 0.032643052148926745), (4499, 0.03260955627500138), (3129, 0.032599655908810615), (3900, 0.032591751972563934), (1124, 0.032552149633293954), (3854, 0.03254271102627973), (1904, 0.032537821198383984), (2161, 0.03252658187624725), (3427, 0.032522652030966645), (3963, 0.03252199626358452), (4077, 0.03251976756024989), (154, 0.03250403960539333), (1850, 0.03249234715345167), (4100, 0.03248972277627134), (2084, 0.03245813268468868), (3664, 0.03239604362378623), (3932, 0.03238445249374093), (2215, 0.03237288551611952), (2318, 0.032306315805177135), (1005, 0.032300525939666334), (1389, 0.03229075769408824), (4128, 0.032281952200155756), (1356, 0.032279148890377175), (2038, 0.032278105332007936), (2686, 0.032236990788320846), (3284, 0.032230159456206234), (4483, 0.032193820656249685), (2809, 0.03215972230307192), (4503, 0.032149505378021345), (4699, 0.03214886011313579), (1561, 0.03214203822052476), (1566, 0.03213704387038255), (3557, 0.032132460935364704), (1556, 0.032060951083109517), (1452, 0.03205765426547602), (1718, 0.03202533429919507), (1419, 0.032005449680393504), (3645, 0.03199842804506134), (2779, 0.03197937953771779), (2208, 0.03193661209081173), (298, 0.031916065016660826), (1823, 0.031910541197017216), (1, 0.03189927018107189), (4459, 0.031887305147844325), (717, 0.031861789060348165), (841, 0.0318421449146264), (850, 0.0318298657970498), (4045, 0.031827557992445334), (4191, 0.03180435888935783), (1809, 0.0318037315515726), (3685, 0.03178591536134093), (3408, 0.03177097078652087), (1373, 0.03174488663035647), (4127, 0.031737360006190644), (433, 0.031730423204759536), (3630, 0.03172172276599526), (1825, 0.03170612079856458), (4547, 0.031693655424569145), (4623, 0.03169208076639456), (965, 0.031680793958532426), (3191, 0.031674951155627996), (1000, 0.03165210535001002), (635, 0.03165156772782732), (4350, 0.031647534427572184), (4757, 0.031643357726594754), (2009, 0.031614895641924504), (1487, 0.03157792453729847), (1663, 0.03155916834826075), (509, 0.03155249861524882), (1277, 0.031550570303242105), (4564, 0.031550332107356485), (4497, 0.03154110000805346), (3386, 0.03151749946418663), (3695, 0.03150991470869064), (1997, 0.03149756563278505), (3835, 0.03149429195656414), (3959, 0.03149166396347891), (2837, 0.03147876856783952), (3723, 0.031471258841286445), (2184, 0.031468498844368024), (3813, 0.03145539256757707), (1003, 0.03144868023228335), (123, 0.031436200205102884), (2086, 0.031433517659232725), (226, 0.03139404196435124), (603, 0.0313912058728263), (4217, 0.031341374882630904), (2012, 0.03133298631350761), (1084, 0.0313187911394802), (1564, 0.03129149894774221), (3576, 0.031248613012455746), (2252, 0.03123604530520433), (4004, 0.031219274091284333), (468, 0.031205349228512785), (4339, 0.031196037902758475), (25, 0.031161451054991452), (1820, 0.031153217221437744), (4272, 0.0310859246064454), (600, 0.031055300057083138), (599, 0.031049414294657646), (314, 0.031048006324526), (648, 0.031035363099407614), (3068, 0.031031528479276108), (243, 0.031015459087619483), (4431, 0.031003960810362507), (2759, 0.03099316496526238), (4236, 0.030981220735902718), (1812, 0.0309692137998445), (944, 0.030939826899760305), (4534, 0.030935176183928097), (3919, 0.03085227283452907), (1574, 0.030832139855297397), (3639, 0.030813049895804478), (1212, 0.030809705406922377), (1271, 0.03080480003410023), (3011, 0.030782444160828145), (3637, 0.03077508917360374), (930, 0.030771241127993117), (2124, 0.030767862310812383), (1421, 0.03073111655526771), (3975, 0.030717919383889306), (4739, 0.030717204260954836), (4265, 0.030681376799532346), (129, 0.030676966473751198), (743, 0.030660838227075413), (1804, 0.030645840829065334), (1324, 0.030624748199948607), (658, 0.03059223118025132), (2520, 0.03057969043338374), (1374, 0.030575192111667475), (4438, 0.03056172578498766), (3024, 0.03053840277024388), (1173, 0.03050926889600404), (1836, 0.030503979640138575), (1783, 0.030485885968159925), (3665, 0.030480396608650023), (1343, 0.030440530888887866), (3773, 0.030420016269766932), (1672, 0.03040052568806497), (4447, 0.030392617627108404), (778, 0.0303729624870425), (349, 0.030350933141115692), (904, 0.030331987632964123), (1696, 0.03032770865851443), (2751, 0.030314541424271063), (702, 0.030313470285182904), (1862, 0.030278526775340372), (1729, 0.030246319200089796), (2259, 0.03022602968927772), (1886, 0.030225788330278978), (4241, 0.03021680405244538), (1048, 0.030214150970710146), (4398, 0.030212597335215117), (1849, 0.030187831669685694), (502, 0.03018675671577661), (2130, 0.030161205213802098), (216, 0.0301435525383507), (3418, 0.030137276545536072), (1401, 0.030108390388060728), (2673, 0.030074460027269892), (3392, 0.030026421932423976), (2249, 0.030024017693650346), (4599, 0.029991618100052853), (756, 0.02998874769950858), (2056, 0.029974474361463936), (2807, 0.02997369619384995), (3238, 0.029934744522268013), (1571, 0.029922851454145815), (2607, 0.029890850576242644), (3829, 0.029878160197889365), (3447, 0.029855257260549398), (3619, 0.029848634823717565), (804, 0.02981662218299526), (4639, 0.02981538605791418), (1978, 0.02980436320217924), (2698, 0.029767994898891016), (2229, 0.029720718847245357), (4382, 0.029712147882104044), (4149, 0.029706474681307223), (1908, 0.029670345601712958), (2357, 0.029663645796695587), (4013, 0.02966311431595131), (690, 0.0296591440742525), (4133, 0.02965425286426172), (2505, 0.02964446219875918), (3338, 0.029633009219115797), (3090, 0.029625072432880255), (268, 0.029618843742022047), (2961, 0.029604116922284172), (3342, 0.02960101845567754), (1864, 0.029592602220752245), (989, 0.02958175409597218), (1950, 0.029562855307562662), (264, 0.029554116813284414), (3643, 0.029537638784363822), (2452, 0.029536918445306672), (1267, 0.029535674038651698), (2503, 0.02951229218455823), (1368, 0.029478845888954847), (4402, 0.029476244272991815), (3147, 0.029436400745044024), (79, 0.029421468180195136), (223, 0.029421106691421648), (177, 0.029401693391494357), (4659, 0.029394966525570845), (234, 0.029392286764446607), (2968, 0.029387494450938613), (4528, 0.029360447200533116), (2353, 0.029356593119285988), (4453, 0.029353775234757212), (3144, 0.0293485279699024), (73, 0.029343448730662962), (1462, 0.02932167195277916), (471, 0.02932152271087435), (2290, 0.029297086009137156), (1724, 0.029282710714741516), (317, 0.029280733031435337), (4686, 0.029252690809071273), (316, 0.029250795197253605), (3915, 0.02924342592652526), (4188, 0.029195154335100407), (757, 0.029179267949412637), (444, 0.029132627067279936), (4038, 0.02912779889741281), (498, 0.029127691786758197), (81, 0.029112870329639884), (1275, 0.029110058096391375), (2000, 0.029109978075476647), (3423, 0.029106699452813044), (2409, 0.029099457206912684), (2337, 0.029086868957680694), (4261, 0.029075959978767493), (1441, 0.029023913954862934), (3734, 0.029018941496235212), (399, 0.02899689128962129), (897, 0.02895160411453209), (3305, 0.028950819716788777), (2402, 0.028945680063028455), (2297, 0.028935922678649414), (440, 0.028933623945513215), (3705, 0.028926749436460543), (642, 0.028907403643938075), (1404, 0.02888081970109125), (843, 0.02887463081727626), (3464, 0.02886937696972199), (457, 0.028817719650717975), (1369, 0.02880272002387687), (2496, 0.028772829297699858), (2525, 0.02877014196756637), (2217, 0.02876137457560378), (1986, 0.028754847359048794), (3942, 0.028747593889138296), (2354, 0.028738282533888396), (78, 0.028707079820492594), (4195, 0.028692213198560187), (2826, 0.028665312092524632), (1255, 0.02863032589919156), (451, 0.02861671806622175), (426, 0.02860268229114688), (279, 0.028602558237603503), (2781, 0.02859992628387048), (3673, 0.02859338676054472), (3628, 0.028591821504350575), (2127, 0.02856769467166846), (2552, 0.028565213463459416), (1402, 0.028563957077968837), (2675, 0.028555302646985525), (3399, 0.028544661360885203), (4120, 0.02854313168818032), (4185, 0.02852591839980242), (1436, 0.028515819055809414), (2376, 0.028512794823701573), (1645, 0.028511788703500046), (4589, 0.028504223068455372), (2953, 0.028497828778815595), (1778, 0.028458263526376305), (3225, 0.02845540329441751), (3345, 0.028431297508345478), (677, 0.028430570614703332), (2060, 0.02841813567748374), (412, 0.0284178468618732), (4546, 0.028404698865034706), (1265, 0.028398869746269442), (1185, 0.028393956347094698), (1088, 0.0283880635634649), (2789, 0.028387117568666513), (4165, 0.028373110798104523), (783, 0.028361595835828538), (2687, 0.02834234201895642), (916, 0.028335358274608535), (2006, 0.028320969755414458), (3476, 0.028313907693173105), (360, 0.028312085414557764), (427, 0.028308832080643546), (3916, 0.028297088870915872), (446, 0.028289008617824147), (236, 0.028250616710545), (1600, 0.028213232150906188), (11, 0.02820791301012785), (146, 0.028203165755054462), (187, 0.02816631858915282), (3957, 0.02814917499820289), (1114, 0.028141334551297744), (2539, 0.02812649212685086), (971, 0.028038163488300218), (2770, 0.02802773650308866), (171, 0.028015241761909025), (4388, 0.02801237284827418), (821, 0.027981665619953452), (1281, 0.027968891166023038), (1530, 0.027967989328804326), (3696, 0.02795810006628048), (258, 0.027957676155083558), (1042, 0.027928449533376608), (4097, 0.027919140649652785), (828, 0.027908396706467328), (1609, 0.027901407249442862), (957, 0.02789861148734233), (1293, 0.02787331054705161), (106, 0.02786065050133729), (2624, 0.027834592633179202), (908, 0.02782791977143339), (4269, 0.027826499490330746), (506, 0.027785521574860715), (3328, 0.027776232398003767), (3028, 0.027766142089706767), (1946, 0.02773239327863871), (4581, 0.027729347251019217), (3193, 0.02772424316689507), (1290, 0.027724038612460554), (1425, 0.027710813840180065), (1079, 0.027704212621836203), (4194, 0.027690262617313388), (3048, 0.027678841282583612), (3684, 0.027665280886887758), (3693, 0.027644475251846934), (3311, 0.027637833872980494), (1001, 0.027630507996955003), (3833, 0.027618723583484564), (2487, 0.027606291397601627), (131, 0.027597739724551283), (796, 0.027570527048740866), (1582, 0.027562468539825854), (392, 0.027556813767446897), (1816, 0.02754149924271781), (3698, 0.027515982184896023), (452, 0.02751291129701145), (2224, 0.027509630853932418), (932, 0.027503725805987953), (3355, 0.027498643474150854), (911, 0.027465456775500666), (1752, 0.027456388366468517), (4426, 0.027444388455685094), (3841, 0.02742367427570021), (3937, 0.0274052134107741), (3111, 0.02734560377380662), (3564, 0.02734549588148342), (3566, 0.027311524015330213), (3548, 0.027309064525027616), (1911, 0.02730133620211392), (3926, 0.027283582277426475), (2887, 0.027280449398522207), (1594, 0.027266234432290724), (548, 0.027265320078428457), (1539, 0.027243840441611617), (516, 0.02723643799700535), (1207, 0.02722126059489789), (2636, 0.0271722066152926), (1392, 0.027164747896622543), (2192, 0.027113331920445103), (4328, 0.02708293681083606), (4487, 0.027067158836595998), (988, 0.0270618599960787), (4475, 0.027045565737994347), (105, 0.02701551673348406), (3477, 0.02701090334622675), (1109, 0.02700395438939705), (101, 0.027002028884149515), (205, 0.02699597444646465), (894, 0.026983923475189166), (2400, 0.02698220710124765), (1442, 0.026973479311908948), (1104, 0.02695242407404925), (3014, 0.02691712629962916), (855, 0.026909004843339863), (1646, 0.026905998650924287), (2448, 0.02689094219213025), (2951, 0.02682929985521154), (3123, 0.0268038448434004), (3894, 0.026795735565741795), (111, 0.026780524563930746), (3242, 0.0267665751240901), (4621, 0.026758368340764907), (540, 0.02675664102531368), (3744, 0.026743660283811775), (3677, 0.026731901434519558), (213, 0.02672071619119517), (1916, 0.02671275589662284), (3711, 0.026710765724139465), (542, 0.02670183508343983), (4389, 0.026701590380962762), (562, 0.02669758842550072), (4379, 0.02669736460848553), (13, 0.02669221449974593), (2275, 0.026679515574090512), (4218, 0.02664492436372655), (1992, 0.026619728341667096), (4061, 0.026600697577497383), (2322, 0.026534322517135243), (438, 0.026492175724808654), (4747, 0.026486583805762364), (1149, 0.02646672717950251), (3332, 0.026442418673863162), (3206, 0.026440083156240496), (2942, 0.026438284388613065), (4332, 0.026420696611542765), (2554, 0.02637654656813286), (3232, 0.02634529035554757), (1382, 0.026315052030377636), (3980, 0.026286810732850403), (434, 0.02628382196853813), (3393, 0.0262773279409723), (1463, 0.02626349576249859), (4118, 0.02626175930212712), (1597, 0.026239830635725832), (153, 0.026224832694102244), (2, 0.026215998779043636), (864, 0.026213750122413865), (1557, 0.026197159285043674), (450, 0.026183035105095745), (1468, 0.02616040551785446), (486, 0.02615897528073114), (987, 0.02613755472224752), (3246, 0.026113831290005288), (1200, 0.026095283797881647), (3810, 0.02609298493284775), (285, 0.026090584102574088), (2608, 0.02606710466980277), (4207, 0.026064013199630354), (3912, 0.026046366333649783), (2143, 0.02604381095373634), (854, 0.025996404953554132), (1297, 0.025963934261016466), (2397, 0.025928720581832536), (2219, 0.025912087621917376), (4745, 0.02590724834948169), (2706, 0.025896800380485537), (1132, 0.025893226537611516), (3938, 0.025871961727046533), (3668, 0.025860787789084738), (560, 0.025845218006446617), (4533, 0.025820056429683325), (1061, 0.02579633045886862), (3115, 0.025774465724255236), (340, 0.025681356380676708), (1977, 0.02564909158883144), (1097, 0.02562542842033423), (4366, 0.025619995364527304), (3691, 0.025618877599410422), (3465, 0.025598949729525707), (3933, 0.025590867594017068), (3858, 0.025586903191177363), (4255, 0.025574755531773637), (1689, 0.025550529631314246), (4124, 0.025501457596908805), (4059, 0.025473762289161858), (1565, 0.025439090554046247), (1759, 0.025438841735933273), (1706, 0.025429279885262585), (1315, 0.025415838252859535), (1194, 0.02540326208496135), (2480, 0.025386780099142362), (294, 0.025381664801584783), (1168, 0.025372893912479582), (1617, 0.025326375008646478), (618, 0.02532606162808112), (379, 0.025301035924810266), (3712, 0.025288917092065866), (1887, 0.025285924323640487), (1203, 0.025278814606616285), (4025, 0.025264941547222922), (2828, 0.025256943781236045), (665, 0.025256016913832648), (709, 0.025227131965164136), (2573, 0.025220276492200502), (1614, 0.025211341389947354), (2265, 0.025208546950194387), (9, 0.02520784249904931), (2777, 0.02520483096839242), (3321, 0.02520376848761796), (70, 0.025172124147454022), (1551, 0.02516744263732626), (737, 0.025166682738741293), (604, 0.025159490387883617), (2617, 0.025121609249569927), (121, 0.02511816237564598), (3334, 0.025105698943316088), (4174, 0.0250720397574472), (537, 0.025013618020639408), (3276, 0.024992797713236772), (1308, 0.02499145391076071), (643, 0.024969195303313575), (1254, 0.02495905630276864), (3221, 0.024956155215857048), (4600, 0.024928267491156304), (1714, 0.024904724554818215), (1867, 0.024887090042684815), (1276, 0.024873205669255435), (2998, 0.024855717906350685), (768, 0.024843712250104347), (1688, 0.024833057522167912), (1534, 0.024827342898937454), (4392, 0.02481581716163157), (4176, 0.024781626527242306), (3051, 0.024730096543708894), (2461, 0.02471911018425842), (1105, 0.024714638114086095), (49, 0.024711580581064638), (583, 0.02469438266145467), (1008, 0.024685064827720392), (1589, 0.024684753041775382), (3603, 0.02465872255495794), (3782, 0.02465183920293846), (2352, 0.024638029563014197), (3385, 0.024628848371817662), (4449, 0.02460393416188003), (1522, 0.02459193665957918), (3439, 0.02455184468388981), (1976, 0.024548107336214358), (182, 0.02454723072619449), (443, 0.024514154283160554), (2492, 0.02450545741360694), (949, 0.024491894110464353), (3243, 0.024488471974917478), (4012, 0.024483922162063514), (1869, 0.02447783246905072), (1805, 0.024442448958397762), (2149, 0.024429674120127406), (577, 0.024396490735288906), (4001, 0.024394036382206722), (749, 0.0243676790388925), (3797, 0.024317190106286593), (2434, 0.02423593462068265), (2094, 0.024231730789154513), (2965, 0.024217939928588263), (2500, 0.024188861172459945), (4377, 0.024185478555026785), (2940, 0.024164074433476672), (3114, 0.024155567794310148), (69, 0.02412837557219489), (4046, 0.02409030757753384), (454, 0.024076739943124155), (3528, 0.024069874537645516), (1914, 0.024065930194943214), (578, 0.024061608492297992), (939, 0.024046774281918606), (2188, 0.02404360545642381), (2348, 0.024019177212321375), (973, 0.023992971375987077), (4092, 0.02398485930582723), (3300, 0.023958411439548157), (2227, 0.02393781592621591), (417, 0.02393447417296606), (4313, 0.023926680317372214), (3139, 0.023925674901954026), (1186, 0.023918210352988564), (119, 0.023892539177358348), (275, 0.023855170041097766), (533, 0.023838343562531505), (1430, 0.023810299802693582), (1482, 0.023809879458987257), (2102, 0.023807776980754317), (2763, 0.023783151248751536), (2120, 0.023756633349176236), (3317, 0.023745063476096787), (4473, 0.02372409728788886), (2846, 0.023721447543188223), (4356, 0.023710134341234618), (3297, 0.02370917633013099), (710, 0.023684468737699707), (4353, 0.02365581454227428), (4569, 0.02365552329424278), (2640, 0.02365473313774804), (1891, 0.023648839183764286), (2235, 0.0236487684755038), (1634, 0.023644011934287307), (2436, 0.023615717915358325), (301, 0.023602925749916827), (4465, 0.023598547668747583), (3890, 0.023560579122817078), (2842, 0.02355117135096637), (2913, 0.02354835694652389), (4591, 0.023463936733159253), (770, 0.02341338112181289), (1975, 0.02340730523538965), (1791, 0.023394254125405925), (3997, 0.023394198628467935), (1683, 0.02338485109859207), (1568, 0.023367775943213084), (1033, 0.023343013857476492), (2367, 0.02331139199997658), (4448, 0.02330225041259764), (4175, 0.023269548969299437), (4606, 0.02326471262090032), (638, 0.023225653415895976), (1700, 0.023209214184287317), (1002, 0.023203470135032277), (2484, 0.02318072210542366), (1755, 0.02317402149298228), (221, 0.023154488902471827), (1876, 0.023146608050282735), (4021, 0.0231402376023512), (2933, 0.02313296444536588), (3855, 0.023113320628035353), (1220, 0.02311188385868458), (3267, 0.023081733379980315), (735, 0.02307548907133621), (556, 0.02306028946608387), (2413, 0.023050318521158103), (313, 0.023030689115805913), (2468, 0.02301890962331099), (2323, 0.02300686383558475), (1826, 0.02300255764305101), (1312, 0.022987614361977375), (1897, 0.0229798732411791), (3315, 0.022942291826791965), (953, 0.022941818362532278), (4210, 0.02293116018166838), (2830, 0.022890603046824436), (3895, 0.02288824932347695), (1083, 0.022863851292697013), (58, 0.0228402450120938), (753, 0.022837569299888363), (2715, 0.02282356572171748), (4122, 0.022822398444416983), (2535, 0.022821722376951764), (3985, 0.02280524073029465), (4115, 0.02280164506709559), (1938, 0.022786509156711987), (4251, 0.022783754422382396), (1511, 0.022769946041053347), (1704, 0.022745030735681952), (1746, 0.022728368535854342), (372, 0.022690807213609755), (2071, 0.022655821023397065), (161, 0.02265088025308945), (364, 0.022617369725455774), (1937, 0.022606075855465084), (95, 0.022604580643454907), (4602, 0.022591427016422756), (568, 0.02258672282561773), (1907, 0.022571091122481388), (3167, 0.022567713808993004), (902, 0.02254180299087799), (3939, 0.02250741016675884), (1993, 0.02250103303262683), (4140, 0.022497805479844812), (926, 0.02248527592451434), (68, 0.022477722651540945), (1177, 0.022477678386520927), (2359, 0.022471767490248554), (3433, 0.022467891488680395), (2113, 0.02246627440992849), (1432, 0.022433746771468362), (4247, 0.022407741311662045), (2459, 0.022400064413032543), (3302, 0.022390176434789882), (4147, 0.022375876795220007), (2523, 0.022340911981624096), (1353, 0.022330295006190527), (3801, 0.022318309116918136), (4297, 0.022316464060454032), (3852, 0.022311893034113017), (299, 0.02230939306989386), (2091, 0.02228064424422315), (2301, 0.022276846329484477), (520, 0.02227583488158427), (3556, 0.022273480725146684), (2195, 0.02225415985691851), (748, 0.02225075629492402), (1899, 0.022239479810526944), (2502, 0.022233517900877964), (4373, 0.02221741710757006), (87, 0.02221689318662516), (934, 0.022194853937610778), (2286, 0.022155936282965808), (3190, 0.022120056001022386), (4727, 0.0221198925284374), (3150, 0.022107139958979116), (3607, 0.02208039855973524), (3575, 0.022079426039423942), (4383, 0.02205153783333299), (4444, 0.02202584707653476), (2338, 0.022002537376264092), (4277, 0.02199781334472293), (3547, 0.02198462557257779), (3846, 0.02194256298820018), (2653, 0.021923191420573536), (3027, 0.021914322799996784), (2285, 0.02191338081112596), (3539, 0.021912487570310633), (2368, 0.021902506094018292), (4486, 0.02190103014664125), (699, 0.021900329303790666), (3979, 0.021861285562557266), (3397, 0.021855381930833213), (1492, 0.021807636703774544), (608, 0.02177527360616081), (594, 0.02176716336700326), (4642, 0.021718464607438367), (375, 0.021717224154505332), (2350, 0.021715016394836757), (24, 0.021689456963515267), (4451, 0.021681830796764136), (262, 0.021631218884885763), (2378, 0.02162646866795284), (1636, 0.021605030478567593), (3365, 0.021546165840266272), (4354, 0.02154012719465139), (190, 0.021529086993172956), (896, 0.021522015464512698), (2865, 0.021515710209059166), (3275, 0.021509952723162057), (703, 0.02149356118439506), (1553, 0.021493004555916656), (3713, 0.0214834096388649), (4419, 0.0214658878540853), (4596, 0.021464069459763837), (3256, 0.021421574046724585), (4095, 0.021410403159990193), (532, 0.021370775249222363), (3642, 0.021363668750057067), (30, 0.021357216372058677), (1136, 0.021349938891369692), (4325, 0.021346628568183982), (4008, 0.021345392853924387), (388, 0.021342158906477414), (2983, 0.021327702781031344), (3551, 0.021325632954446068), (3914, 0.02131732752052775), (3754, 0.02131153022569687), (2132, 0.021298946028714752), (4628, 0.02122905919677661), (2695, 0.02122051965607231), (3495, 0.02121805851847109), (862, 0.021215875650052642), (4440, 0.021173533127533152), (198, 0.021167444814380234), (4626, 0.021125496511273573), (4563, 0.021114327498592517), (1465, 0.02111359301423163), (3512, 0.021108485607022887), (979, 0.021099806338924575), (3774, 0.021096299719896863), (4755, 0.021096272052572054), (1230, 0.021092197961337697), (3211, 0.021085327545632), (4146, 0.02108305116466102), (4093, 0.02106278378746622), (4733, 0.02105039774180833), (4670, 0.021049709115039086), (93, 0.021047220264602054), (1507, 0.02104397386067205), (2927, 0.02100923749539548), (876, 0.021006003527968976), (874, 0.021001470421372872), (2615, 0.02100104781606675), (346, 0.020995626230042214), (4006, 0.020956704567327906), (2871, 0.02095483488244887), (4612, 0.02093225284976141), (751, 0.020920736550945142), (3140, 0.020836377177942116), (3667, 0.020825960702170316), (2576, 0.020819884643826368), (409, 0.020814104145466077), (1871, 0.0208102152769008), (4501, 0.020803064645428762), (1377, 0.020785684904021672), (1225, 0.02078353577851392), (1691, 0.020779435686788757), (1239, 0.02077857158694877), (2128, 0.020777873343423296), (3409, 0.020777064915012), (1092, 0.020763198519854763), (4609, 0.02073230057941204), (1512, 0.020724880487746542), (3168, 0.020722956253834045), (1902, 0.02070790253854939), (1052, 0.020656884577595104), (1642, 0.02065098584145061), (1963, 0.0206270000925802), (845, 0.020625232670638937), (1395, 0.020612091306427896), (4395, 0.02055569855421993), (3356, 0.020545145205658685), (4673, 0.020527742162252952), (3100, 0.020526790017797558), (2852, 0.02052172180709396), (3127, 0.02046691646356598), (3849, 0.020462439456696548), (1957, 0.020459344261699926), (447, 0.020457048723864616), (1433, 0.020444035521463903), (188, 0.020433444588073633), (2019, 0.020426635273102282), (1719, 0.020403380265578516), (637, 0.020401355717059994), (3448, 0.020397357087758795), (888, 0.020396629550642316), (2642, 0.020357344134890744), (4044, 0.02030929199077984), (3222, 0.020304748391730854), (3413, 0.02029761146235573), (374, 0.020292640521625084), (362, 0.020289321004238865), (1580, 0.020277865221136077), (1051, 0.020248550620712485), (4238, 0.020230820814275866), (809, 0.020225780434837377), (1435, 0.020141721080600805), (2226, 0.020134132922809148), (1305, 0.02013294450352556), (3753, 0.020131518832714076), (968, 0.02013063665213139), (441, 0.02012449318569751), (3183, 0.020123227879943122), (4684, 0.020104711814877586), (397, 0.020092059790858423), (2415, 0.020090230244442363), (1014, 0.020086007619985656), (4276, 0.020081211419479418), (4524, 0.02006508625029173), (2681, 0.02005710553577628), (2665, 0.020052750138892243), (1241, 0.020020085855645877), (885, 0.020013712060412407), (2509, 0.020012762263669635), (1218, 0.020004058791287922), (4598, 0.020001200206795522), (2454, 0.01999253565821648), (3286, 0.01999115111242187), (1202, 0.019989910252464688), (512, 0.019984765165960712), (453, 0.01998038246212379), (1563, 0.019964886586717332), (2507, 0.019962465842961626), (3532, 0.01996097977141224), (1464, 0.01994860731961776), (947, 0.01992948276678986), (1274, 0.0199139760629254), (641, 0.01989513092802068), (4541, 0.019888587394225464), (1749, 0.019878504254439534), (1973, 0.019876813194944387), (629, 0.019873260788565265), (1835, 0.019861112645334238), (4154, 0.019856699893887008), (4714, 0.019848556740856612), (3407, 0.019836254194462413), (518, 0.01981109159742376), (3069, 0.01979754871964183), (3875, 0.019794264802798972), (2776, 0.01979200797614942), (3910, 0.019791953053536662), (4570, 0.01979157935443733), (3803, 0.019780140304319665), (1394, 0.019768833174464408), (315, 0.019761694854051888), (3943, 0.0197526578501368), (961, 0.019750626161812133), (4310, 0.019721061654336024), (3384, 0.019712598988183054), (4407, 0.019703172515172368), (3175, 0.01969177873777653), (2309, 0.019669412303423395), (4005, 0.01966469791380373), (1409, 0.019659689032633217), (789, 0.019653156625017428), (1659, 0.01961599365289016), (3807, 0.019597804525656765), (1453, 0.01959446404345219), (1800, 0.019554491861571873), (3312, 0.01952949360851722), (3280, 0.019522504758502004), (4078, 0.019512834012627128), (4752, 0.019512059915222774), (1792, 0.0194568436033649), (4694, 0.019453484184846454), (2958, 0.019435985172110842), (4420, 0.01937722437070736), (1656, 0.019374441620954728), (2497, 0.01936644983523759), (2479, 0.019359714206852938), (4365, 0.01935549725607131), (3882, 0.019340594815780494), (4410, 0.019339141787946577), (178, 0.019331462078211036), (1782, 0.019325258921932327), (2722, 0.019324670862465414), (3080, 0.019324344058555494), (1393, 0.019295597878175252), (143, 0.019277397491262855), (1521, 0.01927096871547042), (231, 0.019270159409333226), (663, 0.01926870627305404), (323, 0.019264711135666038), (1855, 0.01925938067604587), (2843, 0.019252107959862493), (411, 0.019246823654895426), (2101, 0.019243593261675244), (3200, 0.019209091557308565), (2486, 0.019197516617468033), (3473, 0.019193826111048168), (1846, 0.019191903025169696), (3661, 0.019176668868050754), (2601, 0.01916489964063003), (3162, 0.019162350977714942), (686, 0.019160995220377355), (3224, 0.01913229300205571), (4121, 0.019124069956728412), (321, 0.01912203941496963), (2638, 0.019104493011729222), (3229, 0.019085422110663695), (1949, 0.01907928509652982), (3453, 0.019069068385183272), (3013, 0.01906333049487405), (159, 0.019059909482578144), (4079, 0.0190499781127942), (552, 0.019006946994466783), (3869, 0.019004950963766573), (1091, 0.018980102340675334), (1352, 0.018953503230132653), (3235, 0.018917370934006812), (977, 0.018910871623078064), (625, 0.01891058817695827), (186, 0.018906077961232767), (2234, 0.018873943915755587), (3737, 0.01886971913095166), (449, 0.01886825281759231), (1334, 0.01886455206066233), (4087, 0.01884656361899289), (2860, 0.018809926863197997), (3889, 0.018802224361344426), (1686, 0.018787293636232192), (1080, 0.01878107376229715), (4493, 0.018775749908528233), (3113, 0.01874317566101687), (3371, 0.018719842757819394), (1418, 0.018719272071499673), (2155, 0.018697825028885125), (281, 0.01869067647779609), (827, 0.01868988805835707), (3192, 0.018668757335870416), (2870, 0.018661060802325047), (2451, 0.018620186571848656), (4652, 0.01861431765037099), (2857, 0.018593932824721934), (587, 0.018585115157565706), (3059, 0.018573057354944796), (515, 0.01856024773092095), (872, 0.0185602304349134), (2122, 0.018551627858979913), (3834, 0.01854992697674363), (2851, 0.01853299729475021), (48, 0.018526873093676), (3872, 0.018524476210436337), (3436, 0.01852182389459181), (1601, 0.018518114553296466), (413, 0.018512868204087277), (2969, 0.018506142101334735), (371, 0.018502317090450728), (82, 0.01848038522242861), (494, 0.01846094346436582), (1681, 0.018460009223330697), (4134, 0.01843110907899787), (4397, 0.01842624499532158), (2488, 0.01840899945857723), (4622, 0.01840288915509861), (2389, 0.01836691505504938), (4736, 0.018365388914244853), (1133, 0.01833707059275409), (675, 0.018336633076636355), (3331, 0.018317978210254115), (4268, 0.01830236936463384), (4748, 0.01829955059590994), (2343, 0.018298474292916093), (4712, 0.018262651526170612), (4688, 0.018246773319561014), (1252, 0.018233507782820742), (2093, 0.018220638596093085), (1089, 0.01820280329228477), (3993, 0.018202426927868453), (1648, 0.018186564705882306), (2360, 0.018177230110454523), (1647, 0.01817183670931808), (1770, 0.018170830570936436), (4434, 0.018132947294341402), (4436, 0.018131153384478495), (1549, 0.01812698471068977), (1217, 0.018112017419215646), (2605, 0.018097938843219502), (2090, 0.018094083770636787), (1100, 0.018072454337723833), (4250, 0.01806743404053792), (2774, 0.01806541323863897), (3856, 0.018055208552643646), (2604, 0.01801800774401397), (3064, 0.018015531368947537), (3798, 0.017983165342578152), (3400, 0.017971363780688098), (2663, 0.017965718817500614), (3438, 0.017950322333121438), (4743, 0.01793040582537604), (3362, 0.017902051882083644), (1164, 0.017868244398468503), (3555, 0.017836602570438613), (404, 0.01783357090723098), (1687, 0.017827687155962592), (572, 0.01777302419300128), (765, 0.017770418649653185), (1429, 0.01776129007197771), (3318, 0.017755945985269125), (3542, 0.017738313264354617), (1380, 0.01773294733655781), (3974, 0.0177321483951086), (4168, 0.017731169403145758), (654, 0.01772176246557662), (1739, 0.01771423251761486), (2708, 0.017671573272862832), (396, 0.017659275301172287), (271, 0.017637760215860648), (3377, 0.017633366228489822), (391, 0.01763025462628146), (3503, 0.017621337826507287), (1475, 0.017616808718452174), (3675, 0.017611583995602916), (877, 0.017573309250409147), (4567, 0.0175632463073378), (4554, 0.017562174869219682), (2039, 0.017548814306572437), (201, 0.01754291603544145), (4014, 0.017541545614007864), (4041, 0.017535403499733867), (3099, 0.01752364306113432), (4391, 0.017520711243789264), (2794, 0.017495013189429726), (4266, 0.017494209000067887), (4537, 0.017482426472623023), (2517, 0.01746918402442553), (336, 0.017465685715963956), (3507, 0.01743050147431474), (373, 0.017415888581918067), (1081, 0.01741516798556137), (378, 0.017411227140017187), (2884, 0.017388804351451875), (1505, 0.017387160495707193), (698, 0.017386550316108536), (1151, 0.017384095403873527), (3657, 0.01737623047937991), (871, 0.017363315943842026), (679, 0.017360097477477535), (4364, 0.01735344213118024), (3128, 0.017352473072036283), (173, 0.01735213331731163), (2804, 0.01734227892387758), (2255, 0.017327405500779193), (4635, 0.017319562064210585), (1269, 0.017309018007691305), (2187, 0.017287997678511875), (4376, 0.01723887772734422), (2784, 0.01718617458471489), (674, 0.01718574535658253), (1266, 0.01715428114620065), (3888, 0.01715404318871708), (3517, 0.017142793842119926), (860, 0.01711806449323232), (2788, 0.017118034907133782), (2210, 0.017095614745929015), (2201, 0.01709474921932348), (2456, 0.017088277327366546), (2045, 0.017088050213683224), (919, 0.017087260479665682), (1358, 0.017086581618978504), (4751, 0.017084679724912247), (4068, 0.01708213180771036), (1813, 0.017072412075659293), (2818, 0.017051524982088388), (914, 0.01704415588232311), (83, 0.017038864414486328), (1045, 0.016977135846859864), (3558, 0.01696550458736335), (2399, 0.016963024714405573), (4333, 0.016949955277396424), (760, 0.016948766795823342), (3597, 0.01694452303288566), (567, 0.01690633082267674), (2347, 0.01689302309416195), (3625, 0.016876670509254857), (2202, 0.016868873016962962), (2387, 0.016862161727919364), (1309, 0.016861232947099538), (3538, 0.016847946359687154), (2398, 0.016846258473126215), (2957, 0.01684090876847638), (4675, 0.01683537457559546), (3844, 0.016829829669713504), (3329, 0.016799988066400387), (305, 0.016798011767922567), (402, 0.016781206684446215), (1529, 0.016777898109133074), (2377, 0.01677296411276199), (4385, 0.01673194599375192), (19, 0.016727146245784964), (2690, 0.016698699477177247), (3588, 0.016698213949768816), (3374, 0.01668689914432563), (1538, 0.01668024625107869), (385, 0.016675162937937128), (621, 0.016668845140681492), (1300, 0.016658732119927577), (3541, 0.016654489936270847), (2815, 0.01665426493256049), (1567, 0.016646433496631374), (3110, 0.016620204187884242), (1285, 0.016598229773976066), (3595, 0.016587450966968304), (1810, 0.016575075538026056), (3965, 0.016557549997033308), (4512, 0.016554280093634445), (1454, 0.016551379763783104), (2375, 0.016548496222535902), (1314, 0.01654054808408751), (1153, 0.016523620088261005), (4284, 0.016497987640002817), (3250, 0.016492535598685562), (458, 0.016485231495709112), (3475, 0.016477122883332848), (2950, 0.01647540583934544), (2910, 0.01645144395788604), (870, 0.016441363110750687), (2995, 0.01643112730390521), (4387, 0.016395219936938703), (72, 0.016307054194571905), (4086, 0.016300145592736126), (1652, 0.016300093106282543), (3269, 0.016294116691543074), (132, 0.016292140674623812), (4018, 0.01627915820801871), (705, 0.016268804705868962), (4343, 0.016254393603117742), (903, 0.016251127392780704), (1747, 0.016235720551636464), (2578, 0.016205224051841334), (4698, 0.016203712813514445), (3901, 0.016197004223531625), (3524, 0.016196092119793046), (915, 0.01617968176854486), (92, 0.016172111672641112), (2661, 0.016170480692905404), (1616, 0.01614917329416707), (1213, 0.016142700758072448), (485, 0.016142587397974518), (4574, 0.016128588798793354), (647, 0.016123636679521897), (673, 0.016122610055985188), (2450, 0.01611670229190941), (4173, 0.01611655710870196), (4116, 0.016107326221228985), (4571, 0.01610708842549482), (227, 0.016098361158975238), (2391, 0.016088403111025846), (607, 0.01607586773284629), (2393, 0.01607519573266857), (1737, 0.016068087486029916), (4481, 0.016065190656621764), (2242, 0.016062363474551724), (4075, 0.016062318541221792), (3540, 0.016055503298624506), (3109, 0.016042709051544594), (2547, 0.016034569480107355), (493, 0.015999420798855444), (384, 0.015984615853661944), (644, 0.015972894058661063), (456, 0.015959349741727503), (3509, 0.015943536828184505), (3923, 0.015929949136623114), (4286, 0.015925982253907907), (3535, 0.015903301875416456), (470, 0.015893080527718255), (4414, 0.015891975565158676), (3112, 0.015886948165155984), (878, 0.015881351435611125), (2125, 0.015856170072391873), (3208, 0.01583466905431777), (2054, 0.015816899881485963), (4638, 0.01581481630961316), (270, 0.015753775344124924), (2522, 0.01574602628827329), (660, 0.015740821620603414), (974, 0.015740355647616097), (1763, 0.01573671489776409), (3514, 0.015731571318274486), (2590, 0.015731217879500492), (797, 0.015720688977905503), (2441, 0.01569683962494681), (2044, 0.015693324817625694), (2405, 0.01566675899158637), (1932, 0.015641409945684106), (3867, 0.015637887775677126), (866, 0.015631316260766484), (136, 0.015605412231565306), (3440, 0.01560440848172754), (1201, 0.015590003688971852), (2936, 0.015582869246568098), (4287, 0.015562258605005388), (1068, 0.015549886136139841), (235, 0.015537419834453538), (1208, 0.015523965107163092), (590, 0.015497156457171172), (1750, 0.015493913463481482), (814, 0.01547363168310795), (4331, 0.015470321019009112), (4527, 0.015442550353127825), (3289, 0.015437265020465683), (1434, 0.01542866402363822), (1548, 0.015413129281099593), (42, 0.0154077074730932), (3505, 0.015383841089300914), (2304, 0.015380567064649277), (2272, 0.015378555736775778), (3578, 0.015369074858132017), (3593, 0.015366650586643833), (4051, 0.015357670200084078), (252, 0.015356813092981472), (4197, 0.015356195780930736), (528, 0.015337789346769728), (1122, 0.01533578665107537), (948, 0.015331723709209362), (54, 0.015297472369166515), (4706, 0.015293537150792777), (4113, 0.015289673094473663), (2735, 0.015286663794540094), (1784, 0.01526820125394354), (1476, 0.015261140122328204), (4746, 0.015232929375514778), (2581, 0.015216026548253632), (857, 0.015201195272952139), (2396, 0.015200196962289048), (1016, 0.015179304268093483), (2449, 0.015160845991035657), (2064, 0.015149366193396463), (3616, 0.015141991446156293), (113, 0.015111595180819577), (2834, 0.015106564682212826), (3699, 0.015090386936708174), (3470, 0.015074869909622235), (4630, 0.01506119653206021), (253, 0.01505032589226402), (2363, 0.015047666220295958), (3188, 0.015046123411005438), (2683, 0.01504346358288709), (66, 0.015033909173878738), (1803, 0.015033404267350985), (241, 0.015032025368804049), (1391, 0.014983459461395345), (1962, 0.014961679283533733), (1811, 0.014947863036297714), (4593, 0.014934124535091877), (1498, 0.014931188953315543), (2733, 0.014918874146767673), (3596, 0.014907652289294382), (4450, 0.014905133695789165), (2568, 0.014892291142600466), (464, 0.014889326699594965), (1913, 0.014865109685844742), (535, 0.01486302198599831), (4227, 0.014826054140637132), (764, 0.014793601916257674), (3163, 0.014792670314071037), (1330, 0.014786895899705828), (2314, 0.014774297790082706), (1637, 0.014765922722087255), (2646, 0.014765629773164026), (2213, 0.014764501731253488), (3416, 0.014760457872707147), (4062, 0.01474828094112726), (194, 0.014743981516185757), (244, 0.014741569497087955), (3771, 0.014720503610539656), (1167, 0.014713756513884152), (4073, 0.014681806730785544), (2684, 0.014679300196508548), (2279, 0.014676865107573106), (536, 0.014649851227907804), (2401, 0.014639507202809142), (3624, 0.014637379246537775), (676, 0.014609086997137737), (3348, 0.014577644836237212), (4595, 0.014532437341061435), (3559, 0.014531537628494283), (1076, 0.014520137573940245), (1661, 0.014462635346979752), (1603, 0.01444603434302198), (2146, 0.014441710371743313), (3768, 0.014431621603027309), (991, 0.014416491242426034), (1736, 0.014410740451592387), (752, 0.0144052167766113), (3776, 0.014400458357881913), (2380, 0.014398781047424843), (1416, 0.014394680177731104), (1654, 0.0143784493287655), (779, 0.01437303259200575), (1744, 0.014370081894293283), (2738, 0.014369576124796559), (3845, 0.014358284563898658), (4594, 0.014342325273149744), (713, 0.014341084723798692), (4321, 0.014340914721392012), (386, 0.014333952988731049), (1602, 0.014282369164053038), (1407, 0.014272483450896913), (2032, 0.01426886308793916), (325, 0.01423431104451984), (255, 0.014231792277000232), (3287, 0.014230781465200907), (4477, 0.014225657179846652), (3951, 0.014207896832749768), (2519, 0.014199244912816288), (639, 0.014198323525483388), (1531, 0.014190429236667036), (3040, 0.014155772900403037), (602, 0.014155050932245316), (4011, 0.014146714134575057), (4002, 0.014141055435160593), (2018, 0.014141048867569356), (2989, 0.014124295420230784), (3169, 0.014112039784654896), (3683, 0.014090811206331724), (1758, 0.014080389934307809), (1078, 0.014073121710045884), (1086, 0.014069287713337469), (3230, 0.014057650900711153), (3769, 0.014042461083354838), (3732, 0.014033881636266121), (1180, 0.014030746601045523), (1457, 0.014028074633763762), (351, 0.014020201985599558), (1321, 0.0140138943539465), (847, 0.013963211161546663), (2041, 0.013960597034241944), (442, 0.013941987813848984), (3995, 0.013924146084222003), (4552, 0.013920948964770918), (909, 0.013913069596194276), (2144, 0.013885319732836323), (1741, 0.01387706611418547), (2274, 0.013860043112543253), (3398, 0.013851308801821414), (2873, 0.013829819224068693), (2339, 0.013829774088338562), (920, 0.013828347288841898), (3039, 0.0137788664363642), (863, 0.013774359815473043), (2470, 0.01375243943904492), (2532, 0.013746502550327154), (683, 0.01374639632406785), (2135, 0.013736531796480532), (3587, 0.013716485914936268), (2728, 0.013711012969998417), (2740, 0.013709975504302195), (4368, 0.013704058627609844), (3815, 0.013692635136455591), (2672, 0.013647936868199638), (2295, 0.013643875696151511), (1827, 0.013621460613716876), (811, 0.013616036019888672), (3005, 0.013574312921608891), (1550, 0.013573883476308031), (2457, 0.013550055155903558), (4437, 0.013549634773815775), (800, 0.013544549580558365), (2218, 0.013537001295866562), (4517, 0.013511584942983252), (4064, 0.013507885249696577), (2284, 0.01350281011047473), (3379, 0.01349599615913972), (1286, 0.013495188438130358), (1483, 0.013485356616012257), (2163, 0.013440749836457334), (3706, 0.013434337669470654), (1318, 0.01343405821386743), (3444, 0.013422162187234325), (4327, 0.013415463716795995), (127, 0.013403537594717576), (2264, 0.013382386367784915), (1733, 0.013351058871583141), (3375, 0.013344774221788168), (1954, 0.013343469641852549), (1583, 0.013340216471623862), (4654, 0.013333826894135271), (4665, 0.013320348522718538), (488, 0.013314882405192748), (712, 0.013308318949731087), (1043, 0.013306420742270656), (4696, 0.013279613171125183), (3830, 0.013270945895059207), (3301, 0.013233259604191241), (1272, 0.013232901026078336), (3292, 0.013232337096704122), (1573, 0.013230991623665245), (2240, 0.013218790526333516), (3793, 0.013203210651231466), (634, 0.01319345780009391), (192, 0.013169750565169277), (1773, 0.013158525550134761), (3271, 0.013156718595026025), (1246, 0.013154315612700838), (1640, 0.013151439021395855), (4423, 0.01314421792922014), (2621, 0.013110298533039431), (232, 0.013110157369610327), (4035, 0.013106745780947525), (3586, 0.01310433367609258), (164, 0.013098606930807359), (1798, 0.0130719333209521), (1520, 0.013071261345823244), (4351, 0.01305806149045394), (1953, 0.01304939931917675), (3583, 0.013040726680168657), (1282, 0.013017664498738358), (2964, 0.0130117936277374), (2609, 0.012987740264695688), (3457, 0.012981372141409982), (3461, 0.012979375833585646), (1619, 0.012976350265006657), (861, 0.01297633371240494), (2972, 0.01297551047728658), (2166, 0.01296428736249725), (680, 0.012949520425101132), (361, 0.012925576126690515), (2719, 0.012922076981222493), (1951, 0.012918999668762069), (1896, 0.012917522269030871), (445, 0.012895226150621308), (734, 0.012891970113713408), (4613, 0.012890200269379672), (2755, 0.012875605632187079), (1523, 0.012868974212590135), (2610, 0.01286838157494146), (2099, 0.012866497666961673), (3103, 0.012865136181420449), (3126, 0.012861807061027113), (3004, 0.01284808137954324), (1893, 0.012842910887235654), (3740, 0.012828387149123942), (4614, 0.012828368794126755), (3277, 0.012821230178850984), (3824, 0.01281845837567596), (3881, 0.012807671686189986), (344, 0.012806599024170515), (3654, 0.012806025391448888), (3969, 0.012791860106305305), (2736, 0.012788132457116476), (2771, 0.012786526875871788), (2633, 0.012783356817754273), (1639, 0.012752042037074784), (1631, 0.012742103426631329), (211, 0.012727507888908978), (1211, 0.012725983733168385), (1660, 0.012722411858468912), (1006, 0.012721354275870934), (3378, 0.012706133202536328), (890, 0.012699312622875478), (4136, 0.01268469195832466), (1851, 0.012676787548684468), (2546, 0.012675951956257626), (2157, 0.012666149697674597), (2241, 0.012662040429898947), (1702, 0.01265579119427618), (588, 0.012652947415365106), (551, 0.012645843463673066), (1364, 0.012643578613209978), (2016, 0.01264075589511244), (2072, 0.012617427257291085), (786, 0.012616319148267706), (615, 0.012613455297003815), (3920, 0.012612479658242325), (3930, 0.012606093621903064), (3689, 0.012594743260815812), (3549, 0.012592934071121959), (4562, 0.012592447188238943), (3788, 0.012554168953636802), (1961, 0.012544047187455441), (2431, 0.012532097394016648), (631, 0.012519761746609074), (3722, 0.012519474196270832), (1819, 0.012512242574155407), (1726, 0.012495116280839916), (3025, 0.01248549183100784), (1525, 0.012484596281304354), (2977, 0.012467611626813277), (110, 0.012444687607841497), (1562, 0.012439908982716262), (1623, 0.012436524355304984), (2025, 0.012425923494336246), (1310, 0.012424232784148101), (4209, 0.012421041321017115), (2444, 0.012420505377231474), (3166, 0.012418817493901278), (2034, 0.01241024089087614), (1322, 0.012395346828245746), (3874, 0.012395255381820647), (1667, 0.012377507371768872), (2331, 0.012359222908992551), (3308, 0.012349374095895666), (4135, 0.01234923107928415), (158, 0.01234789406377241), (2984, 0.012330306843949137), (2110, 0.012322516429921684), (1751, 0.012319625062024053), (3254, 0.012316420649462607), (645, 0.012302818963653829), (856, 0.01228746777653225), (209, 0.012286823060026365), (366, 0.012284204319152576), (4618, 0.01228302636939016), (1577, 0.012282816431964137), (2109, 0.012274270028170674), (2414, 0.012274105839029305), (343, 0.012268859863584556), (529, 0.012251779190308464), (504, 0.012250107153768189), (4604, 0.012242291132224265), (2993, 0.012226192876092995), (3491, 0.012224323282751458), (4193, 0.012213777778687585), (3474, 0.012203717303949068), (2198, 0.012199718941671989), (1170, 0.012190200570082216), (4330, 0.012183310158390488), (777, 0.012182909080783195), (3612, 0.012181175465130093), (4099, 0.012173303572640095), (272, 0.012172879682985813), (531, 0.012170259978993842), (3033, 0.012169619042451946), (3492, 0.012161536647188166), (2046, 0.012161340490420506), (1501, 0.01216110550351702), (4239, 0.012147407241152324), (3174, 0.012144011603852927), (4592, 0.01213881362776127), (2900, 0.012137798406048656), (1934, 0.012135199840067038), (525, 0.012111328255833408), (4511, 0.012110902259534012), (893, 0.012110486634410797), (610, 0.012106553521992212), (3299, 0.012099571633704485), (1238, 0.012093513876034828), (4394, 0.012082916832742874), (3818, 0.012075408468210355), (4204, 0.012064626102902902), (1692, 0.01204775812556116), (4280, 0.012013098558278744), (1447, 0.012010216647068877), (4582, 0.011979710585502321), (1338, 0.011976164941976663), (2463, 0.01196900226358512), (559, 0.011965147878195415), (3644, 0.011963416460953785), (169, 0.011963361658873269), (1888, 0.011961374097291632), (4215, 0.011957759743509884), (4685, 0.01195462109067414), (431, 0.011954192697347132), (955, 0.01195164287194081), (1807, 0.01194367666969464), (3046, 0.011942693686631816), (2613, 0.011941613810889349), (1053, 0.011922463806156998), (4584, 0.011916900372384551), (2504, 0.011888593305227423), (2029, 0.011887869648944152), (4741, 0.01188666973491773), (4112, 0.011885423853559443), (2925, 0.01186221475940356), (1422, 0.011855718437336661), (1437, 0.01182000429455643), (292, 0.011813847504493616), (4442, 0.011810724000893596), (4550, 0.011804401737479759), (3569, 0.0118023446559144), (3884, 0.011793604250260024), (4476, 0.011779324561081921), (2003, 0.01176368594085355), (2268, 0.011759831343930376), (1398, 0.011734154952893473), (3562, 0.011728625607312335), (585, 0.011713671328802177), (3917, 0.01171320037353845), (3826, 0.011706199277464335), (782, 0.011684365993838887), (3568, 0.01167771474785092), (1143, 0.011677367494045337), (1446, 0.011668744402309075), (3567, 0.011666220604781471), (4279, 0.011644157074801311), (1526, 0.011635970604269536), (883, 0.011631629704190325), (2897, 0.011630633199797884), (1699, 0.011619847662919664), (99, 0.011615202918842679), (3151, 0.011598998490558475), (29, 0.011595539880010691), (3784, 0.01159001915077324), (1273, 0.011588614254126366), (4259, 0.011586694662202246), (4463, 0.011578591015248418), (4428, 0.011562234921542583), (3702, 0.011550189366066712), (1753, 0.011544301174963785), (2859, 0.011544210553279357), (3735, 0.01154292759902297), (1710, 0.011534316823790643), (3891, 0.011531069525818727), (3293, 0.011525019217543066), (1742, 0.011513270420384955), (966, 0.011496787402511218), (2303, 0.01148409355301204), (1627, 0.011480366510905747), (2812, 0.011475408970071379), (4257, 0.011470630131822267), (1999, 0.011450165652696078), (507, 0.011433411291525523), (3057, 0.011422824112108536), (419, 0.011416337623273128), (2938, 0.011399106222148476), (1620, 0.011385741696250697), (1206, 0.011382782204863853), (4040, 0.011345805812302219), (2956, 0.011345596920719132), (887, 0.0113422303171884), (3083, 0.011319298333539242), (2258, 0.01131125848684363), (2446, 0.01130949748038689), (2874, 0.011301164858290934), (1427, 0.011284269326356802), (1959, 0.011283666133353113), (2372, 0.011271422254870806), (4009, 0.01125091721571981), (2190, 0.011243900193146167), (2491, 0.011226561048745795), (899, 0.011224497132592264), (2482, 0.011223733734234055), (149, 0.011223071885422297), (3572, 0.011222480551067683), (3026, 0.011199145460048705), (3226, 0.011199125617206613), (907, 0.011197663357055802), (4003, 0.011197194138159935), (4649, 0.011182433535366078), (1875, 0.011181683076870851), (788, 0.01118003881333862), (858, 0.011178953838580441), (2662, 0.011171931338494524), (3306, 0.011163208093797254), (2920, 0.01114105836439829), (2954, 0.011118196181852195), (4513, 0.01110976671061883), (2811, 0.011100379355579046), (1572, 0.011099296402882403), (1339, 0.011087553277794602), (3295, 0.01108107888543668), (2575, 0.011079005485819362), (1288, 0.011078957428861592), (2821, 0.011073879352424239), (1806, 0.011066305140497326), (3314, 0.011063103224085647), (1935, 0.011052659875623117), (3044, 0.011049212829844746), (1234, 0.011045969482307754), (2055, 0.011035896560756656), (1626, 0.011033182660362644), (2538, 0.010995275593889572), (3984, 0.010970248754432999), (4545, 0.010969248428646262), (3986, 0.010955922854272312), (794, 0.010954470386874846), (1821, 0.01094619613107121), (2564, 0.010923266565135236), (1103, 0.010922867672596894), (4161, 0.010904841576870787), (3351, 0.01088689126977896), (586, 0.010865941544254791), (3865, 0.010859142823715421), (2786, 0.010855030588306695), (1025, 0.010850881922549672), (2156, 0.010842569401942576), (1994, 0.010834168343211645), (4057, 0.010823136457021916), (3989, 0.010819544420083411), (2587, 0.010805781272631687), (882, 0.010793691740668241), (2619, 0.010781598456104432), (3598, 0.010778949931958307), (495, 0.010769670743892654), (33, 0.010760937882012279), (3084, 0.010750849210980294), (184, 0.0107224432032319), (2856, 0.010714202835502352), (3422, 0.01069168773663448), (2966, 0.010688652112897963), (4028, 0.010686755870169215), (3471, 0.010678518602778663), (4720, 0.010671882736338765), (830, 0.010655398077308214), (2805, 0.010647820140718859), (1301, 0.010638006112190056), (2754, 0.01062707561873726), (924, 0.010606318569130324), (1204, 0.010583517837415768), (4556, 0.010572753636533264), (2345, 0.010567090505095777), (4539, 0.010546221975333963), (2904, 0.010543038523519782), (3748, 0.010535384103564553), (2319, 0.010530212425332352), (3758, 0.010516003360686761), (758, 0.010512150433330494), (2761, 0.01047839395144788), (4456, 0.010438978941815745), (2291, 0.010432058924905098), (3421, 0.010421293863440796), (4645, 0.010417399753591454), (176, 0.01041564681345931), (2230, 0.010410009936659269), (3376, 0.010397870851524037), (2020, 0.010386493158802508), (1298, 0.01037344384924439), (3570, 0.01036597112612535), (2855, 0.010325959908161523), (3164, 0.010311570866742507), (2589, 0.010311351804365626), (1010, 0.010298785172345726), (2313, 0.010291268572286323), (175, 0.010281906462976942), (950, 0.010272706314264211), (2076, 0.010269666236974465), (547, 0.010266137704380592), (4485, 0.010260521689290172), (3481, 0.010247937423816342), (2627, 0.010247209970826046), (3821, 0.01021177711480263), (2211, 0.01020288239808015), (3494, 0.010201534631972056), (4081, 0.010192577325404892), (2153, 0.010191877985862952), (4435, 0.010184831834047533), (4316, 0.010172362939343076), (3928, 0.010171206896763936), (1408, 0.010159285746144308), (4750, 0.010150405872753721), (2831, 0.010148119771045147), (2481, 0.010140190189937021), (3430, 0.010135346730200199), (3927, 0.010135111111727163), (925, 0.010109943412562574), (4538, 0.010109485225224065), (4060, 0.010070763919544564), (1196, 0.010070308069110906), (2710, 0.01006647037464415), (423, 0.010060688331723371), (3441, 0.01005321889900169), (2408, 0.01003735128133201), (1117, 0.010020815564216141), (133, 0.010003688325619445), (4150, 0.009980790315046107), (1854, 0.009959391901315605), (1929, 0.009944330220747042), (1560, 0.00990811680608182), (4641, 0.009902116561801476), (1541, 0.009890804553486161), (2133, 0.009866433609047856), (503, 0.009860411846500486), (3811, 0.009833659500747048), (2115, 0.00982397694473734), (817, 0.009809241971161316), (3941, 0.00977514916251071), (2465, 0.009769357195191961), (3679, 0.009746961529830594), (1144, 0.009707935403361238), (1912, 0.00970476405491296), (487, 0.009703427633797015), (2183, 0.009673057963735628), (3177, 0.009628928307548433), (100, 0.009616343170756728), (4345, 0.009614895786791632), (2979, 0.009552562813642536), (624, 0.009541176556661958), (1974, 0.009532880927205374), (3092, 0.009498766513823097), (229, 0.009450167000582528), (3304, 0.009445348279181719), (4288, 0.009436973874850726), (4167, 0.009431994935546488), (1558, 0.009422651644263919), (3187, 0.009421461761717216), (421, 0.009417174697673879), (3627, 0.009378818562106612), (3316, 0.009366549965004389), (960, 0.009331515565705394), (3843, 0.009323856925582102), (382, 0.009323189890744082), (3401, 0.009319633083481662), (1331, 0.00929087301109967), (415, 0.009286963838758254), (3380, 0.009259778386699816), (3742, 0.009258880957666003), (480, 0.009153386021833177), (1797, 0.009145014126908534), (1684, 0.009137298446293778), (4716, 0.009112725918975897), (219, 0.009109236944698678), (3546, 0.009084617224005316), (579, 0.009075617916643563), (4672, 0.009036948008167036), (3530, 0.009013520100884949), (2994, 0.00901100440532309), (3522, 0.008998791327472326), (2366, 0.008989361689165969), (4404, 0.008983008657342988), (2073, 0.008961058572542535), (1900, 0.008930244359072656), (4016, 0.008928311746692608), (2685, 0.008923234395699855), (3002, 0.008885528378851815), (4583, 0.008883635086576797), (1340, 0.008858656229466312), (1943, 0.008822841671056934), (265, 0.008813230030212834), (1163, 0.008777039773578688), (4610, 0.008754595022484001), (3929, 0.008749142113668297), (331, 0.008732692657124268), (217, 0.008726319256145258), (2839, 0.008722734753812184), (4278, 0.00871756559026742), (2382, 0.00868313296888646), (4668, 0.008663600930685317), (4029, 0.008616623293613328), (4352, 0.008591457737096297), (626, 0.008590202712705936), (746, 0.008586152702252808), (557, 0.008568107467940822), (4615, 0.00856502260933406), (4664, 0.008561177746407677), (4144, 0.008522925176747843), (1287, 0.008471226474992424), (2004, 0.00841463266704856), (1532, 0.008346107659737284), (3023, 0.008318788977059274), (3859, 0.008316500750097313), (573, 0.008301708734871984), (3325, 0.008286160060342244), (3609, 0.008267536556863611), (2827, 0.008179130567855448), (3550, 0.008167344591968571), (248, 0.008134076438212633), (359, 0.00806896135427895), (4525, 0.008051600498693657), (3738, 0.008042261211536488), (3130, 0.008021270148784287), (3278, 0.007994912874682564), (2453, 0.007967100835567235), (1795, 0.007950278574760876), (837, 0.0077919738740107256), (4532, 0.007696612772531011), (2688, 0.007681020554806204), (2059, 0.007668287309634019), (2168, 0.0076613037408047036), (1863, 0.007593610892837159), (4565, 0.00741869668916085), (1342, 0.00734221366138589), (2373, 0.0073326626882908846), (964, 0.007329861820463627), (163, 0.007136923922966529), (3971, 0.007090677472722242), (414, 0.006602735096226217), (2768, 0.006592610147940004), (996, 0.0065443882165781096), (4709, 0.006303954633045945), (4691, 0.006281964674691306), (4666, 0.006278811083993126), (3635, 0.0062703575589815), (1939, 0.006154905110828819), (3721, 0.006152446497801083), (2655, 0.006146136287315048), (2932, 0.006131931865752758), (3715, 0.005984565025313885), (4219, 0.005962149245744166), (2154, 0.005940551138004352), (4464, 0.005896967553929411), (3828, 0.005865430668226111), (4710, 0.005862300603204183), (4047, 0.005861918834131534), (2795, 0.005856950965805592), (4208, 0.005803187651781335), (2939, 0.005776271719801556), (4721, 0.005772190637906246), (3049, 0.005758464832499343), (4724, 0.005717057437776213), (670, 0.005715575024902011), (3521, 0.005713562914543244), (2328, 0.005692296528539842), (1058, 0.005684530727301485), (4443, 0.005681420197716478), (842, 0.00567088259152727), (2879, 0.005648132790592691), (1064, 0.005618865156864889), (4514, 0.005609757201873214), (2778, 0.005607922050598985), (1941, 0.0055508980191222735), (3766, 0.00553073532749531), (2567, 0.005503544985467787), (4637, 0.005503227502961944), (4735, 0.005488068343446812), (2089, 0.005449632661077786), (937, 0.005418472989760708), (3019, 0.005398992288964993), (4163, 0.005376999049600474), (1591, 0.005371272899264557), (1815, 0.005368675128035892), (905, 0.005364949073438551), (3947, 0.005359478232342723), (3708, 0.005354834662536821), (4162, 0.005338067575724941), (4244, 0.005313167152115794), (2555, 0.005273947405240993), (1713, 0.005266363489142967), (2181, 0.00526425703187734), (107, 0.005260037132402242), (2881, 0.00525262045405073), (4731, 0.0052509787913629456), (3043, 0.005250190807328009), (3680, 0.005244457731347745), (1148, 0.005236394839341496), (1383, 0.005235292653986942), (682, 0.005216014359988199), (2700, 0.0052101045706597435), (4307, 0.005206982980269994), (3012, 0.0051996858836476905), (3032, 0.0051912197416161465), (436, 0.005188913945561147), (3640, 0.005172232941039546), (1332, 0.005167310680956077), (2383, 0.005156752166728591), (1960, 0.00513494412487801), (3652, 0.005124521111257487), (2040, 0.0051236872258070025), (4050, 0.005123204960256476), (550, 0.0051226866962841705), (3387, 0.005121462850948999), (3961, 0.005119004934029749), (2428, 0.005118220909848285), (4601, 0.005076289985272752), (1162, 0.0050597929602004274), (678, 0.005055990836714806), (4522, 0.005054169373292907), (3263, 0.005052491824467166), (350, 0.005049000628064666), (2214, 0.005042586381498853), (513, 0.005041574418380851), (1325, 0.005026836385604857), (3694, 0.005019177158920341), (1015, 0.0050133439503884875), (3704, 0.005011864635913633), (2477, 0.005010799076130769), (4579, 0.004998980565779782), (210, 0.0049983948748179045), (3095, 0.004979137266670533), (2254, 0.004976814478104949), (3451, 0.004970970506177273), (21, 0.004959607973428345), (1732, 0.004956849643708516), (1141, 0.0049562987490696575), (4231, 0.004947306060566062), (1779, 0.004937716223504642), (3710, 0.004930527347011129), (208, 0.0049237916349627155), (1099, 0.004917817162318142), (2819, 0.0049130217595294585), (4384, 0.004912225596712474), (3483, 0.004910456750499722), (2714, 0.004908360127668595), (1484, 0.004905873979332324), (4123, 0.004896930242440292), (976, 0.004888249362862973), (4474, 0.004883240977708552), (2959, 0.004882334245870325), (51, 0.0048795210478645), (667, 0.004875985976470344), (4178, 0.004869791923146389), (716, 0.004863379001505367), (429, 0.004860550219948187), (4430, 0.004855750689413081), (3862, 0.004843707261543338), (482, 0.004840811161902272), (879, 0.004838553917762305), (1024, 0.0048304285861455794), (543, 0.0048303413062176555), (4586, 0.004829302838735244), (34, 0.0048259616046262945), (793, 0.004816532083513082), (3349, 0.004811640235982219), (4275, 0.0048086952757837595), (1542, 0.004801756274107511), (584, 0.0047988446700313915), (980, 0.00479329725921936), (2919, 0.0047911015377588885), (1629, 0.004787366326243073), (4249, 0.004785252938254308), (118, 0.004758693621731145), (4098, 0.004753961529295215), (2947, 0.004753519360316571), (1901, 0.004753112339172731), (4088, 0.004752818995824665), (652, 0.004743768186720276), (3571, 0.004742432861502988), (1174, 0.004741235540953529), (1761, 0.00473945986479135), (1832, 0.004736644989453226), (1337, 0.00473291370373399), (406, 0.004731801757821714), (1740, 0.00473103714688265), (238, 0.0047302391341226095), (2960, 0.0047302379526884064), (3404, 0.004718619738834435), (1942, 0.004718483539831421), (3501, 0.004714297742995447), (1302, 0.004703851452094479), (2374, 0.004700248675831673), (1138, 0.004691469322854202), (636, 0.004683819541248061), (3210, 0.00467810740024068), (1232, 0.00467358666285043), (2606, 0.004669840844552609), (4103, 0.004662907232079456), (2506, 0.004652869593222478), (4715, 0.004649775368241334), (1488, 0.004649471098015512), (2344, 0.0046474505050516325), (1385, 0.004643643256256427), (761, 0.004638499242410863), (2558, 0.0046384211789039734), (849, 0.004634751301210985), (986, 0.004634270231895263), (1455, 0.004632174840923217), (370, 0.004630298002613094), (2336, 0.004611779047906355), (4248, 0.0046103458699038365), (4000, 0.004600220775499136), (3727, 0.004598347582921002), (3553, 0.004596493659124379), (1012, 0.004594372912394798), (1226, 0.004591116768398374), (534, 0.004580595279004704), (3443, 0.004574481172826044), (1621, 0.004572055862097514), (3814, 0.004561738108352682), (3602, 0.004560176480240461), (2069, 0.004556726759622285), (3499, 0.00455612735668638), (4362, 0.0045411307097363565), (1406, 0.004532709742691264), (4039, 0.004520986196600166), (1017, 0.004507859971798923), (329, 0.004499036359795093), (1671, 0.004490188672149037), (1030, 0.004489358712366903), (1481, 0.004488764854073396), (1063, 0.004481055229703266), (3660, 0.0044724017047808136), (2918, 0.004468169648637576), (3582, 0.004467834587942284), (3156, 0.004466910452022522), (2024, 0.004441145135881228), (2206, 0.004433010641797052), (3498, 0.004431236208148052), (3085, 0.004430561055456877), (3978, 0.004423639995156209), (2121, 0.004415267124096032), (3035, 0.004415159056474624), (2787, 0.004410014958690201), (144, 0.004407381178002505), (116, 0.004377183783503345), (276, 0.0043729394780157695), (1181, 0.004366440863237782), (3466, 0.004366071327107136), (694, 0.004361267784634603), (1665, 0.0043424225368878504), (900, 0.004336282089481313), (3136, 0.004325565346517634), (1107, 0.0043150547369403495), (868, 0.0043060265523833016), (1183, 0.0043048122956666195), (3775, 0.004303883729650009), (2119, 0.0043023321080799815), (2429, 0.004299126612428909), (1519, 0.004288723189278168), (1760, 0.004287955191615834), (1448, 0.004285369860392825), (1789, 0.0042826170476340675), (304, 0.004275813128985404), (3460, 0.00426470866593939), (4235, 0.004249413244729057), (4322, 0.004246418712874876), (910, 0.004245439666221017), (1065, 0.004238937702939714), (1796, 0.004231571421870651), (199, 0.004228826642795022), (2803, 0.0042205981894896105), (1236, 0.004217762235263361), (1680, 0.00421204300242445), (1892, 0.004211344156760318), (581, 0.004179409842323721), (3070, 0.004142844823278647), (1414, 0.004137498660767125), (1694, 0.004117739937927525), (47, 0.004116557455580355), (4661, 0.004111024210391271), (200, 0.0040979982432511695), (519, 0.0040949411049097705), (4432, 0.004059351685087267), (4553, 0.004055298319308356), (1348, 0.004039758164159421), (2692, 0.00402731300929992), (147, 0.004012457335727795), (3339, 0.0039912166363556935), (3065, 0.003939333275393778), (2197, 0.003922577092974366), (3806, 0.003912569219584061), (3213, 0.0038876456412102567), (16, 0.0038655572975935188), (2602, 0.0038482210353862323), (3756, 0.0037936394628358965), (290, 0.0037845297762267517), (295, 0.003782196131641797), (435, 0.003760671161084861), (1303, 0.0037392726213741814), (2524, 0.0037371261085324937), (1989, 0.0037250280987042458), (1576, 0.0037147650426890473), (2917, 0.0036530053840672957), (1417, 0.0036202509906142007), (3946, 0.0035965740500538148), (1774, 0.0035411661747215316), (296, 0.003475939938569238), (332, 0.003472638037975383), (831, 0.00327409694336624), (3429, 0.0031532586575571866), (4, 0.0), (8, 0.0), (17, 0.0), (20, 0.0), (23, 0.0), (26, 0.0), (32, 0.0), (40, 0.0), (41, 0.0), (50, 0.0), (59, 0.0), (61, 0.0), (62, 0.0), (63, 0.0), (85, 0.0), (103, 0.0), (109, 0.0), (114, 0.0), (120, 0.0), (126, 0.0), (134, 0.0), (139, 0.0), (140, 0.0), (157, 0.0), (174, 0.0), (180, 0.0), (181, 0.0), (185, 0.0), (197, 0.0), (224, 0.0), (245, 0.0), (246, 0.0), (247, 0.0), (256, 0.0), (267, 0.0), (278, 0.0), (286, 0.0), (300, 0.0), (308, 0.0), (312, 0.0), (318, 0.0), (326, 0.0), (358, 0.0), (363, 0.0), (365, 0.0), (383, 0.0), (393, 0.0), (395, 0.0), (398, 0.0), (400, 0.0), (401, 0.0), (422, 0.0), (437, 0.0), (461, 0.0), (473, 0.0), (474, 0.0), (476, 0.0), (478, 0.0), (489, 0.0), (490, 0.0), (499, 0.0), (505, 0.0), (526, 0.0), (527, 0.0), (539, 0.0), (541, 0.0), (564, 0.0), (570, 0.0), (574, 0.0), (582, 0.0), (589, 0.0), (592, 0.0), (593, 0.0), (596, 0.0), (598, 0.0), (611, 0.0), (627, 0.0), (632, 0.0), (646, 0.0), (649, 0.0), (650, 0.0), (651, 0.0), (671, 0.0), (672, 0.0), (693, 0.0), (708, 0.0), (714, 0.0), (715, 0.0), (718, 0.0), (720, 0.0), (721, 0.0), (741, 0.0), (754, 0.0), (755, 0.0), (759, 0.0), (766, 0.0), (771, 0.0), (772, 0.0), (774, 0.0), (784, 0.0), (791, 0.0), (795, 0.0), (815, 0.0), (816, 0.0), (818, 0.0), (819, 0.0), (823, 0.0), (826, 0.0), (836, 0.0), (838, 0.0), (844, 0.0), (848, 0.0), (851, 0.0), (867, 0.0), (869, 0.0), (873, 0.0), (884, 0.0), (889, 0.0), (901, 0.0), (906, 0.0), (917, 0.0), (922, 0.0), (933, 0.0), (940, 0.0), (941, 0.0), (943, 0.0), (951, 0.0), (954, 0.0), (958, 0.0), (972, 0.0), (975, 0.0), (985, 0.0), (990, 0.0), (994, 0.0), (998, 0.0), (999, 0.0), (1004, 0.0), (1020, 0.0), (1021, 0.0), (1023, 0.0), (1032, 0.0), (1037, 0.0), (1040, 0.0), (1049, 0.0), (1050, 0.0), (1067, 0.0), (1070, 0.0), (1072, 0.0), (1073, 0.0), (1075, 0.0), (1085, 0.0), (1093, 0.0), (1094, 0.0), (1096, 0.0), (1098, 0.0), (1110, 0.0), (1112, 0.0), (1125, 0.0), (1126, 0.0), (1128, 0.0), (1142, 0.0), (1145, 0.0), (1147, 0.0), (1152, 0.0), (1156, 0.0), (1159, 0.0), (1160, 0.0), (1161, 0.0), (1166, 0.0), (1169, 0.0), (1172, 0.0), (1175, 0.0), (1176, 0.0), (1182, 0.0), (1187, 0.0), (1193, 0.0), (1198, 0.0), (1209, 0.0), (1227, 0.0), (1228, 0.0), (1231, 0.0), (1235, 0.0), (1240, 0.0), (1243, 0.0), (1247, 0.0), (1251, 0.0), (1258, 0.0), (1260, 0.0), (1264, 0.0), (1283, 0.0), (1289, 0.0), (1299, 0.0), (1311, 0.0), (1313, 0.0), (1316, 0.0), (1320, 0.0), (1323, 0.0), (1327, 0.0), (1328, 0.0), (1333, 0.0), (1350, 0.0), (1355, 0.0), (1362, 0.0), (1363, 0.0), (1370, 0.0), (1372, 0.0), (1386, 0.0), (1388, 0.0), (1397, 0.0), (1399, 0.0), (1410, 0.0), (1415, 0.0), (1423, 0.0), (1424, 0.0), (1438, 0.0), (1440, 0.0), (1444, 0.0), (1445, 0.0), (1450, 0.0), (1460, 0.0), (1466, 0.0), (1470, 0.0), (1473, 0.0), (1479, 0.0), (1485, 0.0), (1490, 0.0), (1491, 0.0), (1497, 0.0), (1499, 0.0), (1504, 0.0), (1513, 0.0), (1514, 0.0), (1516, 0.0), (1527, 0.0), (1533, 0.0), (1540, 0.0), (1544, 0.0), (1545, 0.0), (1547, 0.0), (1552, 0.0), (1570, 0.0), (1585, 0.0), (1593, 0.0), (1596, 0.0), (1598, 0.0), (1604, 0.0), (1605, 0.0), (1607, 0.0), (1611, 0.0), (1612, 0.0), (1615, 0.0), (1618, 0.0), (1625, 0.0), (1628, 0.0), (1638, 0.0), (1644, 0.0), (1655, 0.0), (1658, 0.0), (1670, 0.0), (1676, 0.0), (1685, 0.0), (1690, 0.0), (1693, 0.0), (1697, 0.0), (1703, 0.0), (1705, 0.0), (1708, 0.0), (1712, 0.0), (1715, 0.0), (1717, 0.0), (1720, 0.0), (1721, 0.0), (1722, 0.0), (1727, 0.0), (1728, 0.0), (1730, 0.0), (1731, 0.0), (1734, 0.0), (1735, 0.0), (1765, 0.0), (1766, 0.0), (1771, 0.0), (1775, 0.0), (1785, 0.0), (1786, 0.0), (1790, 0.0), (1801, 0.0), (1814, 0.0), (1822, 0.0), (1830, 0.0), (1831, 0.0), (1834, 0.0), (1837, 0.0), (1839, 0.0), (1842, 0.0), (1843, 0.0), (1844, 0.0), (1856, 0.0), (1860, 0.0), (1861, 0.0), (1868, 0.0), (1872, 0.0), (1874, 0.0), (1879, 0.0), (1880, 0.0), (1884, 0.0), (1885, 0.0), (1889, 0.0), (1890, 0.0), (1894, 0.0), (1898, 0.0), (1905, 0.0), (1906, 0.0), (1909, 0.0), (1917, 0.0), (1921, 0.0), (1922, 0.0), (1944, 0.0), (1945, 0.0), (1947, 0.0), (1955, 0.0), (1956, 0.0), (1972, 0.0), (1980, 0.0), (1995, 0.0), (2002, 0.0), (2010, 0.0), (2011, 0.0), (2028, 0.0), (2030, 0.0), (2048, 0.0), (2049, 0.0), (2050, 0.0), (2052, 0.0), (2063, 0.0), (2067, 0.0), (2068, 0.0), (2077, 0.0), (2080, 0.0), (2081, 0.0), (2083, 0.0), (2085, 0.0), (2087, 0.0), (2092, 0.0), (2095, 0.0), (2097, 0.0), (2098, 0.0), (2105, 0.0), (2108, 0.0), (2116, 0.0), (2123, 0.0), (2134, 0.0), (2138, 0.0), (2141, 0.0), (2142, 0.0), (2148, 0.0), (2151, 0.0), (2162, 0.0), (2164, 0.0), (2165, 0.0), (2171, 0.0), (2172, 0.0), (2173, 0.0), (2179, 0.0), (2185, 0.0), (2186, 0.0), (2189, 0.0), (2199, 0.0), (2200, 0.0), (2207, 0.0), (2209, 0.0), (2212, 0.0), (2223, 0.0), (2225, 0.0), (2228, 0.0), (2238, 0.0), (2243, 0.0), (2247, 0.0), (2248, 0.0), (2251, 0.0), (2253, 0.0), (2256, 0.0), (2257, 0.0), (2260, 0.0), (2261, 0.0), (2266, 0.0), (2267, 0.0), (2270, 0.0), (2282, 0.0), (2288, 0.0), (2289, 0.0), (2292, 0.0), (2298, 0.0), (2299, 0.0), (2302, 0.0), (2305, 0.0), (2306, 0.0), (2307, 0.0), (2308, 0.0), (2310, 0.0), (2312, 0.0), (2324, 0.0), (2325, 0.0), (2332, 0.0), (2333, 0.0), (2335, 0.0), (2340, 0.0), (2341, 0.0), (2342, 0.0), (2346, 0.0), (2349, 0.0), (2356, 0.0), (2358, 0.0), (2361, 0.0), (2362, 0.0), (2364, 0.0), (2365, 0.0), (2370, 0.0), (2379, 0.0), (2381, 0.0), (2384, 0.0), (2386, 0.0), (2388, 0.0), (2390, 0.0), (2392, 0.0), (2394, 0.0), (2395, 0.0), (2407, 0.0), (2417, 0.0), (2420, 0.0), (2423, 0.0), (2424, 0.0), (2425, 0.0), (2426, 0.0), (2433, 0.0), (2435, 0.0), (2437, 0.0), (2438, 0.0), (2440, 0.0), (2455, 0.0), (2462, 0.0), (2464, 0.0), (2466, 0.0), (2467, 0.0), (2469, 0.0), (2472, 0.0), (2473, 0.0), (2475, 0.0), (2478, 0.0), (2489, 0.0), (2490, 0.0), (2495, 0.0), (2499, 0.0), (2508, 0.0), (2515, 0.0), (2516, 0.0), (2529, 0.0), (2533, 0.0), (2536, 0.0), (2537, 0.0), (2543, 0.0), (2545, 0.0), (2548, 0.0), (2551, 0.0), (2556, 0.0), (2557, 0.0), (2559, 0.0), (2561, 0.0), (2566, 0.0), (2569, 0.0), (2570, 0.0), (2572, 0.0), (2574, 0.0), (2577, 0.0), (2583, 0.0), (2585, 0.0), (2586, 0.0), (2591, 0.0), (2592, 0.0), (2593, 0.0), (2594, 0.0), (2597, 0.0), (2600, 0.0), (2614, 0.0), (2620, 0.0), (2623, 0.0), (2628, 0.0), (2629, 0.0), (2634, 0.0), (2635, 0.0), (2639, 0.0), (2641, 0.0), (2643, 0.0), (2649, 0.0), (2651, 0.0), (2652, 0.0), (2657, 0.0), (2658, 0.0), (2659, 0.0), (2664, 0.0), (2667, 0.0), (2669, 0.0), (2670, 0.0), (2674, 0.0), (2676, 0.0), (2677, 0.0), (2678, 0.0), (2679, 0.0), (2693, 0.0), (2694, 0.0), (2696, 0.0), (2701, 0.0), (2702, 0.0), (2704, 0.0), (2705, 0.0), (2707, 0.0), (2717, 0.0), (2718, 0.0), (2723, 0.0), (2726, 0.0), (2737, 0.0), (2741, 0.0), (2743, 0.0), (2744, 0.0), (2745, 0.0), (2746, 0.0), (2747, 0.0), (2748, 0.0), (2758, 0.0), (2762, 0.0), (2764, 0.0), (2767, 0.0), (2772, 0.0), (2775, 0.0), (2783, 0.0), (2796, 0.0), (2797, 0.0), (2799, 0.0), (2806, 0.0), (2810, 0.0), (2823, 0.0), (2825, 0.0), (2832, 0.0), (2833, 0.0), (2836, 0.0), (2849, 0.0), (2853, 0.0), (2858, 0.0), (2861, 0.0), (2864, 0.0), (2866, 0.0), (2869, 0.0), (2872, 0.0), (2875, 0.0), (2876, 0.0), (2880, 0.0), (2883, 0.0), (2885, 0.0), (2886, 0.0), (2888, 0.0), (2889, 0.0), (2890, 0.0), (2891, 0.0), (2893, 0.0), (2895, 0.0), (2896, 0.0), (2901, 0.0), (2902, 0.0), (2905, 0.0), (2907, 0.0), (2909, 0.0), (2914, 0.0), (2915, 0.0), (2916, 0.0), (2922, 0.0), (2923, 0.0), (2924, 0.0), (2926, 0.0), (2928, 0.0), (2930, 0.0), (2934, 0.0), (2941, 0.0), (2943, 0.0), (2945, 0.0), (2946, 0.0), (2967, 0.0), (2970, 0.0), (2971, 0.0), (2973, 0.0), (2974, 0.0), (2976, 0.0), (2980, 0.0), (2986, 0.0), (2987, 0.0), (2990, 0.0), (2997, 0.0), (2999, 0.0), (3003, 0.0), (3006, 0.0), (3007, 0.0), (3008, 0.0), (3009, 0.0), (3015, 0.0), (3017, 0.0), (3020, 0.0), (3029, 0.0), (3030, 0.0), (3031, 0.0), (3034, 0.0), (3036, 0.0), (3037, 0.0), (3038, 0.0), (3041, 0.0), (3042, 0.0), (3050, 0.0), (3052, 0.0), (3054, 0.0), (3055, 0.0), (3058, 0.0), (3061, 0.0), (3062, 0.0), (3067, 0.0), (3072, 0.0), (3074, 0.0), (3075, 0.0), (3076, 0.0), (3077, 0.0), (3078, 0.0), (3081, 0.0), (3087, 0.0), (3088, 0.0), (3093, 0.0), (3097, 0.0), (3101, 0.0), (3102, 0.0), (3104, 0.0), (3107, 0.0), (3116, 0.0), (3119, 0.0), (3138, 0.0), (3146, 0.0), (3148, 0.0), (3155, 0.0), (3157, 0.0), (3159, 0.0), (3165, 0.0), (3170, 0.0), (3171, 0.0), (3176, 0.0), (3178, 0.0), (3182, 0.0), (3186, 0.0), (3194, 0.0), (3197, 0.0), (3198, 0.0), (3202, 0.0), (3203, 0.0), (3207, 0.0), (3212, 0.0), (3214, 0.0), (3216, 0.0), (3217, 0.0), (3223, 0.0), (3236, 0.0), (3239, 0.0), (3241, 0.0), (3245, 0.0), (3248, 0.0), (3249, 0.0), (3251, 0.0), (3255, 0.0), (3257, 0.0), (3258, 0.0), (3261, 0.0), (3262, 0.0), (3266, 0.0), (3268, 0.0), (3273, 0.0), (3274, 0.0), (3282, 0.0), (3285, 0.0), (3290, 0.0), (3291, 0.0), (3296, 0.0), (3309, 0.0), (3310, 0.0), (3319, 0.0), (3322, 0.0), (3324, 0.0), (3333, 0.0), (3340, 0.0), (3341, 0.0), (3346, 0.0), (3347, 0.0), (3350, 0.0), (3353, 0.0), (3354, 0.0), (3357, 0.0), (3358, 0.0), (3359, 0.0), (3369, 0.0), (3372, 0.0), (3373, 0.0), (3382, 0.0), (3383, 0.0), (3395, 0.0), (3396, 0.0), (3402, 0.0), (3406, 0.0), (3415, 0.0), (3417, 0.0), (3419, 0.0), (3425, 0.0), (3428, 0.0), (3431, 0.0), (3434, 0.0), (3442, 0.0), (3455, 0.0), (3472, 0.0), (3479, 0.0), (3482, 0.0), (3485, 0.0), (3489, 0.0), (3490, 0.0), (3493, 0.0), (3496, 0.0), (3500, 0.0), (3508, 0.0), (3510, 0.0), (3519, 0.0), (3523, 0.0), (3527, 0.0), (3533, 0.0), (3537, 0.0), (3543, 0.0), (3544, 0.0), (3545, 0.0), (3552, 0.0), (3554, 0.0), (3560, 0.0), (3561, 0.0), (3565, 0.0), (3573, 0.0), (3574, 0.0), (3581, 0.0), (3590, 0.0), (3591, 0.0), (3600, 0.0), (3601, 0.0), (3608, 0.0), (3613, 0.0), (3614, 0.0), (3615, 0.0), (3617, 0.0), (3620, 0.0), (3621, 0.0), (3622, 0.0), (3629, 0.0), (3631, 0.0), (3636, 0.0), (3647, 0.0), (3649, 0.0), (3662, 0.0), (3663, 0.0), (3669, 0.0), (3671, 0.0), (3672, 0.0), (3676, 0.0), (3682, 0.0), (3686, 0.0), (3687, 0.0), (3697, 0.0), (3700, 0.0), (3703, 0.0), (3707, 0.0), (3717, 0.0), (3719, 0.0), (3725, 0.0), (3726, 0.0), (3729, 0.0), (3733, 0.0), (3749, 0.0), (3755, 0.0), (3757, 0.0), (3760, 0.0), (3761, 0.0), (3762, 0.0), (3763, 0.0), (3764, 0.0), (3767, 0.0), (3770, 0.0), (3781, 0.0), (3785, 0.0), (3789, 0.0), (3791, 0.0), (3795, 0.0), (3796, 0.0), (3799, 0.0), (3800, 0.0), (3804, 0.0), (3805, 0.0), (3808, 0.0), (3820, 0.0), (3827, 0.0), (3832, 0.0), (3836, 0.0), (3837, 0.0), (3838, 0.0), (3842, 0.0), (3847, 0.0), (3848, 0.0), (3851, 0.0), (3861, 0.0), (3863, 0.0), (3864, 0.0), (3878, 0.0), (3879, 0.0), (3880, 0.0), (3885, 0.0), (3887, 0.0), (3892, 0.0), (3893, 0.0), (3896, 0.0), (3898, 0.0), (3899, 0.0), (3902, 0.0), (3904, 0.0), (3911, 0.0), (3918, 0.0), (3922, 0.0), (3925, 0.0), (3931, 0.0), (3934, 0.0), (3936, 0.0), (3945, 0.0), (3948, 0.0), (3949, 0.0), (3950, 0.0), (3952, 0.0), (3953, 0.0), (3956, 0.0), (3958, 0.0), (3962, 0.0), (3964, 0.0), (3967, 0.0), (3973, 0.0), (3976, 0.0), (3981, 0.0), (3987, 0.0), (3988, 0.0), (3990, 0.0), (3991, 0.0), (3992, 0.0), (3996, 0.0), (3999, 0.0), (4010, 0.0), (4017, 0.0), (4019, 0.0), (4020, 0.0), (4024, 0.0), (4026, 0.0), (4027, 0.0), (4030, 0.0), (4034, 0.0), (4036, 0.0), (4042, 0.0), (4048, 0.0), (4049, 0.0), (4052, 0.0), (4053, 0.0), (4056, 0.0), (4058, 0.0), (4065, 0.0), (4066, 0.0), (4067, 0.0), (4069, 0.0), (4072, 0.0), (4080, 0.0), (4083, 0.0), (4084, 0.0), (4094, 0.0), (4102, 0.0), (4104, 0.0), (4105, 0.0), (4107, 0.0), (4111, 0.0), (4125, 0.0), (4126, 0.0), (4129, 0.0), (4130, 0.0), (4131, 0.0), (4132, 0.0), (4138, 0.0), (4141, 0.0), (4142, 0.0), (4145, 0.0), (4151, 0.0), (4160, 0.0), (4170, 0.0), (4172, 0.0), (4177, 0.0), (4179, 0.0), (4184, 0.0), (4190, 0.0), (4196, 0.0), (4198, 0.0), (4200, 0.0), (4202, 0.0), (4206, 0.0), (4212, 0.0), (4220, 0.0), (4221, 0.0), (4222, 0.0), (4223, 0.0), (4225, 0.0), (4228, 0.0), (4229, 0.0), (4230, 0.0), (4232, 0.0), (4233, 0.0), (4234, 0.0), (4237, 0.0), (4243, 0.0), (4245, 0.0), (4246, 0.0), (4253, 0.0), (4254, 0.0), (4256, 0.0), (4258, 0.0), (4260, 0.0), (4263, 0.0), (4270, 0.0), (4273, 0.0), (4291, 0.0), (4293, 0.0), (4295, 0.0), (4296, 0.0), (4301, 0.0), (4303, 0.0), (4304, 0.0), (4305, 0.0), (4306, 0.0), (4308, 0.0), (4311, 0.0), (4315, 0.0), (4317, 0.0), (4318, 0.0), (4323, 0.0), (4324, 0.0), (4326, 0.0), (4335, 0.0), (4336, 0.0), (4341, 0.0), (4349, 0.0), (4355, 0.0), (4357, 0.0), (4358, 0.0), (4359, 0.0), (4367, 0.0), (4369, 0.0), (4370, 0.0), (4381, 0.0), (4386, 0.0), (4390, 0.0), (4393, 0.0), (4396, 0.0), (4400, 0.0), (4408, 0.0), (4413, 0.0), (4415, 0.0), (4416, 0.0), (4417, 0.0), (4418, 0.0), (4421, 0.0), (4422, 0.0), (4424, 0.0), (4425, 0.0), (4429, 0.0), (4433, 0.0), (4439, 0.0), (4452, 0.0), (4455, 0.0), (4457, 0.0), (4458, 0.0), (4461, 0.0), (4469, 0.0), (4484, 0.0), (4489, 0.0), (4491, 0.0), (4496, 0.0), (4498, 0.0), (4500, 0.0), (4502, 0.0), (4505, 0.0), (4506, 0.0), (4508, 0.0), (4509, 0.0), (4519, 0.0), (4520, 0.0), (4521, 0.0), (4526, 0.0), (4529, 0.0), (4530, 0.0), (4544, 0.0), (4557, 0.0), (4559, 0.0), (4560, 0.0), (4561, 0.0), (4566, 0.0), (4572, 0.0), (4573, 0.0), (4577, 0.0), (4578, 0.0), (4580, 0.0), (4597, 0.0), (4603, 0.0), (4605, 0.0), (4608, 0.0), (4611, 0.0), (4616, 0.0), (4617, 0.0), (4619, 0.0), (4620, 0.0), (4625, 0.0), (4627, 0.0), (4631, 0.0), (4632, 0.0), (4633, 0.0), (4640, 0.0), (4643, 0.0), (4644, 0.0), (4648, 0.0), (4651, 0.0), (4655, 0.0), (4656, 0.0), (4657, 0.0), (4662, 0.0), (4667, 0.0), (4671, 0.0), (4680, 0.0), (4681, 0.0), (4690, 0.0), (4692, 0.0), (4693, 0.0), (4700, 0.0), (4702, 0.0), (4704, 0.0), (4705, 0.0), (4707, 0.0), (4711, 0.0), (4713, 0.0), (4717, 0.0), (4718, 0.0), (4719, 0.0), (4722, 0.0), (4723, 0.0), (4726, 0.0), (4729, 0.0), (4734, 0.0), (4737, 0.0), (4738, 0.0), (4740, 0.0), (4742, 0.0), (4744, 0.0), (4749, 0.0), (4753, 0.0), (4754, 0.0), (4758, 0.0), (4759, 0.0)]\n"
          ]
        }
      ]
    },
    {
      "cell_type": "code",
      "source": [
        "#  print the name of similar movies based on the index\n",
        "print(\"Top 30 Movies suggested for you: \\n\")\n",
        "i=1\n",
        "for movie in sorted_similar_movies:\n",
        "  index=movie[0]\n",
        "  title_from_index = movie_list[movie_list.index==index]['Movie_Title'].values[0]\n",
        "  if i<31:\n",
        "    print(i,'.',title_from_index)\n",
        "    i=i+1"
      ],
      "metadata": {
        "colab": {
          "base_uri": "https://localhost:8080/"
        },
        "id": "D47-PIChXQA1",
        "outputId": "6a15b6e0-c005-4a0c-f060-7f282a8cdd94"
      },
      "execution_count": null,
      "outputs": [
        {
          "output_type": "stream",
          "name": "stdout",
          "text": [
            "Top 30 Movies suggested for you: \n",
            "\n",
            "1 . The Dead Zone\n",
            "2 . Superman IV: The Quest for Peace\n",
            "3 . Split Second\n",
            "4 . Wall Street\n",
            "5 . Firestarter\n",
            "6 . Medicine Man\n",
            "7 . Jack Reacher\n",
            "8 . Quigley Down Under\n",
            "9 . The Terminator\n",
            "10 . The Silence of the Lambs\n",
            "11 . The Death and Life of Bobby Z\n",
            "12 . A.I. Artificial Intelligence\n",
            "13 . The Last Dragon\n",
            "14 . Envy\n",
            "15 . 28 Days Later\n",
            "16 . Roadside\n",
            "17 . Sugar Hill\n",
            "18 . The Color of Money\n",
            "19 . Housefull\n",
            "20 . Carrie\n",
            "21 . The Chronicles of Riddick\n",
            "22 . The Night Visitor\n",
            "23 . Kangaroo Jack\n",
            "24 . Man on Fire\n",
            "25 . Trippin'\n",
            "26 . Gamer\n",
            "27 . Good Luck Chuck\n",
            "28 . Jason X\n",
            "29 . Finding Forrester\n",
            "30 . Max Payne\n"
          ]
        }
      ]
    },
    {
      "cell_type": "markdown",
      "source": [
        "Explaination\n",
        "\n",
        "We have make a data of similar words in ur movie recommendation data using tfidf library term frequency inverse document frequency\n",
        "\n",
        "We have created an array of words which is similar using cosine_similarity()\n",
        "\n",
        "By using difflib libraray we are getting the user input movie index and after that we are getting a list of similar elements\n",
        "\n",
        "Sort the movies based on their similarity_score\n",
        "\n",
        "Print the name of similar movies based on the index"
      ],
      "metadata": {
        "id": "usjqNjFZXVcS"
      }
    }
  ]
}